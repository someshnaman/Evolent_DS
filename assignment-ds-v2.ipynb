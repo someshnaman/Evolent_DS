{
 "cells": [
  {
   "cell_type": "code",
   "execution_count": 1,
   "id": "4e656697",
   "metadata": {
    "_cell_guid": "b1076dfc-b9ad-4769-8c92-a6c4dae69d19",
    "_uuid": "8f2839f25d086af736a60e9eeb907d3b93b6e0e5",
    "execution": {
     "iopub.execute_input": "2023-10-26T17:02:35.903378Z",
     "iopub.status.busy": "2023-10-26T17:02:35.902918Z",
     "iopub.status.idle": "2023-10-26T17:02:36.349212Z",
     "shell.execute_reply": "2023-10-26T17:02:36.347550Z"
    },
    "papermill": {
     "duration": 0.48182,
     "end_time": "2023-10-26T17:02:36.352295",
     "exception": false,
     "start_time": "2023-10-26T17:02:35.870475",
     "status": "completed"
    },
    "tags": []
   },
   "outputs": [
    {
     "name": "stdout",
     "output_type": "stream",
     "text": [
      "/kaggle/input/superheroes-nlp-dataset/superheroes_nlp_dataset.csv\n"
     ]
    }
   ],
   "source": [
    "# This Python 3 environment comes with many helpful analytics libraries installed\n",
    "# It is defined by the kaggle/python Docker image: https://github.com/kaggle/docker-python\n",
    "# For example, here's several helpful packages to load\n",
    "\n",
    "import numpy as np # linear algebra\n",
    "import pandas as pd # data processing, CSV file I/O (e.g. pd.read_csv)\n",
    "\n",
    "# Input data files are available in the read-only \"../input/\" directory\n",
    "# For example, running this (by clicking run or pressing Shift+Enter) will list all files under the input directory\n",
    "\n",
    "import os\n",
    "for dirname, _, filenames in os.walk('/kaggle/input'):\n",
    "    for filename in filenames:\n",
    "        print(os.path.join(dirname, filename))\n",
    "\n",
    "# You can write up to 20GB to the current directory (/kaggle/working/) that gets preserved as output when you create a version using \"Save & Run All\" \n",
    "# You can also write temporary files to /kaggle/temp/, but they won't be saved outside of the current session"
   ]
  },
  {
   "cell_type": "markdown",
   "id": "9a7c4116",
   "metadata": {
    "papermill": {
     "duration": 0.029076,
     "end_time": "2023-10-26T17:02:36.411563",
     "exception": false,
     "start_time": "2023-10-26T17:02:36.382487",
     "status": "completed"
    },
    "tags": []
   },
   "source": [
    "## Before Starting anything let's first Install and import the important libraries With the help of which we'll explore and visualise about the dataset first."
   ]
  },
  {
   "cell_type": "code",
   "execution_count": 2,
   "id": "9d6b7c00",
   "metadata": {
    "execution": {
     "iopub.execute_input": "2023-10-26T17:02:36.476016Z",
     "iopub.status.busy": "2023-10-26T17:02:36.475109Z",
     "iopub.status.idle": "2023-10-26T17:03:25.322465Z",
     "shell.execute_reply": "2023-10-26T17:03:25.320129Z"
    },
    "papermill": {
     "duration": 48.882601,
     "end_time": "2023-10-26T17:03:25.325893",
     "exception": false,
     "start_time": "2023-10-26T17:02:36.443292",
     "status": "completed"
    },
    "tags": []
   },
   "outputs": [
    {
     "name": "stdout",
     "output_type": "stream",
     "text": [
      "Requirement already satisfied: plotly in /opt/conda/lib/python3.10/site-packages (5.15.0)\r\n",
      "Requirement already satisfied: tenacity>=6.2.0 in /opt/conda/lib/python3.10/site-packages (from plotly) (8.2.2)\r\n",
      "Requirement already satisfied: packaging in /opt/conda/lib/python3.10/site-packages (from plotly) (21.3)\r\n",
      "Requirement already satisfied: pyparsing!=3.0.5,>=2.0.2 in /opt/conda/lib/python3.10/site-packages (from packaging->plotly) (3.0.9)\r\n",
      "Requirement already satisfied: gensim in /opt/conda/lib/python3.10/site-packages (4.3.2)\r\n",
      "Requirement already satisfied: numpy>=1.18.5 in /opt/conda/lib/python3.10/site-packages (from gensim) (1.23.5)\r\n",
      "Requirement already satisfied: scipy>=1.7.0 in /opt/conda/lib/python3.10/site-packages (from gensim) (1.11.2)\r\n",
      "Requirement already satisfied: smart-open>=1.8.1 in /opt/conda/lib/python3.10/site-packages (from gensim) (6.3.0)\r\n",
      "Requirement already satisfied: nltk in /opt/conda/lib/python3.10/site-packages (3.2.4)\r\n",
      "Requirement already satisfied: six in /opt/conda/lib/python3.10/site-packages (from nltk) (1.16.0)\r\n"
     ]
    }
   ],
   "source": [
    "!pip install plotly\n",
    "!pip install gensim\n",
    "!pip install nltk"
   ]
  },
  {
   "cell_type": "code",
   "execution_count": 3,
   "id": "bd254269",
   "metadata": {
    "execution": {
     "iopub.execute_input": "2023-10-26T17:03:25.388077Z",
     "iopub.status.busy": "2023-10-26T17:03:25.387528Z",
     "iopub.status.idle": "2023-10-26T17:03:30.161970Z",
     "shell.execute_reply": "2023-10-26T17:03:30.160304Z"
    },
    "papermill": {
     "duration": 4.808993,
     "end_time": "2023-10-26T17:03:30.164861",
     "exception": false,
     "start_time": "2023-10-26T17:03:25.355868",
     "status": "completed"
    },
    "tags": []
   },
   "outputs": [
    {
     "data": {
      "text/html": [
       "        <script type=\"text/javascript\">\n",
       "        window.PlotlyConfig = {MathJaxConfig: 'local'};\n",
       "        if (window.MathJax && window.MathJax.Hub && window.MathJax.Hub.Config) {window.MathJax.Hub.Config({SVG: {font: \"STIX-Web\"}});}\n",
       "        if (typeof require !== 'undefined') {\n",
       "        require.undef(\"plotly\");\n",
       "        requirejs.config({\n",
       "            paths: {\n",
       "                'plotly': ['https://cdn.plot.ly/plotly-2.24.1.min']\n",
       "            }\n",
       "        });\n",
       "        require(['plotly'], function(Plotly) {\n",
       "            window._Plotly = Plotly;\n",
       "        });\n",
       "        }\n",
       "        </script>\n",
       "        "
      ]
     },
     "metadata": {},
     "output_type": "display_data"
    }
   ],
   "source": [
    "import pandas as pd\n",
    "import numpy as np\n",
    "import seaborn as sns\n",
    "import matplotlib.pyplot as plt\n",
    "# for interative charts we'll use plotly\n",
    "import plotly.offline as py\n",
    "import plotly.graph_objs as go\n",
    "from plotly.offline import download_plotlyjs, init_notebook_mode, plot, iplot\n",
    "import plotly.tools as tls\n",
    "import plotly.figure_factory as ff\n",
    "py.init_notebook_mode(connected=True)"
   ]
  },
  {
   "cell_type": "markdown",
   "id": "9a9c1d6d",
   "metadata": {
    "papermill": {
     "duration": 0.134276,
     "end_time": "2023-10-26T17:03:30.330829",
     "exception": false,
     "start_time": "2023-10-26T17:03:30.196553",
     "status": "completed"
    },
    "tags": []
   },
   "source": [
    "## **Let's Import the dataset to our notebook first**"
   ]
  },
  {
   "cell_type": "code",
   "execution_count": 4,
   "id": "b51531b9",
   "metadata": {
    "execution": {
     "iopub.execute_input": "2023-10-26T17:03:30.395427Z",
     "iopub.status.busy": "2023-10-26T17:03:30.394694Z",
     "iopub.status.idle": "2023-10-26T17:03:30.726246Z",
     "shell.execute_reply": "2023-10-26T17:03:30.724874Z"
    },
    "papermill": {
     "duration": 0.368047,
     "end_time": "2023-10-26T17:03:30.729600",
     "exception": false,
     "start_time": "2023-10-26T17:03:30.361553",
     "status": "completed"
    },
    "tags": []
   },
   "outputs": [],
   "source": [
    "data = pd.read_csv('/kaggle/input/superheroes-nlp-dataset/superheroes_nlp_dataset.csv')"
   ]
  },
  {
   "cell_type": "code",
   "execution_count": 5,
   "id": "5266c7e5",
   "metadata": {
    "execution": {
     "iopub.execute_input": "2023-10-26T17:03:30.792867Z",
     "iopub.status.busy": "2023-10-26T17:03:30.792421Z",
     "iopub.status.idle": "2023-10-26T17:03:30.838278Z",
     "shell.execute_reply": "2023-10-26T17:03:30.836755Z"
    },
    "papermill": {
     "duration": 0.080961,
     "end_time": "2023-10-26T17:03:30.841127",
     "exception": false,
     "start_time": "2023-10-26T17:03:30.760166",
     "status": "completed"
    },
    "tags": []
   },
   "outputs": [
    {
     "data": {
      "text/html": [
       "<div>\n",
       "<style scoped>\n",
       "    .dataframe tbody tr th:only-of-type {\n",
       "        vertical-align: middle;\n",
       "    }\n",
       "\n",
       "    .dataframe tbody tr th {\n",
       "        vertical-align: top;\n",
       "    }\n",
       "\n",
       "    .dataframe thead th {\n",
       "        text-align: right;\n",
       "    }\n",
       "</style>\n",
       "<table border=\"1\" class=\"dataframe\">\n",
       "  <thead>\n",
       "    <tr style=\"text-align: right;\">\n",
       "      <th></th>\n",
       "      <th>name</th>\n",
       "      <th>real_name</th>\n",
       "      <th>full_name</th>\n",
       "      <th>overall_score</th>\n",
       "      <th>history_text</th>\n",
       "      <th>powers_text</th>\n",
       "      <th>intelligence_score</th>\n",
       "      <th>strength_score</th>\n",
       "      <th>speed_score</th>\n",
       "      <th>durability_score</th>\n",
       "      <th>...</th>\n",
       "      <th>has_flight</th>\n",
       "      <th>has_accelerated_healing</th>\n",
       "      <th>has_weapons_master</th>\n",
       "      <th>has_intelligence</th>\n",
       "      <th>has_reflexes</th>\n",
       "      <th>has_super_speed</th>\n",
       "      <th>has_durability</th>\n",
       "      <th>has_stamina</th>\n",
       "      <th>has_agility</th>\n",
       "      <th>has_super_strength</th>\n",
       "    </tr>\n",
       "  </thead>\n",
       "  <tbody>\n",
       "    <tr>\n",
       "      <th>0</th>\n",
       "      <td>3-D Man</td>\n",
       "      <td>Delroy Garrett, Jr.</td>\n",
       "      <td>Delroy Garrett, Jr.</td>\n",
       "      <td>6</td>\n",
       "      <td>Delroy Garrett, Jr. grew up to become a track ...</td>\n",
       "      <td>NaN</td>\n",
       "      <td>85</td>\n",
       "      <td>30</td>\n",
       "      <td>60</td>\n",
       "      <td>60</td>\n",
       "      <td>...</td>\n",
       "      <td>0.0</td>\n",
       "      <td>0.0</td>\n",
       "      <td>0.0</td>\n",
       "      <td>0.0</td>\n",
       "      <td>0.0</td>\n",
       "      <td>1.0</td>\n",
       "      <td>0.0</td>\n",
       "      <td>0.0</td>\n",
       "      <td>0.0</td>\n",
       "      <td>1.0</td>\n",
       "    </tr>\n",
       "    <tr>\n",
       "      <th>1</th>\n",
       "      <td>514A (Gotham)</td>\n",
       "      <td>Bruce Wayne</td>\n",
       "      <td>NaN</td>\n",
       "      <td>10</td>\n",
       "      <td>He was one of the many prisoners of Indian Hil...</td>\n",
       "      <td>NaN</td>\n",
       "      <td>100</td>\n",
       "      <td>20</td>\n",
       "      <td>30</td>\n",
       "      <td>50</td>\n",
       "      <td>...</td>\n",
       "      <td>0.0</td>\n",
       "      <td>0.0</td>\n",
       "      <td>0.0</td>\n",
       "      <td>0.0</td>\n",
       "      <td>1.0</td>\n",
       "      <td>0.0</td>\n",
       "      <td>1.0</td>\n",
       "      <td>0.0</td>\n",
       "      <td>0.0</td>\n",
       "      <td>1.0</td>\n",
       "    </tr>\n",
       "  </tbody>\n",
       "</table>\n",
       "<p>2 rows × 81 columns</p>\n",
       "</div>"
      ],
      "text/plain": [
       "            name            real_name            full_name overall_score  \\\n",
       "0        3-D Man  Delroy Garrett, Jr.  Delroy Garrett, Jr.             6   \n",
       "1  514A (Gotham)          Bruce Wayne                  NaN            10   \n",
       "\n",
       "                                        history_text powers_text  \\\n",
       "0  Delroy Garrett, Jr. grew up to become a track ...         NaN   \n",
       "1  He was one of the many prisoners of Indian Hil...         NaN   \n",
       "\n",
       "   intelligence_score  strength_score  speed_score  durability_score  ...  \\\n",
       "0                  85              30           60                60  ...   \n",
       "1                 100              20           30                50  ...   \n",
       "\n",
       "   has_flight  has_accelerated_healing has_weapons_master has_intelligence  \\\n",
       "0         0.0                      0.0                0.0              0.0   \n",
       "1         0.0                      0.0                0.0              0.0   \n",
       "\n",
       "  has_reflexes has_super_speed has_durability has_stamina has_agility  \\\n",
       "0          0.0             1.0            0.0         0.0         0.0   \n",
       "1          1.0             0.0            1.0         0.0         0.0   \n",
       "\n",
       "  has_super_strength  \n",
       "0                1.0  \n",
       "1                1.0  \n",
       "\n",
       "[2 rows x 81 columns]"
      ]
     },
     "execution_count": 5,
     "metadata": {},
     "output_type": "execute_result"
    }
   ],
   "source": [
    "data.head(2)"
   ]
  },
  {
   "cell_type": "markdown",
   "id": "82cc6892",
   "metadata": {
    "papermill": {
     "duration": 0.02984,
     "end_time": "2023-10-26T17:03:30.901458",
     "exception": false,
     "start_time": "2023-10-26T17:03:30.871618",
     "status": "completed"
    },
    "tags": []
   },
   "source": [
    "### Let's see the first Glance about the data. Abiut the columns their data types"
   ]
  },
  {
   "cell_type": "code",
   "execution_count": 6,
   "id": "e8b75ac4",
   "metadata": {
    "execution": {
     "iopub.execute_input": "2023-10-26T17:03:30.964893Z",
     "iopub.status.busy": "2023-10-26T17:03:30.963257Z",
     "iopub.status.idle": "2023-10-26T17:03:31.005904Z",
     "shell.execute_reply": "2023-10-26T17:03:31.003787Z"
    },
    "papermill": {
     "duration": 0.079914,
     "end_time": "2023-10-26T17:03:31.011405",
     "exception": false,
     "start_time": "2023-10-26T17:03:30.931491",
     "status": "completed"
    },
    "tags": []
   },
   "outputs": [
    {
     "name": "stdout",
     "output_type": "stream",
     "text": [
      "<class 'pandas.core.frame.DataFrame'>\n",
      "RangeIndex: 1450 entries, 0 to 1449\n",
      "Data columns (total 81 columns):\n",
      " #   Column                            Non-Null Count  Dtype  \n",
      "---  ------                            --------------  -----  \n",
      " 0   name                              1448 non-null   object \n",
      " 1   real_name                         1300 non-null   object \n",
      " 2   full_name                         954 non-null    object \n",
      " 3   overall_score                     1450 non-null   object \n",
      " 4   history_text                      1360 non-null   object \n",
      " 5   powers_text                       1084 non-null   object \n",
      " 6   intelligence_score                1450 non-null   int64  \n",
      " 7   strength_score                    1450 non-null   int64  \n",
      " 8   speed_score                       1450 non-null   int64  \n",
      " 9   durability_score                  1450 non-null   int64  \n",
      " 10  power_score                       1450 non-null   int64  \n",
      " 11  combat_score                      1450 non-null   int64  \n",
      " 12  superpowers                       1450 non-null   object \n",
      " 13  alter_egos                        1450 non-null   object \n",
      " 14  aliases                           1450 non-null   object \n",
      " 15  place_of_birth                    788 non-null    object \n",
      " 16  first_appearance                  1247 non-null   object \n",
      " 17  creator                           1311 non-null   object \n",
      " 18  alignment                         1368 non-null   object \n",
      " 19  occupation                        1014 non-null   object \n",
      " 20  base                              870 non-null    object \n",
      " 21  teams                             1450 non-null   object \n",
      " 22  relatives                         878 non-null    object \n",
      " 23  gender                            1305 non-null   object \n",
      " 24  type_race                         1043 non-null   object \n",
      " 25  height                            1448 non-null   object \n",
      " 26  weight                            1448 non-null   object \n",
      " 27  eye_color                         1186 non-null   object \n",
      " 28  hair_color                        1199 non-null   object \n",
      " 29  skin_color                        173 non-null    object \n",
      " 30  img                               1363 non-null   object \n",
      " 31  has_electrokinesis                1383 non-null   float64\n",
      " 32  has_energy_constructs             1383 non-null   float64\n",
      " 33  has_mind_control_resistance       1383 non-null   float64\n",
      " 34  has_matter_manipulation           1383 non-null   float64\n",
      " 35  has_telepathy_resistance          1383 non-null   float64\n",
      " 36  has_mind_control                  1383 non-null   float64\n",
      " 37  has_enhanced_hearing              1383 non-null   float64\n",
      " 38  has_dimensional_travel            1383 non-null   float64\n",
      " 39  has_element_control               1383 non-null   float64\n",
      " 40  has_size_changing                 1383 non-null   float64\n",
      " 41  has_fire_resistance               1383 non-null   float64\n",
      " 42  has_fire_control                  1383 non-null   float64\n",
      " 43  has_dexterity                     1383 non-null   float64\n",
      " 44  has_reality_warping               1383 non-null   float64\n",
      " 45  has_illusions                     1383 non-null   float64\n",
      " 46  has_energy_beams                  1383 non-null   float64\n",
      " 47  has_peak_human_condition          1383 non-null   float64\n",
      " 48  has_shapeshifting                 1383 non-null   float64\n",
      " 49  has_heat_resistance               1383 non-null   float64\n",
      " 50  has_jump                          1383 non-null   float64\n",
      " 51  has_self-sustenance               1383 non-null   float64\n",
      " 52  has_energy_absorption             1383 non-null   float64\n",
      " 53  has_cold_resistance               1383 non-null   float64\n",
      " 54  has_magic                         1383 non-null   float64\n",
      " 55  has_telekinesis                   1383 non-null   float64\n",
      " 56  has_toxin_and_disease_resistance  1383 non-null   float64\n",
      " 57  has_telepathy                     1383 non-null   float64\n",
      " 58  has_regeneration                  1383 non-null   float64\n",
      " 59  has_immortality                   1383 non-null   float64\n",
      " 60  has_teleportation                 1383 non-null   float64\n",
      " 61  has_force_fields                  1383 non-null   float64\n",
      " 62  has_energy_manipulation           1383 non-null   float64\n",
      " 63  has_endurance                     1383 non-null   float64\n",
      " 64  has_longevity                     1383 non-null   float64\n",
      " 65  has_weapon-based_powers           1383 non-null   float64\n",
      " 66  has_energy_blasts                 1383 non-null   float64\n",
      " 67  has_enhanced_senses               1383 non-null   float64\n",
      " 68  has_invulnerability               1383 non-null   float64\n",
      " 69  has_stealth                       1383 non-null   float64\n",
      " 70  has_marksmanship                  1383 non-null   float64\n",
      " 71  has_flight                        1383 non-null   float64\n",
      " 72  has_accelerated_healing           1383 non-null   float64\n",
      " 73  has_weapons_master                1383 non-null   float64\n",
      " 74  has_intelligence                  1383 non-null   float64\n",
      " 75  has_reflexes                      1383 non-null   float64\n",
      " 76  has_super_speed                   1383 non-null   float64\n",
      " 77  has_durability                    1383 non-null   float64\n",
      " 78  has_stamina                       1383 non-null   float64\n",
      " 79  has_agility                       1383 non-null   float64\n",
      " 80  has_super_strength                1383 non-null   float64\n",
      "dtypes: float64(50), int64(6), object(25)\n",
      "memory usage: 917.7+ KB\n"
     ]
    }
   ],
   "source": [
    "data.info()"
   ]
  },
  {
   "cell_type": "markdown",
   "id": "307f0130",
   "metadata": {
    "papermill": {
     "duration": 0.031046,
     "end_time": "2023-10-26T17:03:31.073300",
     "exception": false,
     "start_time": "2023-10-26T17:03:31.042254",
     "status": "completed"
    },
    "tags": []
   },
   "source": [
    "## - From the Data We can see that there are So many missing values are there across different columns.\n",
    "## - Also many columns do not have proper datadtypes. for examples.overall_score has to be in Numerical datatypes(int, float) but they are in Object format"
   ]
  },
  {
   "cell_type": "markdown",
   "id": "3e9bd4b4",
   "metadata": {
    "papermill": {
     "duration": 0.031836,
     "end_time": "2023-10-26T17:03:31.136421",
     "exception": false,
     "start_time": "2023-10-26T17:03:31.104585",
     "status": "completed"
    },
    "tags": []
   },
   "source": [
    "### Let's Understand our Data a little bit"
   ]
  },
  {
   "cell_type": "code",
   "execution_count": 7,
   "id": "966bae18",
   "metadata": {
    "execution": {
     "iopub.execute_input": "2023-10-26T17:03:31.200957Z",
     "iopub.status.busy": "2023-10-26T17:03:31.199625Z",
     "iopub.status.idle": "2023-10-26T17:03:32.068041Z",
     "shell.execute_reply": "2023-10-26T17:03:32.065795Z"
    },
    "papermill": {
     "duration": 0.906197,
     "end_time": "2023-10-26T17:03:32.073628",
     "exception": false,
     "start_time": "2023-10-26T17:03:31.167431",
     "status": "completed"
    },
    "tags": []
   },
   "outputs": [
    {
     "data": {
      "text/plain": [
       "<Axes: title={'center': 'Count of Creator of Superheroes'}, xlabel='creator'>"
      ]
     },
     "execution_count": 7,
     "metadata": {},
     "output_type": "execute_result"
    },
    {
     "data": {
      "image/png": "[encoded data removed]",
      "text/plain": [
       "<Figure size 1500x700 with 1 Axes>"
      ]
     },
     "metadata": {},
     "output_type": "display_data"
    }
   ],
   "source": [
    "# Which Creator company have created most of the Supeheros\n",
    "data['creator'].value_counts().plot(kind='bar',\n",
    "                                    figsize=(15,7),\n",
    "                                   title='Count of Creator of Superheroes')"
   ]
  },
  {
   "cell_type": "markdown",
   "id": "721261bf",
   "metadata": {
    "papermill": {
     "duration": 0.040583,
     "end_time": "2023-10-26T17:03:32.162528",
     "exception": false,
     "start_time": "2023-10-26T17:03:32.121945",
     "status": "completed"
    },
    "tags": []
   },
   "source": [
    "## - From the above plot, we can see that Marvel and DC are two main companies who are creating Superheros. \n",
    "## - As Other companies doesn't have much Values We can Compile it Rest of the companies as **Other's**  "
   ]
  },
  {
   "cell_type": "code",
   "execution_count": 8,
   "id": "2d0c4825",
   "metadata": {
    "execution": {
     "iopub.execute_input": "2023-10-26T17:03:32.235638Z",
     "iopub.status.busy": "2023-10-26T17:03:32.234294Z",
     "iopub.status.idle": "2023-10-26T17:03:32.252948Z",
     "shell.execute_reply": "2023-10-26T17:03:32.251683Z"
    },
    "papermill": {
     "duration": 0.059698,
     "end_time": "2023-10-26T17:03:32.256187",
     "exception": false,
     "start_time": "2023-10-26T17:03:32.196489",
     "status": "completed"
    },
    "tags": []
   },
   "outputs": [],
   "source": [
    "DC = data[(data['creator'] == \"DC Comics\")]\n",
    "Marvel = data[(data['creator'] == \"Marvel Comics\")]\n",
    "vis_data = data.copy(deep=True)\n",
    "vis_data['creator'].loc[(vis_data['creator']!=\"DC Comics\") & (vis_data['creator']!=\"Marvel Comics\")]  = \"Others\""
   ]
  },
  {
   "cell_type": "markdown",
   "id": "73c778ad",
   "metadata": {
    "papermill": {
     "duration": 0.041521,
     "end_time": "2023-10-26T17:03:32.331688",
     "exception": false,
     "start_time": "2023-10-26T17:03:32.290167",
     "status": "completed"
    },
    "tags": []
   },
   "source": [
    "## Let's Visuliase the Data how does it look Now."
   ]
  },
  {
   "cell_type": "code",
   "execution_count": 9,
   "id": "c4f6851d",
   "metadata": {
    "execution": {
     "iopub.execute_input": "2023-10-26T17:03:32.401634Z",
     "iopub.status.busy": "2023-10-26T17:03:32.400765Z",
     "iopub.status.idle": "2023-10-26T17:03:32.410992Z",
     "shell.execute_reply": "2023-10-26T17:03:32.409780Z"
    },
    "papermill": {
     "duration": 0.048845,
     "end_time": "2023-10-26T17:03:32.414242",
     "exception": false,
     "start_time": "2023-10-26T17:03:32.365397",
     "status": "completed"
    },
    "tags": []
   },
   "outputs": [],
   "source": [
    "def creator_count(data):\n",
    "    trace = go.Bar(x = data['creator'].value_counts().values.tolist(),\n",
    "                   y = ['Marvel Comics','DC Comics', 'Others'],\n",
    "                   orientation = 'h',\n",
    "                    textfont=dict(size=15),\n",
    "                    textposition = 'auto',\n",
    "                   text=data['creator'].value_counts().values.tolist(),\n",
    "                   base=['red', 'blue','orchid']    \n",
    "                    )\n",
    "    layout = dict(title =  'Count of Creator of Superheroes')\n",
    "    fig = dict(data = [trace], layout=layout)\n",
    "    py.iplot(fig)"
   ]
  },
  {
   "cell_type": "code",
   "execution_count": 10,
   "id": "3fb42716",
   "metadata": {
    "execution": {
     "iopub.execute_input": "2023-10-26T17:03:32.492141Z",
     "iopub.status.busy": "2023-10-26T17:03:32.491107Z",
     "iopub.status.idle": "2023-10-26T17:03:32.500244Z",
     "shell.execute_reply": "2023-10-26T17:03:32.498887Z"
    },
    "papermill": {
     "duration": 0.05455,
     "end_time": "2023-10-26T17:03:32.503461",
     "exception": false,
     "start_time": "2023-10-26T17:03:32.448911",
     "status": "completed"
    },
    "tags": []
   },
   "outputs": [],
   "source": [
    "def creator_percent(data):\n",
    "    trace = go.Pie(labels = ['Marvel Comics','DC Comics', 'Others'], values = data['creator'].value_counts(), \n",
    "                   textfont=dict(size=15), opacity = 0.8,\n",
    "                   marker=dict(colors=['red', 'blue','darkgoldenrod'])\n",
    "                  )\n",
    "\n",
    "\n",
    "    layout = dict(title =  'Distribution of Creator of Superheroes')\n",
    "\n",
    "    fig = dict(data = [trace], layout=layout)\n",
    "    py.iplot(fig)"
   ]
  },
  {
   "cell_type": "code",
   "execution_count": 11,
   "id": "964efeb8",
   "metadata": {
    "execution": {
     "iopub.execute_input": "2023-10-26T17:03:32.584411Z",
     "iopub.status.busy": "2023-10-26T17:03:32.583047Z",
     "iopub.status.idle": "2023-10-26T17:03:34.107001Z",
     "shell.execute_reply": "2023-10-26T17:03:34.105722Z"
    },
    "papermill": {
     "duration": 1.569534,
     "end_time": "2023-10-26T17:03:34.110883",
     "exception": false,
     "start_time": "2023-10-26T17:03:32.541349",
     "status": "completed"
    },
    "tags": []
   },
   "outputs": [
    {
     "data": {
      "application/vnd.plotly.v1+json": {
       "config": {
        "linkText": "Export to plot.ly",
        "plotlyServerURL": "https://plot.ly",
        "showLink": false
       },
       "data": [
        {
         "base": [
          "red",
          "blue",
          "orchid"
         ],
         "orientation": "h",
         "text": [
          "615",
          "444",
          "391"
         ],
         "textfont": {
          "size": 15
         },
         "textposition": "auto",
         "type": "bar",
         "x": [
          615,
          444,
          391
         ],
         "y": [
          "Marvel Comics",
          "DC Comics",
          "Others"
         ]
        }
       ],
       "layout": {
        "template": {
         "data": {
          "bar": [
           {
            "error_x": {
             "color": "#2a3f5f"
            },
            "error_y": {
             "color": "#2a3f5f"
            },
            "marker": {
             "line": {
              "color": "#E5ECF6",
              "width": 0.5
             },
             "pattern": {
              "fillmode": "overlay",
              "size": 10,
              "solidity": 0.2
             }
            },
            "type": "bar"
           }
          ],
          "barpolar": [
           {
            "marker": {
             "line": {
              "color": "#E5ECF6",
              "width": 0.5
             },
             "pattern": {
              "fillmode": "overlay",
              "size": 10,
              "solidity": 0.2
             }
            },
            "type": "barpolar"
           }
          ],
          "carpet": [
           {
            "aaxis": {
             "endlinecolor": "#2a3f5f",
             "gridcolor": "white",
             "linecolor": "white",
             "minorgridcolor": "white",
             "startlinecolor": "#2a3f5f"
            },
            "baxis": {
             "endlinecolor": "#2a3f5f",
             "gridcolor": "white",
             "linecolor": "white",
             "minorgridcolor": "white",
             "startlinecolor": "#2a3f5f"
            },
            "type": "carpet"
           }
          ],
          "choropleth": [
           {
            "colorbar": {
             "outlinewidth": 0,
             "ticks": ""
            },
            "type": "choropleth"
           }
          ],
          "contour": [
           {
            "colorbar": {
             "outlinewidth": 0,
             "ticks": ""
            },
            "colorscale": [
             [
              0.0,
              "#0d0887"
             ],
             [
              0.1111111111111111,
              "#46039f"
             ],
             [
              0.2222222222222222,
              "#7201a8"
             ],
             [
              0.3333333333333333,
              "#9c179e"
             ],
             [
              0.4444444444444444,
              "#bd3786"
             ],
             [
              0.5555555555555556,
              "#d8576b"
             ],
             [
              0.6666666666666666,
              "#ed7953"
             ],
             [
              0.7777777777777778,
              "#fb9f3a"
             ],
             [
              0.8888888888888888,
              "#fdca26"
             ],
             [
              1.0,
              "#f0f921"
             ]
            ],
            "type": "contour"
           }
          ],
          "contourcarpet": [
           {
            "colorbar": {
             "outlinewidth": 0,
             "ticks": ""
            },
            "type": "contourcarpet"
           }
          ],
          "heatmap": [
           {
            "colorbar": {
             "outlinewidth": 0,
             "ticks": ""
            },
            "colorscale": [
             [
              0.0,
              "#0d0887"
             ],
             [
              0.1111111111111111,
              "#46039f"
             ],
             [
              0.2222222222222222,
              "#7201a8"
             ],
             [
              0.3333333333333333,
              "#9c179e"
             ],
             [
              0.4444444444444444,
              "#bd3786"
             ],
             [
              0.5555555555555556,
              "#d8576b"
             ],
             [
              0.6666666666666666,
              "#ed7953"
             ],
             [
              0.7777777777777778,
              "#fb9f3a"
             ],
             [
              0.8888888888888888,
              "#fdca26"
             ],
             [
              1.0,
              "#f0f921"
             ]
            ],
            "type": "heatmap"
           }
          ],
          "heatmapgl": [
           {
            "colorbar": {
             "outlinewidth": 0,
             "ticks": ""
            },
            "colorscale": [
             [
              0.0,
              "#0d0887"
             ],
             [
              0.1111111111111111,
              "#46039f"
             ],
             [
              0.2222222222222222,
              "#7201a8"
             ],
             [
              0.3333333333333333,
              "#9c179e"
             ],
             [
              0.4444444444444444,
              "#bd3786"
             ],
             [
              0.5555555555555556,
              "#d8576b"
             ],
             [
              0.6666666666666666,
              "#ed7953"
             ],
             [
              0.7777777777777778,
              "#fb9f3a"
             ],
             [
              0.8888888888888888,
              "#fdca26"
             ],
             [
              1.0,
              "#f0f921"
             ]
            ],
            "type": "heatmapgl"
           }
          ],
          "histogram": [
           {
            "marker": {
             "pattern": {
              "fillmode": "overlay",
              "size": 10,
              "solidity": 0.2
             }
            },
            "type": "histogram"
           }
          ],
          "histogram2d": [
           {
            "colorbar": {
             "outlinewidth": 0,
             "ticks": ""
            },
            "colorscale": [
             [
              0.0,
              "#0d0887"
             ],
             [
              0.1111111111111111,
              "#46039f"
             ],
             [
              0.2222222222222222,
              "#7201a8"
             ],
             [
              0.3333333333333333,
              "#9c179e"
             ],
             [
              0.4444444444444444,
              "#bd3786"
             ],
             [
              0.5555555555555556,
              "#d8576b"
             ],
             [
              0.6666666666666666,
              "#ed7953"
             ],
             [
              0.7777777777777778,
              "#fb9f3a"
             ],
             [
              0.8888888888888888,
              "#fdca26"
             ],
             [
              1.0,
              "#f0f921"
             ]
            ],
            "type": "histogram2d"
           }
          ],
          "histogram2dcontour": [
           {
            "colorbar": {
             "outlinewidth": 0,
             "ticks": ""
            },
            "colorscale": [
             [
              0.0,
              "#0d0887"
             ],
             [
              0.1111111111111111,
              "#46039f"
             ],
             [
              0.2222222222222222,
              "#7201a8"
             ],
             [
              0.3333333333333333,
              "#9c179e"
             ],
             [
              0.4444444444444444,
              "#bd3786"
             ],
             [
              0.5555555555555556,
              "#d8576b"
             ],
             [
              0.6666666666666666,
              "#ed7953"
             ],
             [
              0.7777777777777778,
              "#fb9f3a"
             ],
             [
              0.8888888888888888,
              "#fdca26"
             ],
             [
              1.0,
              "#f0f921"
             ]
            ],
            "type": "histogram2dcontour"
           }
          ],
          "mesh3d": [
           {
            "colorbar": {
             "outlinewidth": 0,
             "ticks": ""
            },
            "type": "mesh3d"
           }
          ],
          "parcoords": [
           {
            "line": {
             "colorbar": {
              "outlinewidth": 0,
              "ticks": ""
             }
            },
            "type": "parcoords"
           }
          ],
          "pie": [
           {
            "automargin": true,
            "type": "pie"
           }
          ],
          "scatter": [
           {
            "fillpattern": {
             "fillmode": "overlay",
             "size": 10,
             "solidity": 0.2
            },
            "type": "scatter"
           }
          ],
          "scatter3d": [
           {
            "line": {
             "colorbar": {
              "outlinewidth": 0,
              "ticks": ""
             }
            },
            "marker": {
             "colorbar": {
              "outlinewidth": 0,
              "ticks": ""
             }
            },
            "type": "scatter3d"
           }
          ],
          "scattercarpet": [
           {
            "marker": {
             "colorbar": {
              "outlinewidth": 0,
              "ticks": ""
             }
            },
            "type": "scattercarpet"
           }
          ],
          "scattergeo": [
           {
            "marker": {
             "colorbar": {
              "outlinewidth": 0,
              "ticks": ""
             }
            },
            "type": "scattergeo"
           }
          ],
          "scattergl": [
           {
            "marker": {
             "colorbar": {
              "outlinewidth": 0,
              "ticks": ""
             }
            },
            "type": "scattergl"
           }
          ],
          "scattermapbox": [
           {
            "marker": {
             "colorbar": {
              "outlinewidth": 0,
              "ticks": ""
             }
            },
            "type": "scattermapbox"
           }
          ],
          "scatterpolar": [
           {
            "marker": {
             "colorbar": {
              "outlinewidth": 0,
              "ticks": ""
             }
            },
            "type": "scatterpolar"
           }
          ],
          "scatterpolargl": [
           {
            "marker": {
             "colorbar": {
              "outlinewidth": 0,
              "ticks": ""
             }
            },
            "type": "scatterpolargl"
           }
          ],
          "scatterternary": [
           {
            "marker": {
             "colorbar": {
              "outlinewidth": 0,
              "ticks": ""
             }
            },
            "type": "scatterternary"
           }
          ],
          "surface": [
           {
            "colorbar": {
             "outlinewidth": 0,
             "ticks": ""
            },
            "colorscale": [
             [
              0.0,
              "#0d0887"
             ],
             [
              0.1111111111111111,
              "#46039f"
             ],
             [
              0.2222222222222222,
              "#7201a8"
             ],
             [
              0.3333333333333333,
              "#9c179e"
             ],
             [
              0.4444444444444444,
              "#bd3786"
             ],
             [
              0.5555555555555556,
              "#d8576b"
             ],
             [
              0.6666666666666666,
              "#ed7953"
             ],
             [
              0.7777777777777778,
              "#fb9f3a"
             ],
             [
              0.8888888888888888,
              "#fdca26"
             ],
             [
              1.0,
              "#f0f921"
             ]
            ],
            "type": "surface"
           }
          ],
          "table": [
           {
            "cells": {
             "fill": {
              "color": "#EBF0F8"
             },
             "line": {
              "color": "white"
             }
            },
            "header": {
             "fill": {
              "color": "#C8D4E3"
             },
             "line": {
              "color": "white"
             }
            },
            "type": "table"
           }
          ]
         },
         "layout": {
          "annotationdefaults": {
           "arrowcolor": "#2a3f5f",
           "arrowhead": 0,
           "arrowwidth": 1
          },
          "autotypenumbers": "strict",
          "coloraxis": {
           "colorbar": {
            "outlinewidth": 0,
            "ticks": ""
           }
          },
          "colorscale": {
           "diverging": [
            [
             0,
             "#8e0152"
            ],
            [
             0.1,
             "#c51b7d"
            ],
            [
             0.2,
             "#de77ae"
            ],
            [
             0.3,
             "#f1b6da"
            ],
            [
             0.4,
             "#fde0ef"
            ],
            [
             0.5,
             "#f7f7f7"
            ],
            [
             0.6,
             "#e6f5d0"
            ],
            [
             0.7,
             "#b8e186"
            ],
            [
             0.8,
             "#7fbc41"
            ],
            [
             0.9,
             "#4d9221"
            ],
            [
             1,
             "#276419"
            ]
           ],
           "sequential": [
            [
             0.0,
             "#0d0887"
            ],
            [
             0.1111111111111111,
             "#46039f"
            ],
            [
             0.2222222222222222,
             "#7201a8"
            ],
            [
             0.3333333333333333,
             "#9c179e"
            ],
            [
             0.4444444444444444,
             "#bd3786"
            ],
            [
             0.5555555555555556,
             "#d8576b"
            ],
            [
             0.6666666666666666,
             "#ed7953"
            ],
            [
             0.7777777777777778,
             "#fb9f3a"
            ],
            [
             0.8888888888888888,
             "#fdca26"
            ],
            [
             1.0,
             "#f0f921"
            ]
           ],
           "sequentialminus": [
            [
             0.0,
             "#0d0887"
            ],
            [
             0.1111111111111111,
             "#46039f"
            ],
            [
             0.2222222222222222,
             "#7201a8"
            ],
            [
             0.3333333333333333,
             "#9c179e"
            ],
            [
             0.4444444444444444,
             "#bd3786"
            ],
            [
             0.5555555555555556,
             "#d8576b"
            ],
            [
             0.6666666666666666,
             "#ed7953"
            ],
            [
             0.7777777777777778,
             "#fb9f3a"
            ],
            [
             0.8888888888888888,
             "#fdca26"
            ],
            [
             1.0,
             "#f0f921"
            ]
           ]
          },
          "colorway": [
           "#636efa",
           "#EF553B",
           "#00cc96",
           "#ab63fa",
           "#FFA15A",
           "#19d3f3",
           "#FF6692",
           "#B6E880",
           "#FF97FF",
           "#FECB52"
          ],
          "font": {
           "color": "#2a3f5f"
          },
          "geo": {
           "bgcolor": "white",
           "lakecolor": "white",
           "landcolor": "#E5ECF6",
           "showlakes": true,
           "showland": true,
           "subunitcolor": "white"
          },
          "hoverlabel": {
           "align": "left"
          },
          "hovermode": "closest",
          "mapbox": {
           "style": "light"
          },
          "paper_bgcolor": "white",
          "plot_bgcolor": "#E5ECF6",
          "polar": {
           "angularaxis": {
            "gridcolor": "white",
            "linecolor": "white",
            "ticks": ""
           },
           "bgcolor": "#E5ECF6",
           "radialaxis": {
            "gridcolor": "white",
            "linecolor": "white",
            "ticks": ""
           }
          },
          "scene": {
           "xaxis": {
            "backgroundcolor": "#E5ECF6",
            "gridcolor": "white",
            "gridwidth": 2,
            "linecolor": "white",
            "showbackground": true,
            "ticks": "",
            "zerolinecolor": "white"
           },
           "yaxis": {
            "backgroundcolor": "#E5ECF6",
            "gridcolor": "white",
            "gridwidth": 2,
            "linecolor": "white",
            "showbackground": true,
            "ticks": "",
            "zerolinecolor": "white"
           },
           "zaxis": {
            "backgroundcolor": "#E5ECF6",
            "gridcolor": "white",
            "gridwidth": 2,
            "linecolor": "white",
            "showbackground": true,
            "ticks": "",
            "zerolinecolor": "white"
           }
          },
          "shapedefaults": {
           "line": {
            "color": "#2a3f5f"
           }
          },
          "ternary": {
           "aaxis": {
            "gridcolor": "white",
            "linecolor": "white",
            "ticks": ""
           },
           "baxis": {
            "gridcolor": "white",
            "linecolor": "white",
            "ticks": ""
           },
           "bgcolor": "#E5ECF6",
           "caxis": {
            "gridcolor": "white",
            "linecolor": "white",
            "ticks": ""
           }
          },
          "title": {
           "x": 0.05
          },
          "xaxis": {
           "automargin": true,
           "gridcolor": "white",
           "linecolor": "white",
           "ticks": "",
           "title": {
            "standoff": 15
           },
           "zerolinecolor": "white",
           "zerolinewidth": 2
          },
          "yaxis": {
           "automargin": true,
           "gridcolor": "white",
           "linecolor": "white",
           "ticks": "",
           "title": {
            "standoff": 15
           },
           "zerolinecolor": "white",
           "zerolinewidth": 2
          }
         }
        },
        "title": {
         "text": "Count of Creator of Superheroes"
        }
       }
      },
      "text/html": [
       "<div>                            <div id=\"8dbbd315-4123-4eae-9ec2-ecaa567caedd\" class=\"plotly-graph-div\" style=\"height:525px; width:100%;\"></div>            <script type=\"text/javascript\">                require([\"plotly\"], function(Plotly) {                    window.PLOTLYENV=window.PLOTLYENV || {};                                    if (document.getElementById(\"8dbbd315-4123-4eae-9ec2-ecaa567caedd\")) {                    Plotly.newPlot(                        \"8dbbd315-4123-4eae-9ec2-ecaa567caedd\",                        [{\"base\":[\"red\",\"blue\",\"orchid\"],\"orientation\":\"h\",\"text\":[\"615\",\"444\",\"391\"],\"textfont\":{\"size\":15},\"textposition\":\"auto\",\"x\":[615,444,391],\"y\":[\"Marvel Comics\",\"DC Comics\",\"Others\"],\"type\":\"bar\"}],                        {\"template\":{\"data\":{\"barpolar\":[{\"marker\":{\"line\":{\"color\":\"#E5ECF6\",\"width\":0.5},\"pattern\":{\"fillmode\":\"overlay\",\"size\":10,\"solidity\":0.2}},\"type\":\"barpolar\"}],\"bar\":[{\"error_x\":{\"color\":\"#2a3f5f\"},\"error_y\":{\"color\":\"#2a3f5f\"},\"marker\":{\"line\":{\"color\":\"#E5ECF6\",\"width\":0.5},\"pattern\":{\"fillmode\":\"overlay\",\"size\":10,\"solidity\":0.2}},\"type\":\"bar\"}],\"carpet\":[{\"aaxis\":{\"endlinecolor\":\"#2a3f5f\",\"gridcolor\":\"white\",\"linecolor\":\"white\",\"minorgridcolor\":\"white\",\"startlinecolor\":\"#2a3f5f\"},\"baxis\":{\"endlinecolor\":\"#2a3f5f\",\"gridcolor\":\"white\",\"linecolor\":\"white\",\"minorgridcolor\":\"white\",\"startlinecolor\":\"#2a3f5f\"},\"type\":\"carpet\"}],\"choropleth\":[{\"colorbar\":{\"outlinewidth\":0,\"ticks\":\"\"},\"type\":\"choropleth\"}],\"contourcarpet\":[{\"colorbar\":{\"outlinewidth\":0,\"ticks\":\"\"},\"type\":\"contourcarpet\"}],\"contour\":[{\"colorbar\":{\"outlinewidth\":0,\"ticks\":\"\"},\"colorscale\":[[0.0,\"#0d0887\"],[0.1111111111111111,\"#46039f\"],[0.2222222222222222,\"#7201a8\"],[0.3333333333333333,\"#9c179e\"],[0.4444444444444444,\"#bd3786\"],[0.5555555555555556,\"#d8576b\"],[0.6666666666666666,\"#ed7953\"],[0.7777777777777778,\"#fb9f3a\"],[0.8888888888888888,\"#fdca26\"],[1.0,\"#f0f921\"]],\"type\":\"contour\"}],\"heatmapgl\":[{\"colorbar\":{\"outlinewidth\":0,\"ticks\":\"\"},\"colorscale\":[[0.0,\"#0d0887\"],[0.1111111111111111,\"#46039f\"],[0.2222222222222222,\"#7201a8\"],[0.3333333333333333,\"#9c179e\"],[0.4444444444444444,\"#bd3786\"],[0.5555555555555556,\"#d8576b\"],[0.6666666666666666,\"#ed7953\"],[0.7777777777777778,\"#fb9f3a\"],[0.8888888888888888,\"#fdca26\"],[1.0,\"#f0f921\"]],\"type\":\"heatmapgl\"}],\"heatmap\":[{\"colorbar\":{\"outlinewidth\":0,\"ticks\":\"\"},\"colorscale\":[[0.0,\"#0d0887\"],[0.1111111111111111,\"#46039f\"],[0.2222222222222222,\"#7201a8\"],[0.3333333333333333,\"#9c179e\"],[0.4444444444444444,\"#bd3786\"],[0.5555555555555556,\"#d8576b\"],[0.6666666666666666,\"#ed7953\"],[0.7777777777777778,\"#fb9f3a\"],[0.8888888888888888,\"#fdca26\"],[1.0,\"#f0f921\"]],\"type\":\"heatmap\"}],\"histogram2dcontour\":[{\"colorbar\":{\"outlinewidth\":0,\"ticks\":\"\"},\"colorscale\":[[0.0,\"#0d0887\"],[0.1111111111111111,\"#46039f\"],[0.2222222222222222,\"#7201a8\"],[0.3333333333333333,\"#9c179e\"],[0.4444444444444444,\"#bd3786\"],[0.5555555555555556,\"#d8576b\"],[0.6666666666666666,\"#ed7953\"],[0.7777777777777778,\"#fb9f3a\"],[0.8888888888888888,\"#fdca26\"],[1.0,\"#f0f921\"]],\"type\":\"histogram2dcontour\"}],\"histogram2d\":[{\"colorbar\":{\"outlinewidth\":0,\"ticks\":\"\"},\"colorscale\":[[0.0,\"#0d0887\"],[0.1111111111111111,\"#46039f\"],[0.2222222222222222,\"#7201a8\"],[0.3333333333333333,\"#9c179e\"],[0.4444444444444444,\"#bd3786\"],[0.5555555555555556,\"#d8576b\"],[0.6666666666666666,\"#ed7953\"],[0.7777777777777778,\"#fb9f3a\"],[0.8888888888888888,\"#fdca26\"],[1.0,\"#f0f921\"]],\"type\":\"histogram2d\"}],\"histogram\":[{\"marker\":{\"pattern\":{\"fillmode\":\"overlay\",\"size\":10,\"solidity\":0.2}},\"type\":\"histogram\"}],\"mesh3d\":[{\"colorbar\":{\"outlinewidth\":0,\"ticks\":\"\"},\"type\":\"mesh3d\"}],\"parcoords\":[{\"line\":{\"colorbar\":{\"outlinewidth\":0,\"ticks\":\"\"}},\"type\":\"parcoords\"}],\"pie\":[{\"automargin\":true,\"type\":\"pie\"}],\"scatter3d\":[{\"line\":{\"colorbar\":{\"outlinewidth\":0,\"ticks\":\"\"}},\"marker\":{\"colorbar\":{\"outlinewidth\":0,\"ticks\":\"\"}},\"type\":\"scatter3d\"}],\"scattercarpet\":[{\"marker\":{\"colorbar\":{\"outlinewidth\":0,\"ticks\":\"\"}},\"type\":\"scattercarpet\"}],\"scattergeo\":[{\"marker\":{\"colorbar\":{\"outlinewidth\":0,\"ticks\":\"\"}},\"type\":\"scattergeo\"}],\"scattergl\":[{\"marker\":{\"colorbar\":{\"outlinewidth\":0,\"ticks\":\"\"}},\"type\":\"scattergl\"}],\"scattermapbox\":[{\"marker\":{\"colorbar\":{\"outlinewidth\":0,\"ticks\":\"\"}},\"type\":\"scattermapbox\"}],\"scatterpolargl\":[{\"marker\":{\"colorbar\":{\"outlinewidth\":0,\"ticks\":\"\"}},\"type\":\"scatterpolargl\"}],\"scatterpolar\":[{\"marker\":{\"colorbar\":{\"outlinewidth\":0,\"ticks\":\"\"}},\"type\":\"scatterpolar\"}],\"scatter\":[{\"fillpattern\":{\"fillmode\":\"overlay\",\"size\":10,\"solidity\":0.2},\"type\":\"scatter\"}],\"scatterternary\":[{\"marker\":{\"colorbar\":{\"outlinewidth\":0,\"ticks\":\"\"}},\"type\":\"scatterternary\"}],\"surface\":[{\"colorbar\":{\"outlinewidth\":0,\"ticks\":\"\"},\"colorscale\":[[0.0,\"#0d0887\"],[0.1111111111111111,\"#46039f\"],[0.2222222222222222,\"#7201a8\"],[0.3333333333333333,\"#9c179e\"],[0.4444444444444444,\"#bd3786\"],[0.5555555555555556,\"#d8576b\"],[0.6666666666666666,\"#ed7953\"],[0.7777777777777778,\"#fb9f3a\"],[0.8888888888888888,\"#fdca26\"],[1.0,\"#f0f921\"]],\"type\":\"surface\"}],\"table\":[{\"cells\":{\"fill\":{\"color\":\"#EBF0F8\"},\"line\":{\"color\":\"white\"}},\"header\":{\"fill\":{\"color\":\"#C8D4E3\"},\"line\":{\"color\":\"white\"}},\"type\":\"table\"}]},\"layout\":{\"annotationdefaults\":{\"arrowcolor\":\"#2a3f5f\",\"arrowhead\":0,\"arrowwidth\":1},\"autotypenumbers\":\"strict\",\"coloraxis\":{\"colorbar\":{\"outlinewidth\":0,\"ticks\":\"\"}},\"colorscale\":{\"diverging\":[[0,\"#8e0152\"],[0.1,\"#c51b7d\"],[0.2,\"#de77ae\"],[0.3,\"#f1b6da\"],[0.4,\"#fde0ef\"],[0.5,\"#f7f7f7\"],[0.6,\"#e6f5d0\"],[0.7,\"#b8e186\"],[0.8,\"#7fbc41\"],[0.9,\"#4d9221\"],[1,\"#276419\"]],\"sequential\":[[0.0,\"#0d0887\"],[0.1111111111111111,\"#46039f\"],[0.2222222222222222,\"#7201a8\"],[0.3333333333333333,\"#9c179e\"],[0.4444444444444444,\"#bd3786\"],[0.5555555555555556,\"#d8576b\"],[0.6666666666666666,\"#ed7953\"],[0.7777777777777778,\"#fb9f3a\"],[0.8888888888888888,\"#fdca26\"],[1.0,\"#f0f921\"]],\"sequentialminus\":[[0.0,\"#0d0887\"],[0.1111111111111111,\"#46039f\"],[0.2222222222222222,\"#7201a8\"],[0.3333333333333333,\"#9c179e\"],[0.4444444444444444,\"#bd3786\"],[0.5555555555555556,\"#d8576b\"],[0.6666666666666666,\"#ed7953\"],[0.7777777777777778,\"#fb9f3a\"],[0.8888888888888888,\"#fdca26\"],[1.0,\"#f0f921\"]]},\"colorway\":[\"#636efa\",\"#EF553B\",\"#00cc96\",\"#ab63fa\",\"#FFA15A\",\"#19d3f3\",\"#FF6692\",\"#B6E880\",\"#FF97FF\",\"#FECB52\"],\"font\":{\"color\":\"#2a3f5f\"},\"geo\":{\"bgcolor\":\"white\",\"lakecolor\":\"white\",\"landcolor\":\"#E5ECF6\",\"showlakes\":true,\"showland\":true,\"subunitcolor\":\"white\"},\"hoverlabel\":{\"align\":\"left\"},\"hovermode\":\"closest\",\"mapbox\":{\"style\":\"light\"},\"paper_bgcolor\":\"white\",\"plot_bgcolor\":\"#E5ECF6\",\"polar\":{\"angularaxis\":{\"gridcolor\":\"white\",\"linecolor\":\"white\",\"ticks\":\"\"},\"bgcolor\":\"#E5ECF6\",\"radialaxis\":{\"gridcolor\":\"white\",\"linecolor\":\"white\",\"ticks\":\"\"}},\"scene\":{\"xaxis\":{\"backgroundcolor\":\"#E5ECF6\",\"gridcolor\":\"white\",\"gridwidth\":2,\"linecolor\":\"white\",\"showbackground\":true,\"ticks\":\"\",\"zerolinecolor\":\"white\"},\"yaxis\":{\"backgroundcolor\":\"#E5ECF6\",\"gridcolor\":\"white\",\"gridwidth\":2,\"linecolor\":\"white\",\"showbackground\":true,\"ticks\":\"\",\"zerolinecolor\":\"white\"},\"zaxis\":{\"backgroundcolor\":\"#E5ECF6\",\"gridcolor\":\"white\",\"gridwidth\":2,\"linecolor\":\"white\",\"showbackground\":true,\"ticks\":\"\",\"zerolinecolor\":\"white\"}},\"shapedefaults\":{\"line\":{\"color\":\"#2a3f5f\"}},\"ternary\":{\"aaxis\":{\"gridcolor\":\"white\",\"linecolor\":\"white\",\"ticks\":\"\"},\"baxis\":{\"gridcolor\":\"white\",\"linecolor\":\"white\",\"ticks\":\"\"},\"bgcolor\":\"#E5ECF6\",\"caxis\":{\"gridcolor\":\"white\",\"linecolor\":\"white\",\"ticks\":\"\"}},\"title\":{\"x\":0.05},\"xaxis\":{\"automargin\":true,\"gridcolor\":\"white\",\"linecolor\":\"white\",\"ticks\":\"\",\"title\":{\"standoff\":15},\"zerolinecolor\":\"white\",\"zerolinewidth\":2},\"yaxis\":{\"automargin\":true,\"gridcolor\":\"white\",\"linecolor\":\"white\",\"ticks\":\"\",\"title\":{\"standoff\":15},\"zerolinecolor\":\"white\",\"zerolinewidth\":2}}},\"title\":{\"text\":\"Count of Creator of Superheroes\"}},                        {\"responsive\": true}                    ).then(function(){\n",
       "                            \n",
       "var gd = document.getElementById('8dbbd315-4123-4eae-9ec2-ecaa567caedd');\n",
       "var x = new MutationObserver(function (mutations, observer) {{\n",
       "        var display = window.getComputedStyle(gd).display;\n",
       "        if (!display || display === 'none') {{\n",
       "            console.log([gd, 'removed!']);\n",
       "            Plotly.purge(gd);\n",
       "            observer.disconnect();\n",
       "        }}\n",
       "}});\n",
       "\n",
       "// Listen for the removal of the full notebook cells\n",
       "var notebookContainer = gd.closest('#notebook-container');\n",
       "if (notebookContainer) {{\n",
       "    x.observe(notebookContainer, {childList: true});\n",
       "}}\n",
       "\n",
       "// Listen for the clearing of the current output cell\n",
       "var outputEl = gd.closest('.output');\n",
       "if (outputEl) {{\n",
       "    x.observe(outputEl, {childList: true});\n",
       "}}\n",
       "\n",
       "                        })                };                });            </script>        </div>"
      ]
     },
     "metadata": {},
     "output_type": "display_data"
    }
   ],
   "source": [
    "# Calling the function\n",
    "creator_count(vis_data)"
   ]
  },
  {
   "cell_type": "code",
   "execution_count": 12,
   "id": "e15ddc0f",
   "metadata": {
    "execution": {
     "iopub.execute_input": "2023-10-26T17:03:34.194774Z",
     "iopub.status.busy": "2023-10-26T17:03:34.193912Z",
     "iopub.status.idle": "2023-10-26T17:03:34.261258Z",
     "shell.execute_reply": "2023-10-26T17:03:34.259698Z"
    },
    "papermill": {
     "duration": 0.113831,
     "end_time": "2023-10-26T17:03:34.265466",
     "exception": false,
     "start_time": "2023-10-26T17:03:34.151635",
     "status": "completed"
    },
    "tags": []
   },
   "outputs": [
    {
     "data": {
      "application/vnd.plotly.v1+json": {
       "config": {
        "linkText": "Export to plot.ly",
        "plotlyServerURL": "https://plot.ly",
        "showLink": false
       },
       "data": [
        {
         "labels": [
          "Marvel Comics",
          "DC Comics",
          "Others"
         ],
         "marker": {
          "colors": [
           "red",
           "blue",
           "darkgoldenrod"
          ]
         },
         "opacity": 0.8,
         "textfont": {
          "size": 15
         },
         "type": "pie",
         "values": [
          615,
          444,
          391
         ]
        }
       ],
       "layout": {
        "template": {
         "data": {
          "bar": [
           {
            "error_x": {
             "color": "#2a3f5f"
            },
            "error_y": {
             "color": "#2a3f5f"
            },
            "marker": {
             "line": {
              "color": "#E5ECF6",
              "width": 0.5
             },
             "pattern": {
              "fillmode": "overlay",
              "size": 10,
              "solidity": 0.2
             }
            },
            "type": "bar"
           }
          ],
          "barpolar": [
           {
            "marker": {
             "line": {
              "color": "#E5ECF6",
              "width": 0.5
             },
             "pattern": {
              "fillmode": "overlay",
              "size": 10,
              "solidity": 0.2
             }
            },
            "type": "barpolar"
           }
          ],
          "carpet": [
           {
            "aaxis": {
             "endlinecolor": "#2a3f5f",
             "gridcolor": "white",
             "linecolor": "white",
             "minorgridcolor": "white",
             "startlinecolor": "#2a3f5f"
            },
            "baxis": {
             "endlinecolor": "#2a3f5f",
             "gridcolor": "white",
             "linecolor": "white",
             "minorgridcolor": "white",
             "startlinecolor": "#2a3f5f"
            },
            "type": "carpet"
           }
          ],
          "choropleth": [
           {
            "colorbar": {
             "outlinewidth": 0,
             "ticks": ""
            },
            "type": "choropleth"
           }
          ],
          "contour": [
           {
            "colorbar": {
             "outlinewidth": 0,
             "ticks": ""
            },
            "colorscale": [
             [
              0.0,
              "#0d0887"
             ],
             [
              0.1111111111111111,
              "#46039f"
             ],
             [
              0.2222222222222222,
              "#7201a8"
             ],
             [
              0.3333333333333333,
              "#9c179e"
             ],
             [
              0.4444444444444444,
              "#bd3786"
             ],
             [
              0.5555555555555556,
              "#d8576b"
             ],
             [
              0.6666666666666666,
              "#ed7953"
             ],
             [
              0.7777777777777778,
              "#fb9f3a"
             ],
             [
              0.8888888888888888,
              "#fdca26"
             ],
             [
              1.0,
              "#f0f921"
             ]
            ],
            "type": "contour"
           }
          ],
          "contourcarpet": [
           {
            "colorbar": {
             "outlinewidth": 0,
             "ticks": ""
            },
            "type": "contourcarpet"
           }
          ],
          "heatmap": [
           {
            "colorbar": {
             "outlinewidth": 0,
             "ticks": ""
            },
            "colorscale": [
             [
              0.0,
              "#0d0887"
             ],
             [
              0.1111111111111111,
              "#46039f"
             ],
             [
              0.2222222222222222,
              "#7201a8"
             ],
             [
              0.3333333333333333,
              "#9c179e"
             ],
             [
              0.4444444444444444,
              "#bd3786"
             ],
             [
              0.5555555555555556,
              "#d8576b"
             ],
             [
              0.6666666666666666,
              "#ed7953"
             ],
             [
              0.7777777777777778,
              "#fb9f3a"
             ],
             [
              0.8888888888888888,
              "#fdca26"
             ],
             [
              1.0,
              "#f0f921"
             ]
            ],
            "type": "heatmap"
           }
          ],
          "heatmapgl": [
           {
            "colorbar": {
             "outlinewidth": 0,
             "ticks": ""
            },
            "colorscale": [
             [
              0.0,
              "#0d0887"
             ],
             [
              0.1111111111111111,
              "#46039f"
             ],
             [
              0.2222222222222222,
              "#7201a8"
             ],
             [
              0.3333333333333333,
              "#9c179e"
             ],
             [
              0.4444444444444444,
              "#bd3786"
             ],
             [
              0.5555555555555556,
              "#d8576b"
             ],
             [
              0.6666666666666666,
              "#ed7953"
             ],
             [
              0.7777777777777778,
              "#fb9f3a"
             ],
             [
              0.8888888888888888,
              "#fdca26"
             ],
             [
              1.0,
              "#f0f921"
             ]
            ],
            "type": "heatmapgl"
           }
          ],
          "histogram": [
           {
            "marker": {
             "pattern": {
              "fillmode": "overlay",
              "size": 10,
              "solidity": 0.2
             }
            },
            "type": "histogram"
           }
          ],
          "histogram2d": [
           {
            "colorbar": {
             "outlinewidth": 0,
             "ticks": ""
            },
            "colorscale": [
             [
              0.0,
              "#0d0887"
             ],
             [
              0.1111111111111111,
              "#46039f"
             ],
             [
              0.2222222222222222,
              "#7201a8"
             ],
             [
              0.3333333333333333,
              "#9c179e"
             ],
             [
              0.4444444444444444,
              "#bd3786"
             ],
             [
              0.5555555555555556,
              "#d8576b"
             ],
             [
              0.6666666666666666,
              "#ed7953"
             ],
             [
              0.7777777777777778,
              "#fb9f3a"
             ],
             [
              0.8888888888888888,
              "#fdca26"
             ],
             [
              1.0,
              "#f0f921"
             ]
            ],
            "type": "histogram2d"
           }
          ],
          "histogram2dcontour": [
           {
            "colorbar": {
             "outlinewidth": 0,
             "ticks": ""
            },
            "colorscale": [
             [
              0.0,
              "#0d0887"
             ],
             [
              0.1111111111111111,
              "#46039f"
             ],
             [
              0.2222222222222222,
              "#7201a8"
             ],
             [
              0.3333333333333333,
              "#9c179e"
             ],
             [
              0.4444444444444444,
              "#bd3786"
             ],
             [
              0.5555555555555556,
              "#d8576b"
             ],
             [
              0.6666666666666666,
              "#ed7953"
             ],
             [
              0.7777777777777778,
              "#fb9f3a"
             ],
             [
              0.8888888888888888,
              "#fdca26"
             ],
             [
              1.0,
              "#f0f921"
             ]
            ],
            "type": "histogram2dcontour"
           }
          ],
          "mesh3d": [
           {
            "colorbar": {
             "outlinewidth": 0,
             "ticks": ""
            },
            "type": "mesh3d"
           }
          ],
          "parcoords": [
           {
            "line": {
             "colorbar": {
              "outlinewidth": 0,
              "ticks": ""
             }
            },
            "type": "parcoords"
           }
          ],
          "pie": [
           {
            "automargin": true,
            "type": "pie"
           }
          ],
          "scatter": [
           {
            "fillpattern": {
             "fillmode": "overlay",
             "size": 10,
             "solidity": 0.2
            },
            "type": "scatter"
           }
          ],
          "scatter3d": [
           {
            "line": {
             "colorbar": {
              "outlinewidth": 0,
              "ticks": ""
             }
            },
            "marker": {
             "colorbar": {
              "outlinewidth": 0,
              "ticks": ""
             }
            },
            "type": "scatter3d"
           }
          ],
          "scattercarpet": [
           {
            "marker": {
             "colorbar": {
              "outlinewidth": 0,
              "ticks": ""
             }
            },
            "type": "scattercarpet"
           }
          ],
          "scattergeo": [
           {
            "marker": {
             "colorbar": {
              "outlinewidth": 0,
              "ticks": ""
             }
            },
            "type": "scattergeo"
           }
          ],
          "scattergl": [
           {
            "marker": {
             "colorbar": {
              "outlinewidth": 0,
              "ticks": ""
             }
            },
            "type": "scattergl"
           }
          ],
          "scattermapbox": [
           {
            "marker": {
             "colorbar": {
              "outlinewidth": 0,
              "ticks": ""
             }
            },
            "type": "scattermapbox"
           }
          ],
          "scatterpolar": [
           {
            "marker": {
             "colorbar": {
              "outlinewidth": 0,
              "ticks": ""
             }
            },
            "type": "scatterpolar"
           }
          ],
          "scatterpolargl": [
           {
            "marker": {
             "colorbar": {
              "outlinewidth": 0,
              "ticks": ""
             }
            },
            "type": "scatterpolargl"
           }
          ],
          "scatterternary": [
           {
            "marker": {
             "colorbar": {
              "outlinewidth": 0,
              "ticks": ""
             }
            },
            "type": "scatterternary"
           }
          ],
          "surface": [
           {
            "colorbar": {
             "outlinewidth": 0,
             "ticks": ""
            },
            "colorscale": [
             [
              0.0,
              "#0d0887"
             ],
             [
              0.1111111111111111,
              "#46039f"
             ],
             [
              0.2222222222222222,
              "#7201a8"
             ],
             [
              0.3333333333333333,
              "#9c179e"
             ],
             [
              0.4444444444444444,
              "#bd3786"
             ],
             [
              0.5555555555555556,
              "#d8576b"
             ],
             [
              0.6666666666666666,
              "#ed7953"
             ],
             [
              0.7777777777777778,
              "#fb9f3a"
             ],
             [
              0.8888888888888888,
              "#fdca26"
             ],
             [
              1.0,
              "#f0f921"
             ]
            ],
            "type": "surface"
           }
          ],
          "table": [
           {
            "cells": {
             "fill": {
              "color": "#EBF0F8"
             },
             "line": {
              "color": "white"
             }
            },
            "header": {
             "fill": {
              "color": "#C8D4E3"
             },
             "line": {
              "color": "white"
             }
            },
            "type": "table"
           }
          ]
         },
         "layout": {
          "annotationdefaults": {
           "arrowcolor": "#2a3f5f",
           "arrowhead": 0,
           "arrowwidth": 1
          },
          "autotypenumbers": "strict",
          "coloraxis": {
           "colorbar": {
            "outlinewidth": 0,
            "ticks": ""
           }
          },
          "colorscale": {
           "diverging": [
            [
             0,
             "#8e0152"
            ],
            [
             0.1,
             "#c51b7d"
            ],
            [
             0.2,
             "#de77ae"
            ],
            [
             0.3,
             "#f1b6da"
            ],
            [
             0.4,
             "#fde0ef"
            ],
            [
             0.5,
             "#f7f7f7"
            ],
            [
             0.6,
             "#e6f5d0"
            ],
            [
             0.7,
             "#b8e186"
            ],
            [
             0.8,
             "#7fbc41"
            ],
            [
             0.9,
             "#4d9221"
            ],
            [
             1,
             "#276419"
            ]
           ],
           "sequential": [
            [
             0.0,
             "#0d0887"
            ],
            [
             0.1111111111111111,
             "#46039f"
            ],
            [
             0.2222222222222222,
             "#7201a8"
            ],
            [
             0.3333333333333333,
             "#9c179e"
            ],
            [
             0.4444444444444444,
             "#bd3786"
            ],
            [
             0.5555555555555556,
             "#d8576b"
            ],
            [
             0.6666666666666666,
             "#ed7953"
            ],
            [
             0.7777777777777778,
             "#fb9f3a"
            ],
            [
             0.8888888888888888,
             "#fdca26"
            ],
            [
             1.0,
             "#f0f921"
            ]
           ],
           "sequentialminus": [
            [
             0.0,
             "#0d0887"
            ],
            [
             0.1111111111111111,
             "#46039f"
            ],
            [
             0.2222222222222222,
             "#7201a8"
            ],
            [
             0.3333333333333333,
             "#9c179e"
            ],
            [
             0.4444444444444444,
             "#bd3786"
            ],
            [
             0.5555555555555556,
             "#d8576b"
            ],
            [
             0.6666666666666666,
             "#ed7953"
            ],
            [
             0.7777777777777778,
             "#fb9f3a"
            ],
            [
             0.8888888888888888,
             "#fdca26"
            ],
            [
             1.0,
             "#f0f921"
            ]
           ]
          },
          "colorway": [
           "#636efa",
           "#EF553B",
           "#00cc96",
           "#ab63fa",
           "#FFA15A",
           "#19d3f3",
           "#FF6692",
           "#B6E880",
           "#FF97FF",
           "#FECB52"
          ],
          "font": {
           "color": "#2a3f5f"
          },
          "geo": {
           "bgcolor": "white",
           "lakecolor": "white",
           "landcolor": "#E5ECF6",
           "showlakes": true,
           "showland": true,
           "subunitcolor": "white"
          },
          "hoverlabel": {
           "align": "left"
          },
          "hovermode": "closest",
          "mapbox": {
           "style": "light"
          },
          "paper_bgcolor": "white",
          "plot_bgcolor": "#E5ECF6",
          "polar": {
           "angularaxis": {
            "gridcolor": "white",
            "linecolor": "white",
            "ticks": ""
           },
           "bgcolor": "#E5ECF6",
           "radialaxis": {
            "gridcolor": "white",
            "linecolor": "white",
            "ticks": ""
           }
          },
          "scene": {
           "xaxis": {
            "backgroundcolor": "#E5ECF6",
            "gridcolor": "white",
            "gridwidth": 2,
            "linecolor": "white",
            "showbackground": true,
            "ticks": "",
            "zerolinecolor": "white"
           },
           "yaxis": {
            "backgroundcolor": "#E5ECF6",
            "gridcolor": "white",
            "gridwidth": 2,
            "linecolor": "white",
            "showbackground": true,
            "ticks": "",
            "zerolinecolor": "white"
           },
           "zaxis": {
            "backgroundcolor": "#E5ECF6",
            "gridcolor": "white",
            "gridwidth": 2,
            "linecolor": "white",
            "showbackground": true,
            "ticks": "",
            "zerolinecolor": "white"
           }
          },
          "shapedefaults": {
           "line": {
            "color": "#2a3f5f"
           }
          },
          "ternary": {
           "aaxis": {
            "gridcolor": "white",
            "linecolor": "white",
            "ticks": ""
           },
           "baxis": {
            "gridcolor": "white",
            "linecolor": "white",
            "ticks": ""
           },
           "bgcolor": "#E5ECF6",
           "caxis": {
            "gridcolor": "white",
            "linecolor": "white",
            "ticks": ""
           }
          },
          "title": {
           "x": 0.05
          },
          "xaxis": {
           "automargin": true,
           "gridcolor": "white",
           "linecolor": "white",
           "ticks": "",
           "title": {
            "standoff": 15
           },
           "zerolinecolor": "white",
           "zerolinewidth": 2
          },
          "yaxis": {
           "automargin": true,
           "gridcolor": "white",
           "linecolor": "white",
           "ticks": "",
           "title": {
            "standoff": 15
           },
           "zerolinecolor": "white",
           "zerolinewidth": 2
          }
         }
        },
        "title": {
         "text": "Distribution of Creator of Superheroes"
        }
       }
      },
      "text/html": [
       "<div>                            <div id=\"e8a0b774-0ab6-45f9-b494-0995809fbb37\" class=\"plotly-graph-div\" style=\"height:525px; width:100%;\"></div>            <script type=\"text/javascript\">                require([\"plotly\"], function(Plotly) {                    window.PLOTLYENV=window.PLOTLYENV || {};                                    if (document.getElementById(\"e8a0b774-0ab6-45f9-b494-0995809fbb37\")) {                    Plotly.newPlot(                        \"e8a0b774-0ab6-45f9-b494-0995809fbb37\",                        [{\"labels\":[\"Marvel Comics\",\"DC Comics\",\"Others\"],\"marker\":{\"colors\":[\"red\",\"blue\",\"darkgoldenrod\"]},\"opacity\":0.8,\"textfont\":{\"size\":15},\"values\":[615,444,391],\"type\":\"pie\"}],                        {\"template\":{\"data\":{\"barpolar\":[{\"marker\":{\"line\":{\"color\":\"#E5ECF6\",\"width\":0.5},\"pattern\":{\"fillmode\":\"overlay\",\"size\":10,\"solidity\":0.2}},\"type\":\"barpolar\"}],\"bar\":[{\"error_x\":{\"color\":\"#2a3f5f\"},\"error_y\":{\"color\":\"#2a3f5f\"},\"marker\":{\"line\":{\"color\":\"#E5ECF6\",\"width\":0.5},\"pattern\":{\"fillmode\":\"overlay\",\"size\":10,\"solidity\":0.2}},\"type\":\"bar\"}],\"carpet\":[{\"aaxis\":{\"endlinecolor\":\"#2a3f5f\",\"gridcolor\":\"white\",\"linecolor\":\"white\",\"minorgridcolor\":\"white\",\"startlinecolor\":\"#2a3f5f\"},\"baxis\":{\"endlinecolor\":\"#2a3f5f\",\"gridcolor\":\"white\",\"linecolor\":\"white\",\"minorgridcolor\":\"white\",\"startlinecolor\":\"#2a3f5f\"},\"type\":\"carpet\"}],\"choropleth\":[{\"colorbar\":{\"outlinewidth\":0,\"ticks\":\"\"},\"type\":\"choropleth\"}],\"contourcarpet\":[{\"colorbar\":{\"outlinewidth\":0,\"ticks\":\"\"},\"type\":\"contourcarpet\"}],\"contour\":[{\"colorbar\":{\"outlinewidth\":0,\"ticks\":\"\"},\"colorscale\":[[0.0,\"#0d0887\"],[0.1111111111111111,\"#46039f\"],[0.2222222222222222,\"#7201a8\"],[0.3333333333333333,\"#9c179e\"],[0.4444444444444444,\"#bd3786\"],[0.5555555555555556,\"#d8576b\"],[0.6666666666666666,\"#ed7953\"],[0.7777777777777778,\"#fb9f3a\"],[0.8888888888888888,\"#fdca26\"],[1.0,\"#f0f921\"]],\"type\":\"contour\"}],\"heatmapgl\":[{\"colorbar\":{\"outlinewidth\":0,\"ticks\":\"\"},\"colorscale\":[[0.0,\"#0d0887\"],[0.1111111111111111,\"#46039f\"],[0.2222222222222222,\"#7201a8\"],[0.3333333333333333,\"#9c179e\"],[0.4444444444444444,\"#bd3786\"],[0.5555555555555556,\"#d8576b\"],[0.6666666666666666,\"#ed7953\"],[0.7777777777777778,\"#fb9f3a\"],[0.8888888888888888,\"#fdca26\"],[1.0,\"#f0f921\"]],\"type\":\"heatmapgl\"}],\"heatmap\":[{\"colorbar\":{\"outlinewidth\":0,\"ticks\":\"\"},\"colorscale\":[[0.0,\"#0d0887\"],[0.1111111111111111,\"#46039f\"],[0.2222222222222222,\"#7201a8\"],[0.3333333333333333,\"#9c179e\"],[0.4444444444444444,\"#bd3786\"],[0.5555555555555556,\"#d8576b\"],[0.6666666666666666,\"#ed7953\"],[0.7777777777777778,\"#fb9f3a\"],[0.8888888888888888,\"#fdca26\"],[1.0,\"#f0f921\"]],\"type\":\"heatmap\"}],\"histogram2dcontour\":[{\"colorbar\":{\"outlinewidth\":0,\"ticks\":\"\"},\"colorscale\":[[0.0,\"#0d0887\"],[0.1111111111111111,\"#46039f\"],[0.2222222222222222,\"#7201a8\"],[0.3333333333333333,\"#9c179e\"],[0.4444444444444444,\"#bd3786\"],[0.5555555555555556,\"#d8576b\"],[0.6666666666666666,\"#ed7953\"],[0.7777777777777778,\"#fb9f3a\"],[0.8888888888888888,\"#fdca26\"],[1.0,\"#f0f921\"]],\"type\":\"histogram2dcontour\"}],\"histogram2d\":[{\"colorbar\":{\"outlinewidth\":0,\"ticks\":\"\"},\"colorscale\":[[0.0,\"#0d0887\"],[0.1111111111111111,\"#46039f\"],[0.2222222222222222,\"#7201a8\"],[0.3333333333333333,\"#9c179e\"],[0.4444444444444444,\"#bd3786\"],[0.5555555555555556,\"#d8576b\"],[0.6666666666666666,\"#ed7953\"],[0.7777777777777778,\"#fb9f3a\"],[0.8888888888888888,\"#fdca26\"],[1.0,\"#f0f921\"]],\"type\":\"histogram2d\"}],\"histogram\":[{\"marker\":{\"pattern\":{\"fillmode\":\"overlay\",\"size\":10,\"solidity\":0.2}},\"type\":\"histogram\"}],\"mesh3d\":[{\"colorbar\":{\"outlinewidth\":0,\"ticks\":\"\"},\"type\":\"mesh3d\"}],\"parcoords\":[{\"line\":{\"colorbar\":{\"outlinewidth\":0,\"ticks\":\"\"}},\"type\":\"parcoords\"}],\"pie\":[{\"automargin\":true,\"type\":\"pie\"}],\"scatter3d\":[{\"line\":{\"colorbar\":{\"outlinewidth\":0,\"ticks\":\"\"}},\"marker\":{\"colorbar\":{\"outlinewidth\":0,\"ticks\":\"\"}},\"type\":\"scatter3d\"}],\"scattercarpet\":[{\"marker\":{\"colorbar\":{\"outlinewidth\":0,\"ticks\":\"\"}},\"type\":\"scattercarpet\"}],\"scattergeo\":[{\"marker\":{\"colorbar\":{\"outlinewidth\":0,\"ticks\":\"\"}},\"type\":\"scattergeo\"}],\"scattergl\":[{\"marker\":{\"colorbar\":{\"outlinewidth\":0,\"ticks\":\"\"}},\"type\":\"scattergl\"}],\"scattermapbox\":[{\"marker\":{\"colorbar\":{\"outlinewidth\":0,\"ticks\":\"\"}},\"type\":\"scattermapbox\"}],\"scatterpolargl\":[{\"marker\":{\"colorbar\":{\"outlinewidth\":0,\"ticks\":\"\"}},\"type\":\"scatterpolargl\"}],\"scatterpolar\":[{\"marker\":{\"colorbar\":{\"outlinewidth\":0,\"ticks\":\"\"}},\"type\":\"scatterpolar\"}],\"scatter\":[{\"fillpattern\":{\"fillmode\":\"overlay\",\"size\":10,\"solidity\":0.2},\"type\":\"scatter\"}],\"scatterternary\":[{\"marker\":{\"colorbar\":{\"outlinewidth\":0,\"ticks\":\"\"}},\"type\":\"scatterternary\"}],\"surface\":[{\"colorbar\":{\"outlinewidth\":0,\"ticks\":\"\"},\"colorscale\":[[0.0,\"#0d0887\"],[0.1111111111111111,\"#46039f\"],[0.2222222222222222,\"#7201a8\"],[0.3333333333333333,\"#9c179e\"],[0.4444444444444444,\"#bd3786\"],[0.5555555555555556,\"#d8576b\"],[0.6666666666666666,\"#ed7953\"],[0.7777777777777778,\"#fb9f3a\"],[0.8888888888888888,\"#fdca26\"],[1.0,\"#f0f921\"]],\"type\":\"surface\"}],\"table\":[{\"cells\":{\"fill\":{\"color\":\"#EBF0F8\"},\"line\":{\"color\":\"white\"}},\"header\":{\"fill\":{\"color\":\"#C8D4E3\"},\"line\":{\"color\":\"white\"}},\"type\":\"table\"}]},\"layout\":{\"annotationdefaults\":{\"arrowcolor\":\"#2a3f5f\",\"arrowhead\":0,\"arrowwidth\":1},\"autotypenumbers\":\"strict\",\"coloraxis\":{\"colorbar\":{\"outlinewidth\":0,\"ticks\":\"\"}},\"colorscale\":{\"diverging\":[[0,\"#8e0152\"],[0.1,\"#c51b7d\"],[0.2,\"#de77ae\"],[0.3,\"#f1b6da\"],[0.4,\"#fde0ef\"],[0.5,\"#f7f7f7\"],[0.6,\"#e6f5d0\"],[0.7,\"#b8e186\"],[0.8,\"#7fbc41\"],[0.9,\"#4d9221\"],[1,\"#276419\"]],\"sequential\":[[0.0,\"#0d0887\"],[0.1111111111111111,\"#46039f\"],[0.2222222222222222,\"#7201a8\"],[0.3333333333333333,\"#9c179e\"],[0.4444444444444444,\"#bd3786\"],[0.5555555555555556,\"#d8576b\"],[0.6666666666666666,\"#ed7953\"],[0.7777777777777778,\"#fb9f3a\"],[0.8888888888888888,\"#fdca26\"],[1.0,\"#f0f921\"]],\"sequentialminus\":[[0.0,\"#0d0887\"],[0.1111111111111111,\"#46039f\"],[0.2222222222222222,\"#7201a8\"],[0.3333333333333333,\"#9c179e\"],[0.4444444444444444,\"#bd3786\"],[0.5555555555555556,\"#d8576b\"],[0.6666666666666666,\"#ed7953\"],[0.7777777777777778,\"#fb9f3a\"],[0.8888888888888888,\"#fdca26\"],[1.0,\"#f0f921\"]]},\"colorway\":[\"#636efa\",\"#EF553B\",\"#00cc96\",\"#ab63fa\",\"#FFA15A\",\"#19d3f3\",\"#FF6692\",\"#B6E880\",\"#FF97FF\",\"#FECB52\"],\"font\":{\"color\":\"#2a3f5f\"},\"geo\":{\"bgcolor\":\"white\",\"lakecolor\":\"white\",\"landcolor\":\"#E5ECF6\",\"showlakes\":true,\"showland\":true,\"subunitcolor\":\"white\"},\"hoverlabel\":{\"align\":\"left\"},\"hovermode\":\"closest\",\"mapbox\":{\"style\":\"light\"},\"paper_bgcolor\":\"white\",\"plot_bgcolor\":\"#E5ECF6\",\"polar\":{\"angularaxis\":{\"gridcolor\":\"white\",\"linecolor\":\"white\",\"ticks\":\"\"},\"bgcolor\":\"#E5ECF6\",\"radialaxis\":{\"gridcolor\":\"white\",\"linecolor\":\"white\",\"ticks\":\"\"}},\"scene\":{\"xaxis\":{\"backgroundcolor\":\"#E5ECF6\",\"gridcolor\":\"white\",\"gridwidth\":2,\"linecolor\":\"white\",\"showbackground\":true,\"ticks\":\"\",\"zerolinecolor\":\"white\"},\"yaxis\":{\"backgroundcolor\":\"#E5ECF6\",\"gridcolor\":\"white\",\"gridwidth\":2,\"linecolor\":\"white\",\"showbackground\":true,\"ticks\":\"\",\"zerolinecolor\":\"white\"},\"zaxis\":{\"backgroundcolor\":\"#E5ECF6\",\"gridcolor\":\"white\",\"gridwidth\":2,\"linecolor\":\"white\",\"showbackground\":true,\"ticks\":\"\",\"zerolinecolor\":\"white\"}},\"shapedefaults\":{\"line\":{\"color\":\"#2a3f5f\"}},\"ternary\":{\"aaxis\":{\"gridcolor\":\"white\",\"linecolor\":\"white\",\"ticks\":\"\"},\"baxis\":{\"gridcolor\":\"white\",\"linecolor\":\"white\",\"ticks\":\"\"},\"bgcolor\":\"#E5ECF6\",\"caxis\":{\"gridcolor\":\"white\",\"linecolor\":\"white\",\"ticks\":\"\"}},\"title\":{\"x\":0.05},\"xaxis\":{\"automargin\":true,\"gridcolor\":\"white\",\"linecolor\":\"white\",\"ticks\":\"\",\"title\":{\"standoff\":15},\"zerolinecolor\":\"white\",\"zerolinewidth\":2},\"yaxis\":{\"automargin\":true,\"gridcolor\":\"white\",\"linecolor\":\"white\",\"ticks\":\"\",\"title\":{\"standoff\":15},\"zerolinecolor\":\"white\",\"zerolinewidth\":2}}},\"title\":{\"text\":\"Distribution of Creator of Superheroes\"}},                        {\"responsive\": true}                    ).then(function(){\n",
       "                            \n",
       "var gd = document.getElementById('e8a0b774-0ab6-45f9-b494-0995809fbb37');\n",
       "var x = new MutationObserver(function (mutations, observer) {{\n",
       "        var display = window.getComputedStyle(gd).display;\n",
       "        if (!display || display === 'none') {{\n",
       "            console.log([gd, 'removed!']);\n",
       "            Plotly.purge(gd);\n",
       "            observer.disconnect();\n",
       "        }}\n",
       "}});\n",
       "\n",
       "// Listen for the removal of the full notebook cells\n",
       "var notebookContainer = gd.closest('#notebook-container');\n",
       "if (notebookContainer) {{\n",
       "    x.observe(notebookContainer, {childList: true});\n",
       "}}\n",
       "\n",
       "// Listen for the clearing of the current output cell\n",
       "var outputEl = gd.closest('.output');\n",
       "if (outputEl) {{\n",
       "    x.observe(outputEl, {childList: true});\n",
       "}}\n",
       "\n",
       "                        })                };                });            </script>        </div>"
      ]
     },
     "metadata": {},
     "output_type": "display_data"
    }
   ],
   "source": [
    "creator_percent(vis_data)"
   ]
  },
  {
   "cell_type": "markdown",
   "id": "f1c4bcb8",
   "metadata": {
    "papermill": {
     "duration": 0.047617,
     "end_time": "2023-10-26T17:03:34.360909",
     "exception": false,
     "start_time": "2023-10-26T17:03:34.313292",
     "status": "completed"
    },
    "tags": []
   },
   "source": [
    "#### **Creators of Superheroes**\n",
    "\n",
    "* **615 (42.4%)** of the superheroes are from **Marvel Comics**\n",
    "* **444 (30.6%)** of the superheroes are from **DC Comics** \n",
    "* **391 (27%)** of the superheroes are from other comics.\n"
   ]
  },
  {
   "cell_type": "markdown",
   "id": "334ac8be",
   "metadata": {
    "papermill": {
     "duration": 0.047039,
     "end_time": "2023-10-26T17:03:34.455681",
     "exception": false,
     "start_time": "2023-10-26T17:03:34.408642",
     "status": "completed"
    },
    "tags": []
   },
   "source": [
    "## **We have a Gender columns as well. Let's visualise how the Superheros are distributed Gender wise**"
   ]
  },
  {
   "cell_type": "code",
   "execution_count": 13,
   "id": "52f48d11",
   "metadata": {
    "execution": {
     "iopub.execute_input": "2023-10-26T17:03:34.552971Z",
     "iopub.status.busy": "2023-10-26T17:03:34.552469Z",
     "iopub.status.idle": "2023-10-26T17:03:34.597025Z",
     "shell.execute_reply": "2023-10-26T17:03:34.595756Z"
    },
    "papermill": {
     "duration": 0.096918,
     "end_time": "2023-10-26T17:03:34.599904",
     "exception": false,
     "start_time": "2023-10-26T17:03:34.502986",
     "status": "completed"
    },
    "tags": []
   },
   "outputs": [
    {
     "data": {
      "application/vnd.plotly.v1+json": {
       "config": {
        "linkText": "Export to plot.ly",
        "plotlyServerURL": "https://plot.ly",
        "showLink": false
       },
       "data": [
        {
         "base": [
          "red",
          "blue",
          "orchid"
         ],
         "orientation": "h",
         "text": [
          "615",
          "444",
          "391"
         ],
         "textfont": {
          "size": 15
         },
         "textposition": "auto",
         "type": "bar",
         "x": [
          615,
          444,
          391
         ],
         "y": [
          "Marvel Comics",
          "DC Comics",
          "Others"
         ]
        }
       ],
       "layout": {
        "template": {
         "data": {
          "bar": [
           {
            "error_x": {
             "color": "#2a3f5f"
            },
            "error_y": {
             "color": "#2a3f5f"
            },
            "marker": {
             "line": {
              "color": "#E5ECF6",
              "width": 0.5
             },
             "pattern": {
              "fillmode": "overlay",
              "size": 10,
              "solidity": 0.2
             }
            },
            "type": "bar"
           }
          ],
          "barpolar": [
           {
            "marker": {
             "line": {
              "color": "#E5ECF6",
              "width": 0.5
             },
             "pattern": {
              "fillmode": "overlay",
              "size": 10,
              "solidity": 0.2
             }
            },
            "type": "barpolar"
           }
          ],
          "carpet": [
           {
            "aaxis": {
             "endlinecolor": "#2a3f5f",
             "gridcolor": "white",
             "linecolor": "white",
             "minorgridcolor": "white",
             "startlinecolor": "#2a3f5f"
            },
            "baxis": {
             "endlinecolor": "#2a3f5f",
             "gridcolor": "white",
             "linecolor": "white",
             "minorgridcolor": "white",
             "startlinecolor": "#2a3f5f"
            },
            "type": "carpet"
           }
          ],
          "choropleth": [
           {
            "colorbar": {
             "outlinewidth": 0,
             "ticks": ""
            },
            "type": "choropleth"
           }
          ],
          "contour": [
           {
            "colorbar": {
             "outlinewidth": 0,
             "ticks": ""
            },
            "colorscale": [
             [
              0.0,
              "#0d0887"
             ],
             [
              0.1111111111111111,
              "#46039f"
             ],
             [
              0.2222222222222222,
              "#7201a8"
             ],
             [
              0.3333333333333333,
              "#9c179e"
             ],
             [
              0.4444444444444444,
              "#bd3786"
             ],
             [
              0.5555555555555556,
              "#d8576b"
             ],
             [
              0.6666666666666666,
              "#ed7953"
             ],
             [
              0.7777777777777778,
              "#fb9f3a"
             ],
             [
              0.8888888888888888,
              "#fdca26"
             ],
             [
              1.0,
              "#f0f921"
             ]
            ],
            "type": "contour"
           }
          ],
          "contourcarpet": [
           {
            "colorbar": {
             "outlinewidth": 0,
             "ticks": ""
            },
            "type": "contourcarpet"
           }
          ],
          "heatmap": [
           {
            "colorbar": {
             "outlinewidth": 0,
             "ticks": ""
            },
            "colorscale": [
             [
              0.0,
              "#0d0887"
             ],
             [
              0.1111111111111111,
              "#46039f"
             ],
             [
              0.2222222222222222,
              "#7201a8"
             ],
             [
              0.3333333333333333,
              "#9c179e"
             ],
             [
              0.4444444444444444,
              "#bd3786"
             ],
             [
              0.5555555555555556,
              "#d8576b"
             ],
             [
              0.6666666666666666,
              "#ed7953"
             ],
             [
              0.7777777777777778,
              "#fb9f3a"
             ],
             [
              0.8888888888888888,
              "#fdca26"
             ],
             [
              1.0,
              "#f0f921"
             ]
            ],
            "type": "heatmap"
           }
          ],
          "heatmapgl": [
           {
            "colorbar": {
             "outlinewidth": 0,
             "ticks": ""
            },
            "colorscale": [
             [
              0.0,
              "#0d0887"
             ],
             [
              0.1111111111111111,
              "#46039f"
             ],
             [
              0.2222222222222222,
              "#7201a8"
             ],
             [
              0.3333333333333333,
              "#9c179e"
             ],
             [
              0.4444444444444444,
              "#bd3786"
             ],
             [
              0.5555555555555556,
              "#d8576b"
             ],
             [
              0.6666666666666666,
              "#ed7953"
             ],
             [
              0.7777777777777778,
              "#fb9f3a"
             ],
             [
              0.8888888888888888,
              "#fdca26"
             ],
             [
              1.0,
              "#f0f921"
             ]
            ],
            "type": "heatmapgl"
           }
          ],
          "histogram": [
           {
            "marker": {
             "pattern": {
              "fillmode": "overlay",
              "size": 10,
              "solidity": 0.2
             }
            },
            "type": "histogram"
           }
          ],
          "histogram2d": [
           {
            "colorbar": {
             "outlinewidth": 0,
             "ticks": ""
            },
            "colorscale": [
             [
              0.0,
              "#0d0887"
             ],
             [
              0.1111111111111111,
              "#46039f"
             ],
             [
              0.2222222222222222,
              "#7201a8"
             ],
             [
              0.3333333333333333,
              "#9c179e"
             ],
             [
              0.4444444444444444,
              "#bd3786"
             ],
             [
              0.5555555555555556,
              "#d8576b"
             ],
             [
              0.6666666666666666,
              "#ed7953"
             ],
             [
              0.7777777777777778,
              "#fb9f3a"
             ],
             [
              0.8888888888888888,
              "#fdca26"
             ],
             [
              1.0,
              "#f0f921"
             ]
            ],
            "type": "histogram2d"
           }
          ],
          "histogram2dcontour": [
           {
            "colorbar": {
             "outlinewidth": 0,
             "ticks": ""
            },
            "colorscale": [
             [
              0.0,
              "#0d0887"
             ],
             [
              0.1111111111111111,
              "#46039f"
             ],
             [
              0.2222222222222222,
              "#7201a8"
             ],
             [
              0.3333333333333333,
              "#9c179e"
             ],
             [
              0.4444444444444444,
              "#bd3786"
             ],
             [
              0.5555555555555556,
              "#d8576b"
             ],
             [
              0.6666666666666666,
              "#ed7953"
             ],
             [
              0.7777777777777778,
              "#fb9f3a"
             ],
             [
              0.8888888888888888,
              "#fdca26"
             ],
             [
              1.0,
              "#f0f921"
             ]
            ],
            "type": "histogram2dcontour"
           }
          ],
          "mesh3d": [
           {
            "colorbar": {
             "outlinewidth": 0,
             "ticks": ""
            },
            "type": "mesh3d"
           }
          ],
          "parcoords": [
           {
            "line": {
             "colorbar": {
              "outlinewidth": 0,
              "ticks": ""
             }
            },
            "type": "parcoords"
           }
          ],
          "pie": [
           {
            "automargin": true,
            "type": "pie"
           }
          ],
          "scatter": [
           {
            "fillpattern": {
             "fillmode": "overlay",
             "size": 10,
             "solidity": 0.2
            },
            "type": "scatter"
           }
          ],
          "scatter3d": [
           {
            "line": {
             "colorbar": {
              "outlinewidth": 0,
              "ticks": ""
             }
            },
            "marker": {
             "colorbar": {
              "outlinewidth": 0,
              "ticks": ""
             }
            },
            "type": "scatter3d"
           }
          ],
          "scattercarpet": [
           {
            "marker": {
             "colorbar": {
              "outlinewidth": 0,
              "ticks": ""
             }
            },
            "type": "scattercarpet"
           }
          ],
          "scattergeo": [
           {
            "marker": {
             "colorbar": {
              "outlinewidth": 0,
              "ticks": ""
             }
            },
            "type": "scattergeo"
           }
          ],
          "scattergl": [
           {
            "marker": {
             "colorbar": {
              "outlinewidth": 0,
              "ticks": ""
             }
            },
            "type": "scattergl"
           }
          ],
          "scattermapbox": [
           {
            "marker": {
             "colorbar": {
              "outlinewidth": 0,
              "ticks": ""
             }
            },
            "type": "scattermapbox"
           }
          ],
          "scatterpolar": [
           {
            "marker": {
             "colorbar": {
              "outlinewidth": 0,
              "ticks": ""
             }
            },
            "type": "scatterpolar"
           }
          ],
          "scatterpolargl": [
           {
            "marker": {
             "colorbar": {
              "outlinewidth": 0,
              "ticks": ""
             }
            },
            "type": "scatterpolargl"
           }
          ],
          "scatterternary": [
           {
            "marker": {
             "colorbar": {
              "outlinewidth": 0,
              "ticks": ""
             }
            },
            "type": "scatterternary"
           }
          ],
          "surface": [
           {
            "colorbar": {
             "outlinewidth": 0,
             "ticks": ""
            },
            "colorscale": [
             [
              0.0,
              "#0d0887"
             ],
             [
              0.1111111111111111,
              "#46039f"
             ],
             [
              0.2222222222222222,
              "#7201a8"
             ],
             [
              0.3333333333333333,
              "#9c179e"
             ],
             [
              0.4444444444444444,
              "#bd3786"
             ],
             [
              0.5555555555555556,
              "#d8576b"
             ],
             [
              0.6666666666666666,
              "#ed7953"
             ],
             [
              0.7777777777777778,
              "#fb9f3a"
             ],
             [
              0.8888888888888888,
              "#fdca26"
             ],
             [
              1.0,
              "#f0f921"
             ]
            ],
            "type": "surface"
           }
          ],
          "table": [
           {
            "cells": {
             "fill": {
              "color": "#EBF0F8"
             },
             "line": {
              "color": "white"
             }
            },
            "header": {
             "fill": {
              "color": "#C8D4E3"
             },
             "line": {
              "color": "white"
             }
            },
            "type": "table"
           }
          ]
         },
         "layout": {
          "annotationdefaults": {
           "arrowcolor": "#2a3f5f",
           "arrowhead": 0,
           "arrowwidth": 1
          },
          "autotypenumbers": "strict",
          "coloraxis": {
           "colorbar": {
            "outlinewidth": 0,
            "ticks": ""
           }
          },
          "colorscale": {
           "diverging": [
            [
             0,
             "#8e0152"
            ],
            [
             0.1,
             "#c51b7d"
            ],
            [
             0.2,
             "#de77ae"
            ],
            [
             0.3,
             "#f1b6da"
            ],
            [
             0.4,
             "#fde0ef"
            ],
            [
             0.5,
             "#f7f7f7"
            ],
            [
             0.6,
             "#e6f5d0"
            ],
            [
             0.7,
             "#b8e186"
            ],
            [
             0.8,
             "#7fbc41"
            ],
            [
             0.9,
             "#4d9221"
            ],
            [
             1,
             "#276419"
            ]
           ],
           "sequential": [
            [
             0.0,
             "#0d0887"
            ],
            [
             0.1111111111111111,
             "#46039f"
            ],
            [
             0.2222222222222222,
             "#7201a8"
            ],
            [
             0.3333333333333333,
             "#9c179e"
            ],
            [
             0.4444444444444444,
             "#bd3786"
            ],
            [
             0.5555555555555556,
             "#d8576b"
            ],
            [
             0.6666666666666666,
             "#ed7953"
            ],
            [
             0.7777777777777778,
             "#fb9f3a"
            ],
            [
             0.8888888888888888,
             "#fdca26"
            ],
            [
             1.0,
             "#f0f921"
            ]
           ],
           "sequentialminus": [
            [
             0.0,
             "#0d0887"
            ],
            [
             0.1111111111111111,
             "#46039f"
            ],
            [
             0.2222222222222222,
             "#7201a8"
            ],
            [
             0.3333333333333333,
             "#9c179e"
            ],
            [
             0.4444444444444444,
             "#bd3786"
            ],
            [
             0.5555555555555556,
             "#d8576b"
            ],
            [
             0.6666666666666666,
             "#ed7953"
            ],
            [
             0.7777777777777778,
             "#fb9f3a"
            ],
            [
             0.8888888888888888,
             "#fdca26"
            ],
            [
             1.0,
             "#f0f921"
            ]
           ]
          },
          "colorway": [
           "#636efa",
           "#EF553B",
           "#00cc96",
           "#ab63fa",
           "#FFA15A",
           "#19d3f3",
           "#FF6692",
           "#B6E880",
           "#FF97FF",
           "#FECB52"
          ],
          "font": {
           "color": "#2a3f5f"
          },
          "geo": {
           "bgcolor": "white",
           "lakecolor": "white",
           "landcolor": "#E5ECF6",
           "showlakes": true,
           "showland": true,
           "subunitcolor": "white"
          },
          "hoverlabel": {
           "align": "left"
          },
          "hovermode": "closest",
          "mapbox": {
           "style": "light"
          },
          "paper_bgcolor": "white",
          "plot_bgcolor": "#E5ECF6",
          "polar": {
           "angularaxis": {
            "gridcolor": "white",
            "linecolor": "white",
            "ticks": ""
           },
           "bgcolor": "#E5ECF6",
           "radialaxis": {
            "gridcolor": "white",
            "linecolor": "white",
            "ticks": ""
           }
          },
          "scene": {
           "xaxis": {
            "backgroundcolor": "#E5ECF6",
            "gridcolor": "white",
            "gridwidth": 2,
            "linecolor": "white",
            "showbackground": true,
            "ticks": "",
            "zerolinecolor": "white"
           },
           "yaxis": {
            "backgroundcolor": "#E5ECF6",
            "gridcolor": "white",
            "gridwidth": 2,
            "linecolor": "white",
            "showbackground": true,
            "ticks": "",
            "zerolinecolor": "white"
           },
           "zaxis": {
            "backgroundcolor": "#E5ECF6",
            "gridcolor": "white",
            "gridwidth": 2,
            "linecolor": "white",
            "showbackground": true,
            "ticks": "",
            "zerolinecolor": "white"
           }
          },
          "shapedefaults": {
           "line": {
            "color": "#2a3f5f"
           }
          },
          "ternary": {
           "aaxis": {
            "gridcolor": "white",
            "linecolor": "white",
            "ticks": ""
           },
           "baxis": {
            "gridcolor": "white",
            "linecolor": "white",
            "ticks": ""
           },
           "bgcolor": "#E5ECF6",
           "caxis": {
            "gridcolor": "white",
            "linecolor": "white",
            "ticks": ""
           }
          },
          "title": {
           "x": 0.05
          },
          "xaxis": {
           "automargin": true,
           "gridcolor": "white",
           "linecolor": "white",
           "ticks": "",
           "title": {
            "standoff": 15
           },
           "zerolinecolor": "white",
           "zerolinewidth": 2
          },
          "yaxis": {
           "automargin": true,
           "gridcolor": "white",
           "linecolor": "white",
           "ticks": "",
           "title": {
            "standoff": 15
           },
           "zerolinecolor": "white",
           "zerolinewidth": 2
          }
         }
        },
        "title": {
         "text": "Count of Creator of Superheroes"
        }
       }
      },
      "text/html": [
       "<div>                            <div id=\"1bf5a5a1-f4bb-49fa-815f-63e3c93990a5\" class=\"plotly-graph-div\" style=\"height:525px; width:100%;\"></div>            <script type=\"text/javascript\">                require([\"plotly\"], function(Plotly) {                    window.PLOTLYENV=window.PLOTLYENV || {};                                    if (document.getElementById(\"1bf5a5a1-f4bb-49fa-815f-63e3c93990a5\")) {                    Plotly.newPlot(                        \"1bf5a5a1-f4bb-49fa-815f-63e3c93990a5\",                        [{\"base\":[\"red\",\"blue\",\"orchid\"],\"orientation\":\"h\",\"text\":[\"615\",\"444\",\"391\"],\"textfont\":{\"size\":15},\"textposition\":\"auto\",\"x\":[615,444,391],\"y\":[\"Marvel Comics\",\"DC Comics\",\"Others\"],\"type\":\"bar\"}],                        {\"template\":{\"data\":{\"barpolar\":[{\"marker\":{\"line\":{\"color\":\"#E5ECF6\",\"width\":0.5},\"pattern\":{\"fillmode\":\"overlay\",\"size\":10,\"solidity\":0.2}},\"type\":\"barpolar\"}],\"bar\":[{\"error_x\":{\"color\":\"#2a3f5f\"},\"error_y\":{\"color\":\"#2a3f5f\"},\"marker\":{\"line\":{\"color\":\"#E5ECF6\",\"width\":0.5},\"pattern\":{\"fillmode\":\"overlay\",\"size\":10,\"solidity\":0.2}},\"type\":\"bar\"}],\"carpet\":[{\"aaxis\":{\"endlinecolor\":\"#2a3f5f\",\"gridcolor\":\"white\",\"linecolor\":\"white\",\"minorgridcolor\":\"white\",\"startlinecolor\":\"#2a3f5f\"},\"baxis\":{\"endlinecolor\":\"#2a3f5f\",\"gridcolor\":\"white\",\"linecolor\":\"white\",\"minorgridcolor\":\"white\",\"startlinecolor\":\"#2a3f5f\"},\"type\":\"carpet\"}],\"choropleth\":[{\"colorbar\":{\"outlinewidth\":0,\"ticks\":\"\"},\"type\":\"choropleth\"}],\"contourcarpet\":[{\"colorbar\":{\"outlinewidth\":0,\"ticks\":\"\"},\"type\":\"contourcarpet\"}],\"contour\":[{\"colorbar\":{\"outlinewidth\":0,\"ticks\":\"\"},\"colorscale\":[[0.0,\"#0d0887\"],[0.1111111111111111,\"#46039f\"],[0.2222222222222222,\"#7201a8\"],[0.3333333333333333,\"#9c179e\"],[0.4444444444444444,\"#bd3786\"],[0.5555555555555556,\"#d8576b\"],[0.6666666666666666,\"#ed7953\"],[0.7777777777777778,\"#fb9f3a\"],[0.8888888888888888,\"#fdca26\"],[1.0,\"#f0f921\"]],\"type\":\"contour\"}],\"heatmapgl\":[{\"colorbar\":{\"outlinewidth\":0,\"ticks\":\"\"},\"colorscale\":[[0.0,\"#0d0887\"],[0.1111111111111111,\"#46039f\"],[0.2222222222222222,\"#7201a8\"],[0.3333333333333333,\"#9c179e\"],[0.4444444444444444,\"#bd3786\"],[0.5555555555555556,\"#d8576b\"],[0.6666666666666666,\"#ed7953\"],[0.7777777777777778,\"#fb9f3a\"],[0.8888888888888888,\"#fdca26\"],[1.0,\"#f0f921\"]],\"type\":\"heatmapgl\"}],\"heatmap\":[{\"colorbar\":{\"outlinewidth\":0,\"ticks\":\"\"},\"colorscale\":[[0.0,\"#0d0887\"],[0.1111111111111111,\"#46039f\"],[0.2222222222222222,\"#7201a8\"],[0.3333333333333333,\"#9c179e\"],[0.4444444444444444,\"#bd3786\"],[0.5555555555555556,\"#d8576b\"],[0.6666666666666666,\"#ed7953\"],[0.7777777777777778,\"#fb9f3a\"],[0.8888888888888888,\"#fdca26\"],[1.0,\"#f0f921\"]],\"type\":\"heatmap\"}],\"histogram2dcontour\":[{\"colorbar\":{\"outlinewidth\":0,\"ticks\":\"\"},\"colorscale\":[[0.0,\"#0d0887\"],[0.1111111111111111,\"#46039f\"],[0.2222222222222222,\"#7201a8\"],[0.3333333333333333,\"#9c179e\"],[0.4444444444444444,\"#bd3786\"],[0.5555555555555556,\"#d8576b\"],[0.6666666666666666,\"#ed7953\"],[0.7777777777777778,\"#fb9f3a\"],[0.8888888888888888,\"#fdca26\"],[1.0,\"#f0f921\"]],\"type\":\"histogram2dcontour\"}],\"histogram2d\":[{\"colorbar\":{\"outlinewidth\":0,\"ticks\":\"\"},\"colorscale\":[[0.0,\"#0d0887\"],[0.1111111111111111,\"#46039f\"],[0.2222222222222222,\"#7201a8\"],[0.3333333333333333,\"#9c179e\"],[0.4444444444444444,\"#bd3786\"],[0.5555555555555556,\"#d8576b\"],[0.6666666666666666,\"#ed7953\"],[0.7777777777777778,\"#fb9f3a\"],[0.8888888888888888,\"#fdca26\"],[1.0,\"#f0f921\"]],\"type\":\"histogram2d\"}],\"histogram\":[{\"marker\":{\"pattern\":{\"fillmode\":\"overlay\",\"size\":10,\"solidity\":0.2}},\"type\":\"histogram\"}],\"mesh3d\":[{\"colorbar\":{\"outlinewidth\":0,\"ticks\":\"\"},\"type\":\"mesh3d\"}],\"parcoords\":[{\"line\":{\"colorbar\":{\"outlinewidth\":0,\"ticks\":\"\"}},\"type\":\"parcoords\"}],\"pie\":[{\"automargin\":true,\"type\":\"pie\"}],\"scatter3d\":[{\"line\":{\"colorbar\":{\"outlinewidth\":0,\"ticks\":\"\"}},\"marker\":{\"colorbar\":{\"outlinewidth\":0,\"ticks\":\"\"}},\"type\":\"scatter3d\"}],\"scattercarpet\":[{\"marker\":{\"colorbar\":{\"outlinewidth\":0,\"ticks\":\"\"}},\"type\":\"scattercarpet\"}],\"scattergeo\":[{\"marker\":{\"colorbar\":{\"outlinewidth\":0,\"ticks\":\"\"}},\"type\":\"scattergeo\"}],\"scattergl\":[{\"marker\":{\"colorbar\":{\"outlinewidth\":0,\"ticks\":\"\"}},\"type\":\"scattergl\"}],\"scattermapbox\":[{\"marker\":{\"colorbar\":{\"outlinewidth\":0,\"ticks\":\"\"}},\"type\":\"scattermapbox\"}],\"scatterpolargl\":[{\"marker\":{\"colorbar\":{\"outlinewidth\":0,\"ticks\":\"\"}},\"type\":\"scatterpolargl\"}],\"scatterpolar\":[{\"marker\":{\"colorbar\":{\"outlinewidth\":0,\"ticks\":\"\"}},\"type\":\"scatterpolar\"}],\"scatter\":[{\"fillpattern\":{\"fillmode\":\"overlay\",\"size\":10,\"solidity\":0.2},\"type\":\"scatter\"}],\"scatterternary\":[{\"marker\":{\"colorbar\":{\"outlinewidth\":0,\"ticks\":\"\"}},\"type\":\"scatterternary\"}],\"surface\":[{\"colorbar\":{\"outlinewidth\":0,\"ticks\":\"\"},\"colorscale\":[[0.0,\"#0d0887\"],[0.1111111111111111,\"#46039f\"],[0.2222222222222222,\"#7201a8\"],[0.3333333333333333,\"#9c179e\"],[0.4444444444444444,\"#bd3786\"],[0.5555555555555556,\"#d8576b\"],[0.6666666666666666,\"#ed7953\"],[0.7777777777777778,\"#fb9f3a\"],[0.8888888888888888,\"#fdca26\"],[1.0,\"#f0f921\"]],\"type\":\"surface\"}],\"table\":[{\"cells\":{\"fill\":{\"color\":\"#EBF0F8\"},\"line\":{\"color\":\"white\"}},\"header\":{\"fill\":{\"color\":\"#C8D4E3\"},\"line\":{\"color\":\"white\"}},\"type\":\"table\"}]},\"layout\":{\"annotationdefaults\":{\"arrowcolor\":\"#2a3f5f\",\"arrowhead\":0,\"arrowwidth\":1},\"autotypenumbers\":\"strict\",\"coloraxis\":{\"colorbar\":{\"outlinewidth\":0,\"ticks\":\"\"}},\"colorscale\":{\"diverging\":[[0,\"#8e0152\"],[0.1,\"#c51b7d\"],[0.2,\"#de77ae\"],[0.3,\"#f1b6da\"],[0.4,\"#fde0ef\"],[0.5,\"#f7f7f7\"],[0.6,\"#e6f5d0\"],[0.7,\"#b8e186\"],[0.8,\"#7fbc41\"],[0.9,\"#4d9221\"],[1,\"#276419\"]],\"sequential\":[[0.0,\"#0d0887\"],[0.1111111111111111,\"#46039f\"],[0.2222222222222222,\"#7201a8\"],[0.3333333333333333,\"#9c179e\"],[0.4444444444444444,\"#bd3786\"],[0.5555555555555556,\"#d8576b\"],[0.6666666666666666,\"#ed7953\"],[0.7777777777777778,\"#fb9f3a\"],[0.8888888888888888,\"#fdca26\"],[1.0,\"#f0f921\"]],\"sequentialminus\":[[0.0,\"#0d0887\"],[0.1111111111111111,\"#46039f\"],[0.2222222222222222,\"#7201a8\"],[0.3333333333333333,\"#9c179e\"],[0.4444444444444444,\"#bd3786\"],[0.5555555555555556,\"#d8576b\"],[0.6666666666666666,\"#ed7953\"],[0.7777777777777778,\"#fb9f3a\"],[0.8888888888888888,\"#fdca26\"],[1.0,\"#f0f921\"]]},\"colorway\":[\"#636efa\",\"#EF553B\",\"#00cc96\",\"#ab63fa\",\"#FFA15A\",\"#19d3f3\",\"#FF6692\",\"#B6E880\",\"#FF97FF\",\"#FECB52\"],\"font\":{\"color\":\"#2a3f5f\"},\"geo\":{\"bgcolor\":\"white\",\"lakecolor\":\"white\",\"landcolor\":\"#E5ECF6\",\"showlakes\":true,\"showland\":true,\"subunitcolor\":\"white\"},\"hoverlabel\":{\"align\":\"left\"},\"hovermode\":\"closest\",\"mapbox\":{\"style\":\"light\"},\"paper_bgcolor\":\"white\",\"plot_bgcolor\":\"#E5ECF6\",\"polar\":{\"angularaxis\":{\"gridcolor\":\"white\",\"linecolor\":\"white\",\"ticks\":\"\"},\"bgcolor\":\"#E5ECF6\",\"radialaxis\":{\"gridcolor\":\"white\",\"linecolor\":\"white\",\"ticks\":\"\"}},\"scene\":{\"xaxis\":{\"backgroundcolor\":\"#E5ECF6\",\"gridcolor\":\"white\",\"gridwidth\":2,\"linecolor\":\"white\",\"showbackground\":true,\"ticks\":\"\",\"zerolinecolor\":\"white\"},\"yaxis\":{\"backgroundcolor\":\"#E5ECF6\",\"gridcolor\":\"white\",\"gridwidth\":2,\"linecolor\":\"white\",\"showbackground\":true,\"ticks\":\"\",\"zerolinecolor\":\"white\"},\"zaxis\":{\"backgroundcolor\":\"#E5ECF6\",\"gridcolor\":\"white\",\"gridwidth\":2,\"linecolor\":\"white\",\"showbackground\":true,\"ticks\":\"\",\"zerolinecolor\":\"white\"}},\"shapedefaults\":{\"line\":{\"color\":\"#2a3f5f\"}},\"ternary\":{\"aaxis\":{\"gridcolor\":\"white\",\"linecolor\":\"white\",\"ticks\":\"\"},\"baxis\":{\"gridcolor\":\"white\",\"linecolor\":\"white\",\"ticks\":\"\"},\"bgcolor\":\"#E5ECF6\",\"caxis\":{\"gridcolor\":\"white\",\"linecolor\":\"white\",\"ticks\":\"\"}},\"title\":{\"x\":0.05},\"xaxis\":{\"automargin\":true,\"gridcolor\":\"white\",\"linecolor\":\"white\",\"ticks\":\"\",\"title\":{\"standoff\":15},\"zerolinecolor\":\"white\",\"zerolinewidth\":2},\"yaxis\":{\"automargin\":true,\"gridcolor\":\"white\",\"linecolor\":\"white\",\"ticks\":\"\",\"title\":{\"standoff\":15},\"zerolinecolor\":\"white\",\"zerolinewidth\":2}}},\"title\":{\"text\":\"Count of Creator of Superheroes\"}},                        {\"responsive\": true}                    ).then(function(){\n",
       "                            \n",
       "var gd = document.getElementById('1bf5a5a1-f4bb-49fa-815f-63e3c93990a5');\n",
       "var x = new MutationObserver(function (mutations, observer) {{\n",
       "        var display = window.getComputedStyle(gd).display;\n",
       "        if (!display || display === 'none') {{\n",
       "            console.log([gd, 'removed!']);\n",
       "            Plotly.purge(gd);\n",
       "            observer.disconnect();\n",
       "        }}\n",
       "}});\n",
       "\n",
       "// Listen for the removal of the full notebook cells\n",
       "var notebookContainer = gd.closest('#notebook-container');\n",
       "if (notebookContainer) {{\n",
       "    x.observe(notebookContainer, {childList: true});\n",
       "}}\n",
       "\n",
       "// Listen for the clearing of the current output cell\n",
       "var outputEl = gd.closest('.output');\n",
       "if (outputEl) {{\n",
       "    x.observe(outputEl, {childList: true});\n",
       "}}\n",
       "\n",
       "                        })                };                });            </script>        </div>"
      ]
     },
     "metadata": {},
     "output_type": "display_data"
    }
   ],
   "source": [
    "# Calling the function for Gender\n",
    "creator_count(vis_data )"
   ]
  },
  {
   "cell_type": "code",
   "execution_count": 14,
   "id": "52451f82",
   "metadata": {
    "execution": {
     "iopub.execute_input": "2023-10-26T17:03:34.720276Z",
     "iopub.status.busy": "2023-10-26T17:03:34.718767Z",
     "iopub.status.idle": "2023-10-26T17:03:34.727793Z",
     "shell.execute_reply": "2023-10-26T17:03:34.726546Z"
    },
    "papermill": {
     "duration": 0.07404,
     "end_time": "2023-10-26T17:03:34.731177",
     "exception": false,
     "start_time": "2023-10-26T17:03:34.657137",
     "status": "completed"
    },
    "tags": []
   },
   "outputs": [],
   "source": [
    "def gender_count(data):\n",
    "    trace = go.Bar( x = data['gender'].value_counts().values.tolist(), \n",
    "                    y = ['Male','Female' ], \n",
    "                    orientation = 'h', \n",
    "                    text=data['gender'].value_counts().values.tolist(), \n",
    "                    textfont=dict(size=15),\n",
    "                    opacity = 0.8,marker=dict(\n",
    "                    color=['gold', 'deeppink'],\n",
    "                    line=dict(color='#000000',width=1.5)))\n",
    "\n",
    "    layout = dict(title =  'Count of Gender of Superheroes')\n",
    "\n",
    "    fig = dict(data = [trace], layout=layout)\n",
    "    py.iplot(fig)"
   ]
  },
  {
   "cell_type": "code",
   "execution_count": 15,
   "id": "2236df21",
   "metadata": {
    "execution": {
     "iopub.execute_input": "2023-10-26T17:03:34.842535Z",
     "iopub.status.busy": "2023-10-26T17:03:34.841744Z",
     "iopub.status.idle": "2023-10-26T17:03:34.889227Z",
     "shell.execute_reply": "2023-10-26T17:03:34.888027Z"
    },
    "papermill": {
     "duration": 0.104389,
     "end_time": "2023-10-26T17:03:34.892660",
     "exception": false,
     "start_time": "2023-10-26T17:03:34.788271",
     "status": "completed"
    },
    "tags": []
   },
   "outputs": [
    {
     "data": {
      "application/vnd.plotly.v1+json": {
       "config": {
        "linkText": "Export to plot.ly",
        "plotlyServerURL": "https://plot.ly",
        "showLink": false
       },
       "data": [
        {
         "marker": {
          "color": [
           "gold",
           "deeppink"
          ],
          "line": {
           "color": "#000000",
           "width": 1.5
          }
         },
         "opacity": 0.8,
         "orientation": "h",
         "text": [
          "970",
          "335"
         ],
         "textfont": {
          "size": 15
         },
         "type": "bar",
         "x": [
          970,
          335
         ],
         "y": [
          "Male",
          "Female"
         ]
        }
       ],
       "layout": {
        "template": {
         "data": {
          "bar": [
           {
            "error_x": {
             "color": "#2a3f5f"
            },
            "error_y": {
             "color": "#2a3f5f"
            },
            "marker": {
             "line": {
              "color": "#E5ECF6",
              "width": 0.5
             },
             "pattern": {
              "fillmode": "overlay",
              "size": 10,
              "solidity": 0.2
             }
            },
            "type": "bar"
           }
          ],
          "barpolar": [
           {
            "marker": {
             "line": {
              "color": "#E5ECF6",
              "width": 0.5
             },
             "pattern": {
              "fillmode": "overlay",
              "size": 10,
              "solidity": 0.2
             }
            },
            "type": "barpolar"
           }
          ],
          "carpet": [
           {
            "aaxis": {
             "endlinecolor": "#2a3f5f",
             "gridcolor": "white",
             "linecolor": "white",
             "minorgridcolor": "white",
             "startlinecolor": "#2a3f5f"
            },
            "baxis": {
             "endlinecolor": "#2a3f5f",
             "gridcolor": "white",
             "linecolor": "white",
             "minorgridcolor": "white",
             "startlinecolor": "#2a3f5f"
            },
            "type": "carpet"
           }
          ],
          "choropleth": [
           {
            "colorbar": {
             "outlinewidth": 0,
             "ticks": ""
            },
            "type": "choropleth"
           }
          ],
          "contour": [
           {
            "colorbar": {
             "outlinewidth": 0,
             "ticks": ""
            },
            "colorscale": [
             [
              0.0,
              "#0d0887"
             ],
             [
              0.1111111111111111,
              "#46039f"
             ],
             [
              0.2222222222222222,
              "#7201a8"
             ],
             [
              0.3333333333333333,
              "#9c179e"
             ],
             [
              0.4444444444444444,
              "#bd3786"
             ],
             [
              0.5555555555555556,
              "#d8576b"
             ],
             [
              0.6666666666666666,
              "#ed7953"
             ],
             [
              0.7777777777777778,
              "#fb9f3a"
             ],
             [
              0.8888888888888888,
              "#fdca26"
             ],
             [
              1.0,
              "#f0f921"
             ]
            ],
            "type": "contour"
           }
          ],
          "contourcarpet": [
           {
            "colorbar": {
             "outlinewidth": 0,
             "ticks": ""
            },
            "type": "contourcarpet"
           }
          ],
          "heatmap": [
           {
            "colorbar": {
             "outlinewidth": 0,
             "ticks": ""
            },
            "colorscale": [
             [
              0.0,
              "#0d0887"
             ],
             [
              0.1111111111111111,
              "#46039f"
             ],
             [
              0.2222222222222222,
              "#7201a8"
             ],
             [
              0.3333333333333333,
              "#9c179e"
             ],
             [
              0.4444444444444444,
              "#bd3786"
             ],
             [
              0.5555555555555556,
              "#d8576b"
             ],
             [
              0.6666666666666666,
              "#ed7953"
             ],
             [
              0.7777777777777778,
              "#fb9f3a"
             ],
             [
              0.8888888888888888,
              "#fdca26"
             ],
             [
              1.0,
              "#f0f921"
             ]
            ],
            "type": "heatmap"
           }
          ],
          "heatmapgl": [
           {
            "colorbar": {
             "outlinewidth": 0,
             "ticks": ""
            },
            "colorscale": [
             [
              0.0,
              "#0d0887"
             ],
             [
              0.1111111111111111,
              "#46039f"
             ],
             [
              0.2222222222222222,
              "#7201a8"
             ],
             [
              0.3333333333333333,
              "#9c179e"
             ],
             [
              0.4444444444444444,
              "#bd3786"
             ],
             [
              0.5555555555555556,
              "#d8576b"
             ],
             [
              0.6666666666666666,
              "#ed7953"
             ],
             [
              0.7777777777777778,
              "#fb9f3a"
             ],
             [
              0.8888888888888888,
              "#fdca26"
             ],
             [
              1.0,
              "#f0f921"
             ]
            ],
            "type": "heatmapgl"
           }
          ],
          "histogram": [
           {
            "marker": {
             "pattern": {
              "fillmode": "overlay",
              "size": 10,
              "solidity": 0.2
             }
            },
            "type": "histogram"
           }
          ],
          "histogram2d": [
           {
            "colorbar": {
             "outlinewidth": 0,
             "ticks": ""
            },
            "colorscale": [
             [
              0.0,
              "#0d0887"
             ],
             [
              0.1111111111111111,
              "#46039f"
             ],
             [
              0.2222222222222222,
              "#7201a8"
             ],
             [
              0.3333333333333333,
              "#9c179e"
             ],
             [
              0.4444444444444444,
              "#bd3786"
             ],
             [
              0.5555555555555556,
              "#d8576b"
             ],
             [
              0.6666666666666666,
              "#ed7953"
             ],
             [
              0.7777777777777778,
              "#fb9f3a"
             ],
             [
              0.8888888888888888,
              "#fdca26"
             ],
             [
              1.0,
              "#f0f921"
             ]
            ],
            "type": "histogram2d"
           }
          ],
          "histogram2dcontour": [
           {
            "colorbar": {
             "outlinewidth": 0,
             "ticks": ""
            },
            "colorscale": [
             [
              0.0,
              "#0d0887"
             ],
             [
              0.1111111111111111,
              "#46039f"
             ],
             [
              0.2222222222222222,
              "#7201a8"
             ],
             [
              0.3333333333333333,
              "#9c179e"
             ],
             [
              0.4444444444444444,
              "#bd3786"
             ],
             [
              0.5555555555555556,
              "#d8576b"
             ],
             [
              0.6666666666666666,
              "#ed7953"
             ],
             [
              0.7777777777777778,
              "#fb9f3a"
             ],
             [
              0.8888888888888888,
              "#fdca26"
             ],
             [
              1.0,
              "#f0f921"
             ]
            ],
            "type": "histogram2dcontour"
           }
          ],
          "mesh3d": [
           {
            "colorbar": {
             "outlinewidth": 0,
             "ticks": ""
            },
            "type": "mesh3d"
           }
          ],
          "parcoords": [
           {
            "line": {
             "colorbar": {
              "outlinewidth": 0,
              "ticks": ""
             }
            },
            "type": "parcoords"
           }
          ],
          "pie": [
           {
            "automargin": true,
            "type": "pie"
           }
          ],
          "scatter": [
           {
            "fillpattern": {
             "fillmode": "overlay",
             "size": 10,
             "solidity": 0.2
            },
            "type": "scatter"
           }
          ],
          "scatter3d": [
           {
            "line": {
             "colorbar": {
              "outlinewidth": 0,
              "ticks": ""
             }
            },
            "marker": {
             "colorbar": {
              "outlinewidth": 0,
              "ticks": ""
             }
            },
            "type": "scatter3d"
           }
          ],
          "scattercarpet": [
           {
            "marker": {
             "colorbar": {
              "outlinewidth": 0,
              "ticks": ""
             }
            },
            "type": "scattercarpet"
           }
          ],
          "scattergeo": [
           {
            "marker": {
             "colorbar": {
              "outlinewidth": 0,
              "ticks": ""
             }
            },
            "type": "scattergeo"
           }
          ],
          "scattergl": [
           {
            "marker": {
             "colorbar": {
              "outlinewidth": 0,
              "ticks": ""
             }
            },
            "type": "scattergl"
           }
          ],
          "scattermapbox": [
           {
            "marker": {
             "colorbar": {
              "outlinewidth": 0,
              "ticks": ""
             }
            },
            "type": "scattermapbox"
           }
          ],
          "scatterpolar": [
           {
            "marker": {
             "colorbar": {
              "outlinewidth": 0,
              "ticks": ""
             }
            },
            "type": "scatterpolar"
           }
          ],
          "scatterpolargl": [
           {
            "marker": {
             "colorbar": {
              "outlinewidth": 0,
              "ticks": ""
             }
            },
            "type": "scatterpolargl"
           }
          ],
          "scatterternary": [
           {
            "marker": {
             "colorbar": {
              "outlinewidth": 0,
              "ticks": ""
             }
            },
            "type": "scatterternary"
           }
          ],
          "surface": [
           {
            "colorbar": {
             "outlinewidth": 0,
             "ticks": ""
            },
            "colorscale": [
             [
              0.0,
              "#0d0887"
             ],
             [
              0.1111111111111111,
              "#46039f"
             ],
             [
              0.2222222222222222,
              "#7201a8"
             ],
             [
              0.3333333333333333,
              "#9c179e"
             ],
             [
              0.4444444444444444,
              "#bd3786"
             ],
             [
              0.5555555555555556,
              "#d8576b"
             ],
             [
              0.6666666666666666,
              "#ed7953"
             ],
             [
              0.7777777777777778,
              "#fb9f3a"
             ],
             [
              0.8888888888888888,
              "#fdca26"
             ],
             [
              1.0,
              "#f0f921"
             ]
            ],
            "type": "surface"
           }
          ],
          "table": [
           {
            "cells": {
             "fill": {
              "color": "#EBF0F8"
             },
             "line": {
              "color": "white"
             }
            },
            "header": {
             "fill": {
              "color": "#C8D4E3"
             },
             "line": {
              "color": "white"
             }
            },
            "type": "table"
           }
          ]
         },
         "layout": {
          "annotationdefaults": {
           "arrowcolor": "#2a3f5f",
           "arrowhead": 0,
           "arrowwidth": 1
          },
          "autotypenumbers": "strict",
          "coloraxis": {
           "colorbar": {
            "outlinewidth": 0,
            "ticks": ""
           }
          },
          "colorscale": {
           "diverging": [
            [
             0,
             "#8e0152"
            ],
            [
             0.1,
             "#c51b7d"
            ],
            [
             0.2,
             "#de77ae"
            ],
            [
             0.3,
             "#f1b6da"
            ],
            [
             0.4,
             "#fde0ef"
            ],
            [
             0.5,
             "#f7f7f7"
            ],
            [
             0.6,
             "#e6f5d0"
            ],
            [
             0.7,
             "#b8e186"
            ],
            [
             0.8,
             "#7fbc41"
            ],
            [
             0.9,
             "#4d9221"
            ],
            [
             1,
             "#276419"
            ]
           ],
           "sequential": [
            [
             0.0,
             "#0d0887"
            ],
            [
             0.1111111111111111,
             "#46039f"
            ],
            [
             0.2222222222222222,
             "#7201a8"
            ],
            [
             0.3333333333333333,
             "#9c179e"
            ],
            [
             0.4444444444444444,
             "#bd3786"
            ],
            [
             0.5555555555555556,
             "#d8576b"
            ],
            [
             0.6666666666666666,
             "#ed7953"
            ],
            [
             0.7777777777777778,
             "#fb9f3a"
            ],
            [
             0.8888888888888888,
             "#fdca26"
            ],
            [
             1.0,
             "#f0f921"
            ]
           ],
           "sequentialminus": [
            [
             0.0,
             "#0d0887"
            ],
            [
             0.1111111111111111,
             "#46039f"
            ],
            [
             0.2222222222222222,
             "#7201a8"
            ],
            [
             0.3333333333333333,
             "#9c179e"
            ],
            [
             0.4444444444444444,
             "#bd3786"
            ],
            [
             0.5555555555555556,
             "#d8576b"
            ],
            [
             0.6666666666666666,
             "#ed7953"
            ],
            [
             0.7777777777777778,
             "#fb9f3a"
            ],
            [
             0.8888888888888888,
             "#fdca26"
            ],
            [
             1.0,
             "#f0f921"
            ]
           ]
          },
          "colorway": [
           "#636efa",
           "#EF553B",
           "#00cc96",
           "#ab63fa",
           "#FFA15A",
           "#19d3f3",
           "#FF6692",
           "#B6E880",
           "#FF97FF",
           "#FECB52"
          ],
          "font": {
           "color": "#2a3f5f"
          },
          "geo": {
           "bgcolor": "white",
           "lakecolor": "white",
           "landcolor": "#E5ECF6",
           "showlakes": true,
           "showland": true,
           "subunitcolor": "white"
          },
          "hoverlabel": {
           "align": "left"
          },
          "hovermode": "closest",
          "mapbox": {
           "style": "light"
          },
          "paper_bgcolor": "white",
          "plot_bgcolor": "#E5ECF6",
          "polar": {
           "angularaxis": {
            "gridcolor": "white",
            "linecolor": "white",
            "ticks": ""
           },
           "bgcolor": "#E5ECF6",
           "radialaxis": {
            "gridcolor": "white",
            "linecolor": "white",
            "ticks": ""
           }
          },
          "scene": {
           "xaxis": {
            "backgroundcolor": "#E5ECF6",
            "gridcolor": "white",
            "gridwidth": 2,
            "linecolor": "white",
            "showbackground": true,
            "ticks": "",
            "zerolinecolor": "white"
           },
           "yaxis": {
            "backgroundcolor": "#E5ECF6",
            "gridcolor": "white",
            "gridwidth": 2,
            "linecolor": "white",
            "showbackground": true,
            "ticks": "",
            "zerolinecolor": "white"
           },
           "zaxis": {
            "backgroundcolor": "#E5ECF6",
            "gridcolor": "white",
            "gridwidth": 2,
            "linecolor": "white",
            "showbackground": true,
            "ticks": "",
            "zerolinecolor": "white"
           }
          },
          "shapedefaults": {
           "line": {
            "color": "#2a3f5f"
           }
          },
          "ternary": {
           "aaxis": {
            "gridcolor": "white",
            "linecolor": "white",
            "ticks": ""
           },
           "baxis": {
            "gridcolor": "white",
            "linecolor": "white",
            "ticks": ""
           },
           "bgcolor": "#E5ECF6",
           "caxis": {
            "gridcolor": "white",
            "linecolor": "white",
            "ticks": ""
           }
          },
          "title": {
           "x": 0.05
          },
          "xaxis": {
           "automargin": true,
           "gridcolor": "white",
           "linecolor": "white",
           "ticks": "",
           "title": {
            "standoff": 15
           },
           "zerolinecolor": "white",
           "zerolinewidth": 2
          },
          "yaxis": {
           "automargin": true,
           "gridcolor": "white",
           "linecolor": "white",
           "ticks": "",
           "title": {
            "standoff": 15
           },
           "zerolinecolor": "white",
           "zerolinewidth": 2
          }
         }
        },
        "title": {
         "text": "Count of Gender of Superheroes"
        }
       }
      },
      "text/html": [
       "<div>                            <div id=\"f756e1aa-b8a2-468d-af41-86cff4660a1d\" class=\"plotly-graph-div\" style=\"height:525px; width:100%;\"></div>            <script type=\"text/javascript\">                require([\"plotly\"], function(Plotly) {                    window.PLOTLYENV=window.PLOTLYENV || {};                                    if (document.getElementById(\"f756e1aa-b8a2-468d-af41-86cff4660a1d\")) {                    Plotly.newPlot(                        \"f756e1aa-b8a2-468d-af41-86cff4660a1d\",                        [{\"marker\":{\"color\":[\"gold\",\"deeppink\"],\"line\":{\"color\":\"#000000\",\"width\":1.5}},\"opacity\":0.8,\"orientation\":\"h\",\"text\":[\"970\",\"335\"],\"textfont\":{\"size\":15},\"x\":[970,335],\"y\":[\"Male\",\"Female\"],\"type\":\"bar\"}],                        {\"template\":{\"data\":{\"barpolar\":[{\"marker\":{\"line\":{\"color\":\"#E5ECF6\",\"width\":0.5},\"pattern\":{\"fillmode\":\"overlay\",\"size\":10,\"solidity\":0.2}},\"type\":\"barpolar\"}],\"bar\":[{\"error_x\":{\"color\":\"#2a3f5f\"},\"error_y\":{\"color\":\"#2a3f5f\"},\"marker\":{\"line\":{\"color\":\"#E5ECF6\",\"width\":0.5},\"pattern\":{\"fillmode\":\"overlay\",\"size\":10,\"solidity\":0.2}},\"type\":\"bar\"}],\"carpet\":[{\"aaxis\":{\"endlinecolor\":\"#2a3f5f\",\"gridcolor\":\"white\",\"linecolor\":\"white\",\"minorgridcolor\":\"white\",\"startlinecolor\":\"#2a3f5f\"},\"baxis\":{\"endlinecolor\":\"#2a3f5f\",\"gridcolor\":\"white\",\"linecolor\":\"white\",\"minorgridcolor\":\"white\",\"startlinecolor\":\"#2a3f5f\"},\"type\":\"carpet\"}],\"choropleth\":[{\"colorbar\":{\"outlinewidth\":0,\"ticks\":\"\"},\"type\":\"choropleth\"}],\"contourcarpet\":[{\"colorbar\":{\"outlinewidth\":0,\"ticks\":\"\"},\"type\":\"contourcarpet\"}],\"contour\":[{\"colorbar\":{\"outlinewidth\":0,\"ticks\":\"\"},\"colorscale\":[[0.0,\"#0d0887\"],[0.1111111111111111,\"#46039f\"],[0.2222222222222222,\"#7201a8\"],[0.3333333333333333,\"#9c179e\"],[0.4444444444444444,\"#bd3786\"],[0.5555555555555556,\"#d8576b\"],[0.6666666666666666,\"#ed7953\"],[0.7777777777777778,\"#fb9f3a\"],[0.8888888888888888,\"#fdca26\"],[1.0,\"#f0f921\"]],\"type\":\"contour\"}],\"heatmapgl\":[{\"colorbar\":{\"outlinewidth\":0,\"ticks\":\"\"},\"colorscale\":[[0.0,\"#0d0887\"],[0.1111111111111111,\"#46039f\"],[0.2222222222222222,\"#7201a8\"],[0.3333333333333333,\"#9c179e\"],[0.4444444444444444,\"#bd3786\"],[0.5555555555555556,\"#d8576b\"],[0.6666666666666666,\"#ed7953\"],[0.7777777777777778,\"#fb9f3a\"],[0.8888888888888888,\"#fdca26\"],[1.0,\"#f0f921\"]],\"type\":\"heatmapgl\"}],\"heatmap\":[{\"colorbar\":{\"outlinewidth\":0,\"ticks\":\"\"},\"colorscale\":[[0.0,\"#0d0887\"],[0.1111111111111111,\"#46039f\"],[0.2222222222222222,\"#7201a8\"],[0.3333333333333333,\"#9c179e\"],[0.4444444444444444,\"#bd3786\"],[0.5555555555555556,\"#d8576b\"],[0.6666666666666666,\"#ed7953\"],[0.7777777777777778,\"#fb9f3a\"],[0.8888888888888888,\"#fdca26\"],[1.0,\"#f0f921\"]],\"type\":\"heatmap\"}],\"histogram2dcontour\":[{\"colorbar\":{\"outlinewidth\":0,\"ticks\":\"\"},\"colorscale\":[[0.0,\"#0d0887\"],[0.1111111111111111,\"#46039f\"],[0.2222222222222222,\"#7201a8\"],[0.3333333333333333,\"#9c179e\"],[0.4444444444444444,\"#bd3786\"],[0.5555555555555556,\"#d8576b\"],[0.6666666666666666,\"#ed7953\"],[0.7777777777777778,\"#fb9f3a\"],[0.8888888888888888,\"#fdca26\"],[1.0,\"#f0f921\"]],\"type\":\"histogram2dcontour\"}],\"histogram2d\":[{\"colorbar\":{\"outlinewidth\":0,\"ticks\":\"\"},\"colorscale\":[[0.0,\"#0d0887\"],[0.1111111111111111,\"#46039f\"],[0.2222222222222222,\"#7201a8\"],[0.3333333333333333,\"#9c179e\"],[0.4444444444444444,\"#bd3786\"],[0.5555555555555556,\"#d8576b\"],[0.6666666666666666,\"#ed7953\"],[0.7777777777777778,\"#fb9f3a\"],[0.8888888888888888,\"#fdca26\"],[1.0,\"#f0f921\"]],\"type\":\"histogram2d\"}],\"histogram\":[{\"marker\":{\"pattern\":{\"fillmode\":\"overlay\",\"size\":10,\"solidity\":0.2}},\"type\":\"histogram\"}],\"mesh3d\":[{\"colorbar\":{\"outlinewidth\":0,\"ticks\":\"\"},\"type\":\"mesh3d\"}],\"parcoords\":[{\"line\":{\"colorbar\":{\"outlinewidth\":0,\"ticks\":\"\"}},\"type\":\"parcoords\"}],\"pie\":[{\"automargin\":true,\"type\":\"pie\"}],\"scatter3d\":[{\"line\":{\"colorbar\":{\"outlinewidth\":0,\"ticks\":\"\"}},\"marker\":{\"colorbar\":{\"outlinewidth\":0,\"ticks\":\"\"}},\"type\":\"scatter3d\"}],\"scattercarpet\":[{\"marker\":{\"colorbar\":{\"outlinewidth\":0,\"ticks\":\"\"}},\"type\":\"scattercarpet\"}],\"scattergeo\":[{\"marker\":{\"colorbar\":{\"outlinewidth\":0,\"ticks\":\"\"}},\"type\":\"scattergeo\"}],\"scattergl\":[{\"marker\":{\"colorbar\":{\"outlinewidth\":0,\"ticks\":\"\"}},\"type\":\"scattergl\"}],\"scattermapbox\":[{\"marker\":{\"colorbar\":{\"outlinewidth\":0,\"ticks\":\"\"}},\"type\":\"scattermapbox\"}],\"scatterpolargl\":[{\"marker\":{\"colorbar\":{\"outlinewidth\":0,\"ticks\":\"\"}},\"type\":\"scatterpolargl\"}],\"scatterpolar\":[{\"marker\":{\"colorbar\":{\"outlinewidth\":0,\"ticks\":\"\"}},\"type\":\"scatterpolar\"}],\"scatter\":[{\"fillpattern\":{\"fillmode\":\"overlay\",\"size\":10,\"solidity\":0.2},\"type\":\"scatter\"}],\"scatterternary\":[{\"marker\":{\"colorbar\":{\"outlinewidth\":0,\"ticks\":\"\"}},\"type\":\"scatterternary\"}],\"surface\":[{\"colorbar\":{\"outlinewidth\":0,\"ticks\":\"\"},\"colorscale\":[[0.0,\"#0d0887\"],[0.1111111111111111,\"#46039f\"],[0.2222222222222222,\"#7201a8\"],[0.3333333333333333,\"#9c179e\"],[0.4444444444444444,\"#bd3786\"],[0.5555555555555556,\"#d8576b\"],[0.6666666666666666,\"#ed7953\"],[0.7777777777777778,\"#fb9f3a\"],[0.8888888888888888,\"#fdca26\"],[1.0,\"#f0f921\"]],\"type\":\"surface\"}],\"table\":[{\"cells\":{\"fill\":{\"color\":\"#EBF0F8\"},\"line\":{\"color\":\"white\"}},\"header\":{\"fill\":{\"color\":\"#C8D4E3\"},\"line\":{\"color\":\"white\"}},\"type\":\"table\"}]},\"layout\":{\"annotationdefaults\":{\"arrowcolor\":\"#2a3f5f\",\"arrowhead\":0,\"arrowwidth\":1},\"autotypenumbers\":\"strict\",\"coloraxis\":{\"colorbar\":{\"outlinewidth\":0,\"ticks\":\"\"}},\"colorscale\":{\"diverging\":[[0,\"#8e0152\"],[0.1,\"#c51b7d\"],[0.2,\"#de77ae\"],[0.3,\"#f1b6da\"],[0.4,\"#fde0ef\"],[0.5,\"#f7f7f7\"],[0.6,\"#e6f5d0\"],[0.7,\"#b8e186\"],[0.8,\"#7fbc41\"],[0.9,\"#4d9221\"],[1,\"#276419\"]],\"sequential\":[[0.0,\"#0d0887\"],[0.1111111111111111,\"#46039f\"],[0.2222222222222222,\"#7201a8\"],[0.3333333333333333,\"#9c179e\"],[0.4444444444444444,\"#bd3786\"],[0.5555555555555556,\"#d8576b\"],[0.6666666666666666,\"#ed7953\"],[0.7777777777777778,\"#fb9f3a\"],[0.8888888888888888,\"#fdca26\"],[1.0,\"#f0f921\"]],\"sequentialminus\":[[0.0,\"#0d0887\"],[0.1111111111111111,\"#46039f\"],[0.2222222222222222,\"#7201a8\"],[0.3333333333333333,\"#9c179e\"],[0.4444444444444444,\"#bd3786\"],[0.5555555555555556,\"#d8576b\"],[0.6666666666666666,\"#ed7953\"],[0.7777777777777778,\"#fb9f3a\"],[0.8888888888888888,\"#fdca26\"],[1.0,\"#f0f921\"]]},\"colorway\":[\"#636efa\",\"#EF553B\",\"#00cc96\",\"#ab63fa\",\"#FFA15A\",\"#19d3f3\",\"#FF6692\",\"#B6E880\",\"#FF97FF\",\"#FECB52\"],\"font\":{\"color\":\"#2a3f5f\"},\"geo\":{\"bgcolor\":\"white\",\"lakecolor\":\"white\",\"landcolor\":\"#E5ECF6\",\"showlakes\":true,\"showland\":true,\"subunitcolor\":\"white\"},\"hoverlabel\":{\"align\":\"left\"},\"hovermode\":\"closest\",\"mapbox\":{\"style\":\"light\"},\"paper_bgcolor\":\"white\",\"plot_bgcolor\":\"#E5ECF6\",\"polar\":{\"angularaxis\":{\"gridcolor\":\"white\",\"linecolor\":\"white\",\"ticks\":\"\"},\"bgcolor\":\"#E5ECF6\",\"radialaxis\":{\"gridcolor\":\"white\",\"linecolor\":\"white\",\"ticks\":\"\"}},\"scene\":{\"xaxis\":{\"backgroundcolor\":\"#E5ECF6\",\"gridcolor\":\"white\",\"gridwidth\":2,\"linecolor\":\"white\",\"showbackground\":true,\"ticks\":\"\",\"zerolinecolor\":\"white\"},\"yaxis\":{\"backgroundcolor\":\"#E5ECF6\",\"gridcolor\":\"white\",\"gridwidth\":2,\"linecolor\":\"white\",\"showbackground\":true,\"ticks\":\"\",\"zerolinecolor\":\"white\"},\"zaxis\":{\"backgroundcolor\":\"#E5ECF6\",\"gridcolor\":\"white\",\"gridwidth\":2,\"linecolor\":\"white\",\"showbackground\":true,\"ticks\":\"\",\"zerolinecolor\":\"white\"}},\"shapedefaults\":{\"line\":{\"color\":\"#2a3f5f\"}},\"ternary\":{\"aaxis\":{\"gridcolor\":\"white\",\"linecolor\":\"white\",\"ticks\":\"\"},\"baxis\":{\"gridcolor\":\"white\",\"linecolor\":\"white\",\"ticks\":\"\"},\"bgcolor\":\"#E5ECF6\",\"caxis\":{\"gridcolor\":\"white\",\"linecolor\":\"white\",\"ticks\":\"\"}},\"title\":{\"x\":0.05},\"xaxis\":{\"automargin\":true,\"gridcolor\":\"white\",\"linecolor\":\"white\",\"ticks\":\"\",\"title\":{\"standoff\":15},\"zerolinecolor\":\"white\",\"zerolinewidth\":2},\"yaxis\":{\"automargin\":true,\"gridcolor\":\"white\",\"linecolor\":\"white\",\"ticks\":\"\",\"title\":{\"standoff\":15},\"zerolinecolor\":\"white\",\"zerolinewidth\":2}}},\"title\":{\"text\":\"Count of Gender of Superheroes\"}},                        {\"responsive\": true}                    ).then(function(){\n",
       "                            \n",
       "var gd = document.getElementById('f756e1aa-b8a2-468d-af41-86cff4660a1d');\n",
       "var x = new MutationObserver(function (mutations, observer) {{\n",
       "        var display = window.getComputedStyle(gd).display;\n",
       "        if (!display || display === 'none') {{\n",
       "            console.log([gd, 'removed!']);\n",
       "            Plotly.purge(gd);\n",
       "            observer.disconnect();\n",
       "        }}\n",
       "}});\n",
       "\n",
       "// Listen for the removal of the full notebook cells\n",
       "var notebookContainer = gd.closest('#notebook-container');\n",
       "if (notebookContainer) {{\n",
       "    x.observe(notebookContainer, {childList: true});\n",
       "}}\n",
       "\n",
       "// Listen for the clearing of the current output cell\n",
       "var outputEl = gd.closest('.output');\n",
       "if (outputEl) {{\n",
       "    x.observe(outputEl, {childList: true});\n",
       "}}\n",
       "\n",
       "                        })                };                });            </script>        </div>"
      ]
     },
     "metadata": {},
     "output_type": "display_data"
    }
   ],
   "source": [
    "# Calling the Functions to see the Gender Count\n",
    "gender_count(vis_data)"
   ]
  },
  {
   "cell_type": "code",
   "execution_count": 16,
   "id": "b31c86fb",
   "metadata": {
    "execution": {
     "iopub.execute_input": "2023-10-26T17:03:35.013652Z",
     "iopub.status.busy": "2023-10-26T17:03:35.012829Z",
     "iopub.status.idle": "2023-10-26T17:03:35.020702Z",
     "shell.execute_reply": "2023-10-26T17:03:35.019767Z"
    },
    "papermill": {
     "duration": 0.071929,
     "end_time": "2023-10-26T17:03:35.023312",
     "exception": false,
     "start_time": "2023-10-26T17:03:34.951383",
     "status": "completed"
    },
    "tags": []
   },
   "outputs": [],
   "source": [
    "def gender_percent(data):\n",
    "    trace = go.Pie(labels = ['Male','Female'], values = data['gender'].value_counts(), \n",
    "                   textfont=dict(size=15), opacity = 0.8,\n",
    "                   marker=dict(colors=['gold', 'deeppink'], \n",
    "                               line=dict(color='#000000', width=1.5)))\n",
    "\n",
    "\n",
    "    layout = dict(title =  'Distribution of Gender of Superheroes')\n",
    "\n",
    "    fig = dict(data = [trace], layout=layout)\n",
    "    py.iplot(fig)"
   ]
  },
  {
   "cell_type": "code",
   "execution_count": 17,
   "id": "73059cfa",
   "metadata": {
    "execution": {
     "iopub.execute_input": "2023-10-26T17:03:35.146258Z",
     "iopub.status.busy": "2023-10-26T17:03:35.145399Z",
     "iopub.status.idle": "2023-10-26T17:03:35.201327Z",
     "shell.execute_reply": "2023-10-26T17:03:35.199913Z"
    },
    "papermill": {
     "duration": 0.121454,
     "end_time": "2023-10-26T17:03:35.204415",
     "exception": false,
     "start_time": "2023-10-26T17:03:35.082961",
     "status": "completed"
    },
    "tags": []
   },
   "outputs": [
    {
     "data": {
      "application/vnd.plotly.v1+json": {
       "config": {
        "linkText": "Export to plot.ly",
        "plotlyServerURL": "https://plot.ly",
        "showLink": false
       },
       "data": [
        {
         "labels": [
          "Male",
          "Female"
         ],
         "marker": {
          "colors": [
           "gold",
           "deeppink"
          ],
          "line": {
           "color": "#000000",
           "width": 1.5
          }
         },
         "opacity": 0.8,
         "textfont": {
          "size": 15
         },
         "type": "pie",
         "values": [
          970,
          335
         ]
        }
       ],
       "layout": {
        "template": {
         "data": {
          "bar": [
           {
            "error_x": {
             "color": "#2a3f5f"
            },
            "error_y": {
             "color": "#2a3f5f"
            },
            "marker": {
             "line": {
              "color": "#E5ECF6",
              "width": 0.5
             },
             "pattern": {
              "fillmode": "overlay",
              "size": 10,
              "solidity": 0.2
             }
            },
            "type": "bar"
           }
          ],
          "barpolar": [
           {
            "marker": {
             "line": {
              "color": "#E5ECF6",
              "width": 0.5
             },
             "pattern": {
              "fillmode": "overlay",
              "size": 10,
              "solidity": 0.2
             }
            },
            "type": "barpolar"
           }
          ],
          "carpet": [
           {
            "aaxis": {
             "endlinecolor": "#2a3f5f",
             "gridcolor": "white",
             "linecolor": "white",
             "minorgridcolor": "white",
             "startlinecolor": "#2a3f5f"
            },
            "baxis": {
             "endlinecolor": "#2a3f5f",
             "gridcolor": "white",
             "linecolor": "white",
             "minorgridcolor": "white",
             "startlinecolor": "#2a3f5f"
            },
            "type": "carpet"
           }
          ],
          "choropleth": [
           {
            "colorbar": {
             "outlinewidth": 0,
             "ticks": ""
            },
            "type": "choropleth"
           }
          ],
          "contour": [
           {
            "colorbar": {
             "outlinewidth": 0,
             "ticks": ""
            },
            "colorscale": [
             [
              0.0,
              "#0d0887"
             ],
             [
              0.1111111111111111,
              "#46039f"
             ],
             [
              0.2222222222222222,
              "#7201a8"
             ],
             [
              0.3333333333333333,
              "#9c179e"
             ],
             [
              0.4444444444444444,
              "#bd3786"
             ],
             [
              0.5555555555555556,
              "#d8576b"
             ],
             [
              0.6666666666666666,
              "#ed7953"
             ],
             [
              0.7777777777777778,
              "#fb9f3a"
             ],
             [
              0.8888888888888888,
              "#fdca26"
             ],
             [
              1.0,
              "#f0f921"
             ]
            ],
            "type": "contour"
           }
          ],
          "contourcarpet": [
           {
            "colorbar": {
             "outlinewidth": 0,
             "ticks": ""
            },
            "type": "contourcarpet"
           }
          ],
          "heatmap": [
           {
            "colorbar": {
             "outlinewidth": 0,
             "ticks": ""
            },
            "colorscale": [
             [
              0.0,
              "#0d0887"
             ],
             [
              0.1111111111111111,
              "#46039f"
             ],
             [
              0.2222222222222222,
              "#7201a8"
             ],
             [
              0.3333333333333333,
              "#9c179e"
             ],
             [
              0.4444444444444444,
              "#bd3786"
             ],
             [
              0.5555555555555556,
              "#d8576b"
             ],
             [
              0.6666666666666666,
              "#ed7953"
             ],
             [
              0.7777777777777778,
              "#fb9f3a"
             ],
             [
              0.8888888888888888,
              "#fdca26"
             ],
             [
              1.0,
              "#f0f921"
             ]
            ],
            "type": "heatmap"
           }
          ],
          "heatmapgl": [
           {
            "colorbar": {
             "outlinewidth": 0,
             "ticks": ""
            },
            "colorscale": [
             [
              0.0,
              "#0d0887"
             ],
             [
              0.1111111111111111,
              "#46039f"
             ],
             [
              0.2222222222222222,
              "#7201a8"
             ],
             [
              0.3333333333333333,
              "#9c179e"
             ],
             [
              0.4444444444444444,
              "#bd3786"
             ],
             [
              0.5555555555555556,
              "#d8576b"
             ],
             [
              0.6666666666666666,
              "#ed7953"
             ],
             [
              0.7777777777777778,
              "#fb9f3a"
             ],
             [
              0.8888888888888888,
              "#fdca26"
             ],
             [
              1.0,
              "#f0f921"
             ]
            ],
            "type": "heatmapgl"
           }
          ],
          "histogram": [
           {
            "marker": {
             "pattern": {
              "fillmode": "overlay",
              "size": 10,
              "solidity": 0.2
             }
            },
            "type": "histogram"
           }
          ],
          "histogram2d": [
           {
            "colorbar": {
             "outlinewidth": 0,
             "ticks": ""
            },
            "colorscale": [
             [
              0.0,
              "#0d0887"
             ],
             [
              0.1111111111111111,
              "#46039f"
             ],
             [
              0.2222222222222222,
              "#7201a8"
             ],
             [
              0.3333333333333333,
              "#9c179e"
             ],
             [
              0.4444444444444444,
              "#bd3786"
             ],
             [
              0.5555555555555556,
              "#d8576b"
             ],
             [
              0.6666666666666666,
              "#ed7953"
             ],
             [
              0.7777777777777778,
              "#fb9f3a"
             ],
             [
              0.8888888888888888,
              "#fdca26"
             ],
             [
              1.0,
              "#f0f921"
             ]
            ],
            "type": "histogram2d"
           }
          ],
          "histogram2dcontour": [
           {
            "colorbar": {
             "outlinewidth": 0,
             "ticks": ""
            },
            "colorscale": [
             [
              0.0,
              "#0d0887"
             ],
             [
              0.1111111111111111,
              "#46039f"
             ],
             [
              0.2222222222222222,
              "#7201a8"
             ],
             [
              0.3333333333333333,
              "#9c179e"
             ],
             [
              0.4444444444444444,
              "#bd3786"
             ],
             [
              0.5555555555555556,
              "#d8576b"
             ],
             [
              0.6666666666666666,
              "#ed7953"
             ],
             [
              0.7777777777777778,
              "#fb9f3a"
             ],
             [
              0.8888888888888888,
              "#fdca26"
             ],
             [
              1.0,
              "#f0f921"
             ]
            ],
            "type": "histogram2dcontour"
           }
          ],
          "mesh3d": [
           {
            "colorbar": {
             "outlinewidth": 0,
             "ticks": ""
            },
            "type": "mesh3d"
           }
          ],
          "parcoords": [
           {
            "line": {
             "colorbar": {
              "outlinewidth": 0,
              "ticks": ""
             }
            },
            "type": "parcoords"
           }
          ],
          "pie": [
           {
            "automargin": true,
            "type": "pie"
           }
          ],
          "scatter": [
           {
            "fillpattern": {
             "fillmode": "overlay",
             "size": 10,
             "solidity": 0.2
            },
            "type": "scatter"
           }
          ],
          "scatter3d": [
           {
            "line": {
             "colorbar": {
              "outlinewidth": 0,
              "ticks": ""
             }
            },
            "marker": {
             "colorbar": {
              "outlinewidth": 0,
              "ticks": ""
             }
            },
            "type": "scatter3d"
           }
          ],
          "scattercarpet": [
           {
            "marker": {
             "colorbar": {
              "outlinewidth": 0,
              "ticks": ""
             }
            },
            "type": "scattercarpet"
           }
          ],
          "scattergeo": [
           {
            "marker": {
             "colorbar": {
              "outlinewidth": 0,
              "ticks": ""
             }
            },
            "type": "scattergeo"
           }
          ],
          "scattergl": [
           {
            "marker": {
             "colorbar": {
              "outlinewidth": 0,
              "ticks": ""
             }
            },
            "type": "scattergl"
           }
          ],
          "scattermapbox": [
           {
            "marker": {
             "colorbar": {
              "outlinewidth": 0,
              "ticks": ""
             }
            },
            "type": "scattermapbox"
           }
          ],
          "scatterpolar": [
           {
            "marker": {
             "colorbar": {
              "outlinewidth": 0,
              "ticks": ""
             }
            },
            "type": "scatterpolar"
           }
          ],
          "scatterpolargl": [
           {
            "marker": {
             "colorbar": {
              "outlinewidth": 0,
              "ticks": ""
             }
            },
            "type": "scatterpolargl"
           }
          ],
          "scatterternary": [
           {
            "marker": {
             "colorbar": {
              "outlinewidth": 0,
              "ticks": ""
             }
            },
            "type": "scatterternary"
           }
          ],
          "surface": [
           {
            "colorbar": {
             "outlinewidth": 0,
             "ticks": ""
            },
            "colorscale": [
             [
              0.0,
              "#0d0887"
             ],
             [
              0.1111111111111111,
              "#46039f"
             ],
             [
              0.2222222222222222,
              "#7201a8"
             ],
             [
              0.3333333333333333,
              "#9c179e"
             ],
             [
              0.4444444444444444,
              "#bd3786"
             ],
             [
              0.5555555555555556,
              "#d8576b"
             ],
             [
              0.6666666666666666,
              "#ed7953"
             ],
             [
              0.7777777777777778,
              "#fb9f3a"
             ],
             [
              0.8888888888888888,
              "#fdca26"
             ],
             [
              1.0,
              "#f0f921"
             ]
            ],
            "type": "surface"
           }
          ],
          "table": [
           {
            "cells": {
             "fill": {
              "color": "#EBF0F8"
             },
             "line": {
              "color": "white"
             }
            },
            "header": {
             "fill": {
              "color": "#C8D4E3"
             },
             "line": {
              "color": "white"
             }
            },
            "type": "table"
           }
          ]
         },
         "layout": {
          "annotationdefaults": {
           "arrowcolor": "#2a3f5f",
           "arrowhead": 0,
           "arrowwidth": 1
          },
          "autotypenumbers": "strict",
          "coloraxis": {
           "colorbar": {
            "outlinewidth": 0,
            "ticks": ""
           }
          },
          "colorscale": {
           "diverging": [
            [
             0,
             "#8e0152"
            ],
            [
             0.1,
             "#c51b7d"
            ],
            [
             0.2,
             "#de77ae"
            ],
            [
             0.3,
             "#f1b6da"
            ],
            [
             0.4,
             "#fde0ef"
            ],
            [
             0.5,
             "#f7f7f7"
            ],
            [
             0.6,
             "#e6f5d0"
            ],
            [
             0.7,
             "#b8e186"
            ],
            [
             0.8,
             "#7fbc41"
            ],
            [
             0.9,
             "#4d9221"
            ],
            [
             1,
             "#276419"
            ]
           ],
           "sequential": [
            [
             0.0,
             "#0d0887"
            ],
            [
             0.1111111111111111,
             "#46039f"
            ],
            [
             0.2222222222222222,
             "#7201a8"
            ],
            [
             0.3333333333333333,
             "#9c179e"
            ],
            [
             0.4444444444444444,
             "#bd3786"
            ],
            [
             0.5555555555555556,
             "#d8576b"
            ],
            [
             0.6666666666666666,
             "#ed7953"
            ],
            [
             0.7777777777777778,
             "#fb9f3a"
            ],
            [
             0.8888888888888888,
             "#fdca26"
            ],
            [
             1.0,
             "#f0f921"
            ]
           ],
           "sequentialminus": [
            [
             0.0,
             "#0d0887"
            ],
            [
             0.1111111111111111,
             "#46039f"
            ],
            [
             0.2222222222222222,
             "#7201a8"
            ],
            [
             0.3333333333333333,
             "#9c179e"
            ],
            [
             0.4444444444444444,
             "#bd3786"
            ],
            [
             0.5555555555555556,
             "#d8576b"
            ],
            [
             0.6666666666666666,
             "#ed7953"
            ],
            [
             0.7777777777777778,
             "#fb9f3a"
            ],
            [
             0.8888888888888888,
             "#fdca26"
            ],
            [
             1.0,
             "#f0f921"
            ]
           ]
          },
          "colorway": [
           "#636efa",
           "#EF553B",
           "#00cc96",
           "#ab63fa",
           "#FFA15A",
           "#19d3f3",
           "#FF6692",
           "#B6E880",
           "#FF97FF",
           "#FECB52"
          ],
          "font": {
           "color": "#2a3f5f"
          },
          "geo": {
           "bgcolor": "white",
           "lakecolor": "white",
           "landcolor": "#E5ECF6",
           "showlakes": true,
           "showland": true,
           "subunitcolor": "white"
          },
          "hoverlabel": {
           "align": "left"
          },
          "hovermode": "closest",
          "mapbox": {
           "style": "light"
          },
          "paper_bgcolor": "white",
          "plot_bgcolor": "#E5ECF6",
          "polar": {
           "angularaxis": {
            "gridcolor": "white",
            "linecolor": "white",
            "ticks": ""
           },
           "bgcolor": "#E5ECF6",
           "radialaxis": {
            "gridcolor": "white",
            "linecolor": "white",
            "ticks": ""
           }
          },
          "scene": {
           "xaxis": {
            "backgroundcolor": "#E5ECF6",
            "gridcolor": "white",
            "gridwidth": 2,
            "linecolor": "white",
            "showbackground": true,
            "ticks": "",
            "zerolinecolor": "white"
           },
           "yaxis": {
            "backgroundcolor": "#E5ECF6",
            "gridcolor": "white",
            "gridwidth": 2,
            "linecolor": "white",
            "showbackground": true,
            "ticks": "",
            "zerolinecolor": "white"
           },
           "zaxis": {
            "backgroundcolor": "#E5ECF6",
            "gridcolor": "white",
            "gridwidth": 2,
            "linecolor": "white",
            "showbackground": true,
            "ticks": "",
            "zerolinecolor": "white"
           }
          },
          "shapedefaults": {
           "line": {
            "color": "#2a3f5f"
           }
          },
          "ternary": {
           "aaxis": {
            "gridcolor": "white",
            "linecolor": "white",
            "ticks": ""
           },
           "baxis": {
            "gridcolor": "white",
            "linecolor": "white",
            "ticks": ""
           },
           "bgcolor": "#E5ECF6",
           "caxis": {
            "gridcolor": "white",
            "linecolor": "white",
            "ticks": ""
           }
          },
          "title": {
           "x": 0.05
          },
          "xaxis": {
           "automargin": true,
           "gridcolor": "white",
           "linecolor": "white",
           "ticks": "",
           "title": {
            "standoff": 15
           },
           "zerolinecolor": "white",
           "zerolinewidth": 2
          },
          "yaxis": {
           "automargin": true,
           "gridcolor": "white",
           "linecolor": "white",
           "ticks": "",
           "title": {
            "standoff": 15
           },
           "zerolinecolor": "white",
           "zerolinewidth": 2
          }
         }
        },
        "title": {
         "text": "Distribution of Gender of Superheroes"
        }
       }
      },
      "text/html": [
       "<div>                            <div id=\"03d5477e-9baf-424c-8fba-56380d00c161\" class=\"plotly-graph-div\" style=\"height:525px; width:100%;\"></div>            <script type=\"text/javascript\">                require([\"plotly\"], function(Plotly) {                    window.PLOTLYENV=window.PLOTLYENV || {};                                    if (document.getElementById(\"03d5477e-9baf-424c-8fba-56380d00c161\")) {                    Plotly.newPlot(                        \"03d5477e-9baf-424c-8fba-56380d00c161\",                        [{\"labels\":[\"Male\",\"Female\"],\"marker\":{\"colors\":[\"gold\",\"deeppink\"],\"line\":{\"color\":\"#000000\",\"width\":1.5}},\"opacity\":0.8,\"textfont\":{\"size\":15},\"values\":[970,335],\"type\":\"pie\"}],                        {\"template\":{\"data\":{\"barpolar\":[{\"marker\":{\"line\":{\"color\":\"#E5ECF6\",\"width\":0.5},\"pattern\":{\"fillmode\":\"overlay\",\"size\":10,\"solidity\":0.2}},\"type\":\"barpolar\"}],\"bar\":[{\"error_x\":{\"color\":\"#2a3f5f\"},\"error_y\":{\"color\":\"#2a3f5f\"},\"marker\":{\"line\":{\"color\":\"#E5ECF6\",\"width\":0.5},\"pattern\":{\"fillmode\":\"overlay\",\"size\":10,\"solidity\":0.2}},\"type\":\"bar\"}],\"carpet\":[{\"aaxis\":{\"endlinecolor\":\"#2a3f5f\",\"gridcolor\":\"white\",\"linecolor\":\"white\",\"minorgridcolor\":\"white\",\"startlinecolor\":\"#2a3f5f\"},\"baxis\":{\"endlinecolor\":\"#2a3f5f\",\"gridcolor\":\"white\",\"linecolor\":\"white\",\"minorgridcolor\":\"white\",\"startlinecolor\":\"#2a3f5f\"},\"type\":\"carpet\"}],\"choropleth\":[{\"colorbar\":{\"outlinewidth\":0,\"ticks\":\"\"},\"type\":\"choropleth\"}],\"contourcarpet\":[{\"colorbar\":{\"outlinewidth\":0,\"ticks\":\"\"},\"type\":\"contourcarpet\"}],\"contour\":[{\"colorbar\":{\"outlinewidth\":0,\"ticks\":\"\"},\"colorscale\":[[0.0,\"#0d0887\"],[0.1111111111111111,\"#46039f\"],[0.2222222222222222,\"#7201a8\"],[0.3333333333333333,\"#9c179e\"],[0.4444444444444444,\"#bd3786\"],[0.5555555555555556,\"#d8576b\"],[0.6666666666666666,\"#ed7953\"],[0.7777777777777778,\"#fb9f3a\"],[0.8888888888888888,\"#fdca26\"],[1.0,\"#f0f921\"]],\"type\":\"contour\"}],\"heatmapgl\":[{\"colorbar\":{\"outlinewidth\":0,\"ticks\":\"\"},\"colorscale\":[[0.0,\"#0d0887\"],[0.1111111111111111,\"#46039f\"],[0.2222222222222222,\"#7201a8\"],[0.3333333333333333,\"#9c179e\"],[0.4444444444444444,\"#bd3786\"],[0.5555555555555556,\"#d8576b\"],[0.6666666666666666,\"#ed7953\"],[0.7777777777777778,\"#fb9f3a\"],[0.8888888888888888,\"#fdca26\"],[1.0,\"#f0f921\"]],\"type\":\"heatmapgl\"}],\"heatmap\":[{\"colorbar\":{\"outlinewidth\":0,\"ticks\":\"\"},\"colorscale\":[[0.0,\"#0d0887\"],[0.1111111111111111,\"#46039f\"],[0.2222222222222222,\"#7201a8\"],[0.3333333333333333,\"#9c179e\"],[0.4444444444444444,\"#bd3786\"],[0.5555555555555556,\"#d8576b\"],[0.6666666666666666,\"#ed7953\"],[0.7777777777777778,\"#fb9f3a\"],[0.8888888888888888,\"#fdca26\"],[1.0,\"#f0f921\"]],\"type\":\"heatmap\"}],\"histogram2dcontour\":[{\"colorbar\":{\"outlinewidth\":0,\"ticks\":\"\"},\"colorscale\":[[0.0,\"#0d0887\"],[0.1111111111111111,\"#46039f\"],[0.2222222222222222,\"#7201a8\"],[0.3333333333333333,\"#9c179e\"],[0.4444444444444444,\"#bd3786\"],[0.5555555555555556,\"#d8576b\"],[0.6666666666666666,\"#ed7953\"],[0.7777777777777778,\"#fb9f3a\"],[0.8888888888888888,\"#fdca26\"],[1.0,\"#f0f921\"]],\"type\":\"histogram2dcontour\"}],\"histogram2d\":[{\"colorbar\":{\"outlinewidth\":0,\"ticks\":\"\"},\"colorscale\":[[0.0,\"#0d0887\"],[0.1111111111111111,\"#46039f\"],[0.2222222222222222,\"#7201a8\"],[0.3333333333333333,\"#9c179e\"],[0.4444444444444444,\"#bd3786\"],[0.5555555555555556,\"#d8576b\"],[0.6666666666666666,\"#ed7953\"],[0.7777777777777778,\"#fb9f3a\"],[0.8888888888888888,\"#fdca26\"],[1.0,\"#f0f921\"]],\"type\":\"histogram2d\"}],\"histogram\":[{\"marker\":{\"pattern\":{\"fillmode\":\"overlay\",\"size\":10,\"solidity\":0.2}},\"type\":\"histogram\"}],\"mesh3d\":[{\"colorbar\":{\"outlinewidth\":0,\"ticks\":\"\"},\"type\":\"mesh3d\"}],\"parcoords\":[{\"line\":{\"colorbar\":{\"outlinewidth\":0,\"ticks\":\"\"}},\"type\":\"parcoords\"}],\"pie\":[{\"automargin\":true,\"type\":\"pie\"}],\"scatter3d\":[{\"line\":{\"colorbar\":{\"outlinewidth\":0,\"ticks\":\"\"}},\"marker\":{\"colorbar\":{\"outlinewidth\":0,\"ticks\":\"\"}},\"type\":\"scatter3d\"}],\"scattercarpet\":[{\"marker\":{\"colorbar\":{\"outlinewidth\":0,\"ticks\":\"\"}},\"type\":\"scattercarpet\"}],\"scattergeo\":[{\"marker\":{\"colorbar\":{\"outlinewidth\":0,\"ticks\":\"\"}},\"type\":\"scattergeo\"}],\"scattergl\":[{\"marker\":{\"colorbar\":{\"outlinewidth\":0,\"ticks\":\"\"}},\"type\":\"scattergl\"}],\"scattermapbox\":[{\"marker\":{\"colorbar\":{\"outlinewidth\":0,\"ticks\":\"\"}},\"type\":\"scattermapbox\"}],\"scatterpolargl\":[{\"marker\":{\"colorbar\":{\"outlinewidth\":0,\"ticks\":\"\"}},\"type\":\"scatterpolargl\"}],\"scatterpolar\":[{\"marker\":{\"colorbar\":{\"outlinewidth\":0,\"ticks\":\"\"}},\"type\":\"scatterpolar\"}],\"scatter\":[{\"fillpattern\":{\"fillmode\":\"overlay\",\"size\":10,\"solidity\":0.2},\"type\":\"scatter\"}],\"scatterternary\":[{\"marker\":{\"colorbar\":{\"outlinewidth\":0,\"ticks\":\"\"}},\"type\":\"scatterternary\"}],\"surface\":[{\"colorbar\":{\"outlinewidth\":0,\"ticks\":\"\"},\"colorscale\":[[0.0,\"#0d0887\"],[0.1111111111111111,\"#46039f\"],[0.2222222222222222,\"#7201a8\"],[0.3333333333333333,\"#9c179e\"],[0.4444444444444444,\"#bd3786\"],[0.5555555555555556,\"#d8576b\"],[0.6666666666666666,\"#ed7953\"],[0.7777777777777778,\"#fb9f3a\"],[0.8888888888888888,\"#fdca26\"],[1.0,\"#f0f921\"]],\"type\":\"surface\"}],\"table\":[{\"cells\":{\"fill\":{\"color\":\"#EBF0F8\"},\"line\":{\"color\":\"white\"}},\"header\":{\"fill\":{\"color\":\"#C8D4E3\"},\"line\":{\"color\":\"white\"}},\"type\":\"table\"}]},\"layout\":{\"annotationdefaults\":{\"arrowcolor\":\"#2a3f5f\",\"arrowhead\":0,\"arrowwidth\":1},\"autotypenumbers\":\"strict\",\"coloraxis\":{\"colorbar\":{\"outlinewidth\":0,\"ticks\":\"\"}},\"colorscale\":{\"diverging\":[[0,\"#8e0152\"],[0.1,\"#c51b7d\"],[0.2,\"#de77ae\"],[0.3,\"#f1b6da\"],[0.4,\"#fde0ef\"],[0.5,\"#f7f7f7\"],[0.6,\"#e6f5d0\"],[0.7,\"#b8e186\"],[0.8,\"#7fbc41\"],[0.9,\"#4d9221\"],[1,\"#276419\"]],\"sequential\":[[0.0,\"#0d0887\"],[0.1111111111111111,\"#46039f\"],[0.2222222222222222,\"#7201a8\"],[0.3333333333333333,\"#9c179e\"],[0.4444444444444444,\"#bd3786\"],[0.5555555555555556,\"#d8576b\"],[0.6666666666666666,\"#ed7953\"],[0.7777777777777778,\"#fb9f3a\"],[0.8888888888888888,\"#fdca26\"],[1.0,\"#f0f921\"]],\"sequentialminus\":[[0.0,\"#0d0887\"],[0.1111111111111111,\"#46039f\"],[0.2222222222222222,\"#7201a8\"],[0.3333333333333333,\"#9c179e\"],[0.4444444444444444,\"#bd3786\"],[0.5555555555555556,\"#d8576b\"],[0.6666666666666666,\"#ed7953\"],[0.7777777777777778,\"#fb9f3a\"],[0.8888888888888888,\"#fdca26\"],[1.0,\"#f0f921\"]]},\"colorway\":[\"#636efa\",\"#EF553B\",\"#00cc96\",\"#ab63fa\",\"#FFA15A\",\"#19d3f3\",\"#FF6692\",\"#B6E880\",\"#FF97FF\",\"#FECB52\"],\"font\":{\"color\":\"#2a3f5f\"},\"geo\":{\"bgcolor\":\"white\",\"lakecolor\":\"white\",\"landcolor\":\"#E5ECF6\",\"showlakes\":true,\"showland\":true,\"subunitcolor\":\"white\"},\"hoverlabel\":{\"align\":\"left\"},\"hovermode\":\"closest\",\"mapbox\":{\"style\":\"light\"},\"paper_bgcolor\":\"white\",\"plot_bgcolor\":\"#E5ECF6\",\"polar\":{\"angularaxis\":{\"gridcolor\":\"white\",\"linecolor\":\"white\",\"ticks\":\"\"},\"bgcolor\":\"#E5ECF6\",\"radialaxis\":{\"gridcolor\":\"white\",\"linecolor\":\"white\",\"ticks\":\"\"}},\"scene\":{\"xaxis\":{\"backgroundcolor\":\"#E5ECF6\",\"gridcolor\":\"white\",\"gridwidth\":2,\"linecolor\":\"white\",\"showbackground\":true,\"ticks\":\"\",\"zerolinecolor\":\"white\"},\"yaxis\":{\"backgroundcolor\":\"#E5ECF6\",\"gridcolor\":\"white\",\"gridwidth\":2,\"linecolor\":\"white\",\"showbackground\":true,\"ticks\":\"\",\"zerolinecolor\":\"white\"},\"zaxis\":{\"backgroundcolor\":\"#E5ECF6\",\"gridcolor\":\"white\",\"gridwidth\":2,\"linecolor\":\"white\",\"showbackground\":true,\"ticks\":\"\",\"zerolinecolor\":\"white\"}},\"shapedefaults\":{\"line\":{\"color\":\"#2a3f5f\"}},\"ternary\":{\"aaxis\":{\"gridcolor\":\"white\",\"linecolor\":\"white\",\"ticks\":\"\"},\"baxis\":{\"gridcolor\":\"white\",\"linecolor\":\"white\",\"ticks\":\"\"},\"bgcolor\":\"#E5ECF6\",\"caxis\":{\"gridcolor\":\"white\",\"linecolor\":\"white\",\"ticks\":\"\"}},\"title\":{\"x\":0.05},\"xaxis\":{\"automargin\":true,\"gridcolor\":\"white\",\"linecolor\":\"white\",\"ticks\":\"\",\"title\":{\"standoff\":15},\"zerolinecolor\":\"white\",\"zerolinewidth\":2},\"yaxis\":{\"automargin\":true,\"gridcolor\":\"white\",\"linecolor\":\"white\",\"ticks\":\"\",\"title\":{\"standoff\":15},\"zerolinecolor\":\"white\",\"zerolinewidth\":2}}},\"title\":{\"text\":\"Distribution of Gender of Superheroes\"}},                        {\"responsive\": true}                    ).then(function(){\n",
       "                            \n",
       "var gd = document.getElementById('03d5477e-9baf-424c-8fba-56380d00c161');\n",
       "var x = new MutationObserver(function (mutations, observer) {{\n",
       "        var display = window.getComputedStyle(gd).display;\n",
       "        if (!display || display === 'none') {{\n",
       "            console.log([gd, 'removed!']);\n",
       "            Plotly.purge(gd);\n",
       "            observer.disconnect();\n",
       "        }}\n",
       "}});\n",
       "\n",
       "// Listen for the removal of the full notebook cells\n",
       "var notebookContainer = gd.closest('#notebook-container');\n",
       "if (notebookContainer) {{\n",
       "    x.observe(notebookContainer, {childList: true});\n",
       "}}\n",
       "\n",
       "// Listen for the clearing of the current output cell\n",
       "var outputEl = gd.closest('.output');\n",
       "if (outputEl) {{\n",
       "    x.observe(outputEl, {childList: true});\n",
       "}}\n",
       "\n",
       "                        })                };                });            </script>        </div>"
      ]
     },
     "metadata": {},
     "output_type": "display_data"
    }
   ],
   "source": [
    "gender_percent(data)"
   ]
  },
  {
   "cell_type": "markdown",
   "id": "fa62f807",
   "metadata": {
    "papermill": {
     "duration": 0.065143,
     "end_time": "2023-10-26T17:03:35.336746",
     "exception": false,
     "start_time": "2023-10-26T17:03:35.271603",
     "status": "completed"
    },
    "tags": []
   },
   "source": [
    "### **From the distribution we can see that almost 75% of the Superheros are Male.**"
   ]
  },
  {
   "cell_type": "markdown",
   "id": "7b0e1fc5",
   "metadata": {
    "papermill": {
     "duration": 0.065477,
     "end_time": "2023-10-26T17:03:35.467994",
     "exception": false,
     "start_time": "2023-10-26T17:03:35.402517",
     "status": "completed"
    },
    "tags": []
   },
   "source": [
    "## **Now let's Try to answer our questions That has been asked in the assignment**"
   ]
  },
  {
   "cell_type": "markdown",
   "id": "4e27dd76",
   "metadata": {
    "papermill": {
     "duration": 0.065473,
     "end_time": "2023-10-26T17:03:35.598718",
     "exception": false,
     "start_time": "2023-10-26T17:03:35.533245",
     "status": "completed"
    },
    "tags": []
   },
   "source": [
    "### Q1. How would you define most powerful superhero from the information available in dataset?"
   ]
  },
  {
   "cell_type": "markdown",
   "id": "61ecd67e",
   "metadata": {
    "papermill": {
     "duration": 0.066087,
     "end_time": "2023-10-26T17:03:35.733959",
     "exception": false,
     "start_time": "2023-10-26T17:03:35.667872",
     "status": "completed"
    },
    "tags": []
   },
   "source": [
    "#### Ans. \n",
    "- **Looking at the different columns, there could be many KPIs (Key Performance Indicators) that we can define.**\n",
    "- **There are specific columns, such as power stats features including 'intelligence_score', 'strength_score', 'speed_score', 'durability_score', 'power_score', 'combat_score', etc., onto which we can analyze who is more powerful.**\n",
    "- **Before jumping to any conclusions, let's first visualize these columns.**\n"
   ]
  },
  {
   "cell_type": "code",
   "execution_count": 18,
   "id": "424972bd",
   "metadata": {
    "execution": {
     "iopub.execute_input": "2023-10-26T17:03:35.872966Z",
     "iopub.status.busy": "2023-10-26T17:03:35.872483Z",
     "iopub.status.idle": "2023-10-26T17:03:35.880368Z",
     "shell.execute_reply": "2023-10-26T17:03:35.879077Z"
    },
    "papermill": {
     "duration": 0.080441,
     "end_time": "2023-10-26T17:03:35.883207",
     "exception": false,
     "start_time": "2023-10-26T17:03:35.802766",
     "status": "completed"
    },
    "tags": []
   },
   "outputs": [],
   "source": [
    "scores_columns_df = data[['intelligence_score','strength_score','speed_score','durability_score','power_score','combat_score']]"
   ]
  },
  {
   "cell_type": "code",
   "execution_count": 19,
   "id": "ba367dca",
   "metadata": {
    "execution": {
     "iopub.execute_input": "2023-10-26T17:03:36.024624Z",
     "iopub.status.busy": "2023-10-26T17:03:36.024130Z",
     "iopub.status.idle": "2023-10-26T17:03:36.532829Z",
     "shell.execute_reply": "2023-10-26T17:03:36.531225Z"
    },
    "papermill": {
     "duration": 0.585741,
     "end_time": "2023-10-26T17:03:36.536056",
     "exception": false,
     "start_time": "2023-10-26T17:03:35.950315",
     "status": "completed"
    },
    "tags": []
   },
   "outputs": [
    {
     "data": {
      "image/png": "[encoded data removed]",
      "text/plain": [
       "<Figure size 1100x1500 with 1 Axes>"
      ]
     },
     "metadata": {},
     "output_type": "display_data"
    }
   ],
   "source": [
    "plt.style.use('ggplot') # Using ggplot2 style visuals \n",
    "\n",
    "f, ax = plt.subplots(figsize=(11, 15))\n",
    "\n",
    "ax.set_facecolor('#fafafa')\n",
    "ax.set(xlim=(-.05, 200))\n",
    "plt.ylabel('Variables')\n",
    "plt.title(\"Overview  of the Power Scores\")\n",
    "ax = sns.boxplot(data = scores_columns_df, \n",
    "  orient = 'h', \n",
    "  palette = 'Set2')"
   ]
  },
  {
   "cell_type": "markdown",
   "id": "e1195e03",
   "metadata": {
    "papermill": {
     "duration": 0.070509,
     "end_time": "2023-10-26T17:03:36.675692",
     "exception": false,
     "start_time": "2023-10-26T17:03:36.605183",
     "status": "completed"
    },
    "tags": []
   },
   "source": [
    "#### **Looking at the data, we can see that some scores, such as the Intelligent score, have outliers, which means that some superheroes have better intelligence power than others.**"
   ]
  },
  {
   "cell_type": "markdown",
   "id": "7857c450",
   "metadata": {
    "papermill": {
     "duration": 0.077398,
     "end_time": "2023-10-26T17:03:36.821407",
     "exception": false,
     "start_time": "2023-10-26T17:03:36.744009",
     "status": "completed"
    },
    "tags": []
   },
   "source": [
    "Let's Explore how these Scores are correlated with each other"
   ]
  },
  {
   "cell_type": "code",
   "execution_count": 20,
   "id": "12f4ffd4",
   "metadata": {
    "execution": {
     "iopub.execute_input": "2023-10-26T17:03:36.967157Z",
     "iopub.status.busy": "2023-10-26T17:03:36.966095Z",
     "iopub.status.idle": "2023-10-26T17:03:36.975903Z",
     "shell.execute_reply": "2023-10-26T17:03:36.974652Z"
    },
    "papermill": {
     "duration": 0.082296,
     "end_time": "2023-10-26T17:03:36.978729",
     "exception": false,
     "start_time": "2023-10-26T17:03:36.896433",
     "status": "completed"
    },
    "tags": []
   },
   "outputs": [],
   "source": [
    "def correlation_plot():\n",
    "    #correlation\n",
    "    correlation = scores_columns_df.corr()\n",
    "    #tick labels\n",
    "    matrix_cols = correlation.columns.tolist()\n",
    "    #convert to array\n",
    "    corr_array  = np.array(correlation)\n",
    "    trace = go.Heatmap(z = corr_array,\n",
    "                       x = matrix_cols,\n",
    "                       y = matrix_cols,\n",
    "                       colorscale='Viridis',\n",
    "                       colorbar   = dict() ,\n",
    "                      )\n",
    "    layout = go.Layout(dict(title = 'Correlation Matrix for variables',\n",
    "                            margin  = dict(r = 0 ,l = 100,\n",
    "                                           t = 0,b = 100,\n",
    "                                         ),\n",
    "                            yaxis   = dict(tickfont = dict(size = 9)),\n",
    "                            xaxis   = dict(tickfont = dict(size = 9)),\n",
    "                           )\n",
    "                      )\n",
    "    fig = go.Figure(data = [trace],layout = layout)\n",
    "    py.iplot(fig)"
   ]
  },
  {
   "cell_type": "code",
   "execution_count": 21,
   "id": "633e9931",
   "metadata": {
    "execution": {
     "iopub.execute_input": "2023-10-26T17:03:37.122505Z",
     "iopub.status.busy": "2023-10-26T17:03:37.122065Z",
     "iopub.status.idle": "2023-10-26T17:03:37.210377Z",
     "shell.execute_reply": "2023-10-26T17:03:37.208621Z"
    },
    "papermill": {
     "duration": 0.163692,
     "end_time": "2023-10-26T17:03:37.214300",
     "exception": false,
     "start_time": "2023-10-26T17:03:37.050608",
     "status": "completed"
    },
    "tags": []
   },
   "outputs": [
    {
     "data": {
      "application/vnd.plotly.v1+json": {
       "config": {
        "linkText": "Export to plot.ly",
        "plotlyServerURL": "https://plot.ly",
        "showLink": false
       },
       "data": [
        {
         "colorscale": [
          [
           0.0,
           "#440154"
          ],
          [
           0.1111111111111111,
           "#482878"
          ],
          [
           0.2222222222222222,
           "#3e4989"
          ],
          [
           0.3333333333333333,
           "#31688e"
          ],
          [
           0.4444444444444444,
           "#26828e"
          ],
          [
           0.5555555555555556,
           "#1f9e89"
          ],
          [
           0.6666666666666666,
           "#35b779"
          ],
          [
           0.7777777777777778,
           "#6ece58"
          ],
          [
           0.8888888888888888,
           "#b5de2b"
          ],
          [
           1.0,
           "#fde725"
          ]
         ],
         "type": "heatmap",
         "x": [
          "intelligence_score",
          "strength_score",
          "speed_score",
          "durability_score",
          "power_score",
          "combat_score"
         ],
         "y": [
          "intelligence_score",
          "strength_score",
          "speed_score",
          "durability_score",
          "power_score",
          "combat_score"
         ],
         "z": [
          [
           1.0,
           0.3080829201647489,
           0.4471390062002625,
           0.46336791257667187,
           0.5036345310737,
           0.6610673179406739
          ],
          [
           0.3080829201647489,
           1.0,
           0.6902372318379755,
           0.7714725172201854,
           0.5921430941459956,
           0.37649625671924664
          ],
          [
           0.4471390062002625,
           0.6902372318379755,
           1.0,
           0.7210955331275473,
           0.6332340080911468,
           0.5216256658614242
          ],
          [
           0.46336791257667187,
           0.7714725172201854,
           0.7210955331275473,
           1.0,
           0.701052423190293,
           0.5209318681498635
          ],
          [
           0.5036345310737,
           0.5921430941459956,
           0.6332340080911468,
           0.701052423190293,
           1.0,
           0.51805457085101
          ],
          [
           0.6610673179406739,
           0.37649625671924664,
           0.5216256658614242,
           0.5209318681498635,
           0.51805457085101,
           1.0
          ]
         ]
        }
       ],
       "layout": {
        "margin": {
         "b": 100,
         "l": 100,
         "r": 0,
         "t": 0
        },
        "template": {
         "data": {
          "bar": [
           {
            "error_x": {
             "color": "#2a3f5f"
            },
            "error_y": {
             "color": "#2a3f5f"
            },
            "marker": {
             "line": {
              "color": "#E5ECF6",
              "width": 0.5
             },
             "pattern": {
              "fillmode": "overlay",
              "size": 10,
              "solidity": 0.2
             }
            },
            "type": "bar"
           }
          ],
          "barpolar": [
           {
            "marker": {
             "line": {
              "color": "#E5ECF6",
              "width": 0.5
             },
             "pattern": {
              "fillmode": "overlay",
              "size": 10,
              "solidity": 0.2
             }
            },
            "type": "barpolar"
           }
          ],
          "carpet": [
           {
            "aaxis": {
             "endlinecolor": "#2a3f5f",
             "gridcolor": "white",
             "linecolor": "white",
             "minorgridcolor": "white",
             "startlinecolor": "#2a3f5f"
            },
            "baxis": {
             "endlinecolor": "#2a3f5f",
             "gridcolor": "white",
             "linecolor": "white",
             "minorgridcolor": "white",
             "startlinecolor": "#2a3f5f"
            },
            "type": "carpet"
           }
          ],
          "choropleth": [
           {
            "colorbar": {
             "outlinewidth": 0,
             "ticks": ""
            },
            "type": "choropleth"
           }
          ],
          "contour": [
           {
            "colorbar": {
             "outlinewidth": 0,
             "ticks": ""
            },
            "colorscale": [
             [
              0.0,
              "#0d0887"
             ],
             [
              0.1111111111111111,
              "#46039f"
             ],
             [
              0.2222222222222222,
              "#7201a8"
             ],
             [
              0.3333333333333333,
              "#9c179e"
             ],
             [
              0.4444444444444444,
              "#bd3786"
             ],
             [
              0.5555555555555556,
              "#d8576b"
             ],
             [
              0.6666666666666666,
              "#ed7953"
             ],
             [
              0.7777777777777778,
              "#fb9f3a"
             ],
             [
              0.8888888888888888,
              "#fdca26"
             ],
             [
              1.0,
              "#f0f921"
             ]
            ],
            "type": "contour"
           }
          ],
          "contourcarpet": [
           {
            "colorbar": {
             "outlinewidth": 0,
             "ticks": ""
            },
            "type": "contourcarpet"
           }
          ],
          "heatmap": [
           {
            "colorbar": {
             "outlinewidth": 0,
             "ticks": ""
            },
            "colorscale": [
             [
              0.0,
              "#0d0887"
             ],
             [
              0.1111111111111111,
              "#46039f"
             ],
             [
              0.2222222222222222,
              "#7201a8"
             ],
             [
              0.3333333333333333,
              "#9c179e"
             ],
             [
              0.4444444444444444,
              "#bd3786"
             ],
             [
              0.5555555555555556,
              "#d8576b"
             ],
             [
              0.6666666666666666,
              "#ed7953"
             ],
             [
              0.7777777777777778,
              "#fb9f3a"
             ],
             [
              0.8888888888888888,
              "#fdca26"
             ],
             [
              1.0,
              "#f0f921"
             ]
            ],
            "type": "heatmap"
           }
          ],
          "heatmapgl": [
           {
            "colorbar": {
             "outlinewidth": 0,
             "ticks": ""
            },
            "colorscale": [
             [
              0.0,
              "#0d0887"
             ],
             [
              0.1111111111111111,
              "#46039f"
             ],
             [
              0.2222222222222222,
              "#7201a8"
             ],
             [
              0.3333333333333333,
              "#9c179e"
             ],
             [
              0.4444444444444444,
              "#bd3786"
             ],
             [
              0.5555555555555556,
              "#d8576b"
             ],
             [
              0.6666666666666666,
              "#ed7953"
             ],
             [
              0.7777777777777778,
              "#fb9f3a"
             ],
             [
              0.8888888888888888,
              "#fdca26"
             ],
             [
              1.0,
              "#f0f921"
             ]
            ],
            "type": "heatmapgl"
           }
          ],
          "histogram": [
           {
            "marker": {
             "pattern": {
              "fillmode": "overlay",
              "size": 10,
              "solidity": 0.2
             }
            },
            "type": "histogram"
           }
          ],
          "histogram2d": [
           {
            "colorbar": {
             "outlinewidth": 0,
             "ticks": ""
            },
            "colorscale": [
             [
              0.0,
              "#0d0887"
             ],
             [
              0.1111111111111111,
              "#46039f"
             ],
             [
              0.2222222222222222,
              "#7201a8"
             ],
             [
              0.3333333333333333,
              "#9c179e"
             ],
             [
              0.4444444444444444,
              "#bd3786"
             ],
             [
              0.5555555555555556,
              "#d8576b"
             ],
             [
              0.6666666666666666,
              "#ed7953"
             ],
             [
              0.7777777777777778,
              "#fb9f3a"
             ],
             [
              0.8888888888888888,
              "#fdca26"
             ],
             [
              1.0,
              "#f0f921"
             ]
            ],
            "type": "histogram2d"
           }
          ],
          "histogram2dcontour": [
           {
            "colorbar": {
             "outlinewidth": 0,
             "ticks": ""
            },
            "colorscale": [
             [
              0.0,
              "#0d0887"
             ],
             [
              0.1111111111111111,
              "#46039f"
             ],
             [
              0.2222222222222222,
              "#7201a8"
             ],
             [
              0.3333333333333333,
              "#9c179e"
             ],
             [
              0.4444444444444444,
              "#bd3786"
             ],
             [
              0.5555555555555556,
              "#d8576b"
             ],
             [
              0.6666666666666666,
              "#ed7953"
             ],
             [
              0.7777777777777778,
              "#fb9f3a"
             ],
             [
              0.8888888888888888,
              "#fdca26"
             ],
             [
              1.0,
              "#f0f921"
             ]
            ],
            "type": "histogram2dcontour"
           }
          ],
          "mesh3d": [
           {
            "colorbar": {
             "outlinewidth": 0,
             "ticks": ""
            },
            "type": "mesh3d"
           }
          ],
          "parcoords": [
           {
            "line": {
             "colorbar": {
              "outlinewidth": 0,
              "ticks": ""
             }
            },
            "type": "parcoords"
           }
          ],
          "pie": [
           {
            "automargin": true,
            "type": "pie"
           }
          ],
          "scatter": [
           {
            "fillpattern": {
             "fillmode": "overlay",
             "size": 10,
             "solidity": 0.2
            },
            "type": "scatter"
           }
          ],
          "scatter3d": [
           {
            "line": {
             "colorbar": {
              "outlinewidth": 0,
              "ticks": ""
             }
            },
            "marker": {
             "colorbar": {
              "outlinewidth": 0,
              "ticks": ""
             }
            },
            "type": "scatter3d"
           }
          ],
          "scattercarpet": [
           {
            "marker": {
             "colorbar": {
              "outlinewidth": 0,
              "ticks": ""
             }
            },
            "type": "scattercarpet"
           }
          ],
          "scattergeo": [
           {
            "marker": {
             "colorbar": {
              "outlinewidth": 0,
              "ticks": ""
             }
            },
            "type": "scattergeo"
           }
          ],
          "scattergl": [
           {
            "marker": {
             "colorbar": {
              "outlinewidth": 0,
              "ticks": ""
             }
            },
            "type": "scattergl"
           }
          ],
          "scattermapbox": [
           {
            "marker": {
             "colorbar": {
              "outlinewidth": 0,
              "ticks": ""
             }
            },
            "type": "scattermapbox"
           }
          ],
          "scatterpolar": [
           {
            "marker": {
             "colorbar": {
              "outlinewidth": 0,
              "ticks": ""
             }
            },
            "type": "scatterpolar"
           }
          ],
          "scatterpolargl": [
           {
            "marker": {
             "colorbar": {
              "outlinewidth": 0,
              "ticks": ""
             }
            },
            "type": "scatterpolargl"
           }
          ],
          "scatterternary": [
           {
            "marker": {
             "colorbar": {
              "outlinewidth": 0,
              "ticks": ""
             }
            },
            "type": "scatterternary"
           }
          ],
          "surface": [
           {
            "colorbar": {
             "outlinewidth": 0,
             "ticks": ""
            },
            "colorscale": [
             [
              0.0,
              "#0d0887"
             ],
             [
              0.1111111111111111,
              "#46039f"
             ],
             [
              0.2222222222222222,
              "#7201a8"
             ],
             [
              0.3333333333333333,
              "#9c179e"
             ],
             [
              0.4444444444444444,
              "#bd3786"
             ],
             [
              0.5555555555555556,
              "#d8576b"
             ],
             [
              0.6666666666666666,
              "#ed7953"
             ],
             [
              0.7777777777777778,
              "#fb9f3a"
             ],
             [
              0.8888888888888888,
              "#fdca26"
             ],
             [
              1.0,
              "#f0f921"
             ]
            ],
            "type": "surface"
           }
          ],
          "table": [
           {
            "cells": {
             "fill": {
              "color": "#EBF0F8"
             },
             "line": {
              "color": "white"
             }
            },
            "header": {
             "fill": {
              "color": "#C8D4E3"
             },
             "line": {
              "color": "white"
             }
            },
            "type": "table"
           }
          ]
         },
         "layout": {
          "annotationdefaults": {
           "arrowcolor": "#2a3f5f",
           "arrowhead": 0,
           "arrowwidth": 1
          },
          "autotypenumbers": "strict",
          "coloraxis": {
           "colorbar": {
            "outlinewidth": 0,
            "ticks": ""
           }
          },
          "colorscale": {
           "diverging": [
            [
             0,
             "#8e0152"
            ],
            [
             0.1,
             "#c51b7d"
            ],
            [
             0.2,
             "#de77ae"
            ],
            [
             0.3,
             "#f1b6da"
            ],
            [
             0.4,
             "#fde0ef"
            ],
            [
             0.5,
             "#f7f7f7"
            ],
            [
             0.6,
             "#e6f5d0"
            ],
            [
             0.7,
             "#b8e186"
            ],
            [
             0.8,
             "#7fbc41"
            ],
            [
             0.9,
             "#4d9221"
            ],
            [
             1,
             "#276419"
            ]
           ],
           "sequential": [
            [
             0.0,
             "#0d0887"
            ],
            [
             0.1111111111111111,
             "#46039f"
            ],
            [
             0.2222222222222222,
             "#7201a8"
            ],
            [
             0.3333333333333333,
             "#9c179e"
            ],
            [
             0.4444444444444444,
             "#bd3786"
            ],
            [
             0.5555555555555556,
             "#d8576b"
            ],
            [
             0.6666666666666666,
             "#ed7953"
            ],
            [
             0.7777777777777778,
             "#fb9f3a"
            ],
            [
             0.8888888888888888,
             "#fdca26"
            ],
            [
             1.0,
             "#f0f921"
            ]
           ],
           "sequentialminus": [
            [
             0.0,
             "#0d0887"
            ],
            [
             0.1111111111111111,
             "#46039f"
            ],
            [
             0.2222222222222222,
             "#7201a8"
            ],
            [
             0.3333333333333333,
             "#9c179e"
            ],
            [
             0.4444444444444444,
             "#bd3786"
            ],
            [
             0.5555555555555556,
             "#d8576b"
            ],
            [
             0.6666666666666666,
             "#ed7953"
            ],
            [
             0.7777777777777778,
             "#fb9f3a"
            ],
            [
             0.8888888888888888,
             "#fdca26"
            ],
            [
             1.0,
             "#f0f921"
            ]
           ]
          },
          "colorway": [
           "#636efa",
           "#EF553B",
           "#00cc96",
           "#ab63fa",
           "#FFA15A",
           "#19d3f3",
           "#FF6692",
           "#B6E880",
           "#FF97FF",
           "#FECB52"
          ],
          "font": {
           "color": "#2a3f5f"
          },
          "geo": {
           "bgcolor": "white",
           "lakecolor": "white",
           "landcolor": "#E5ECF6",
           "showlakes": true,
           "showland": true,
           "subunitcolor": "white"
          },
          "hoverlabel": {
           "align": "left"
          },
          "hovermode": "closest",
          "mapbox": {
           "style": "light"
          },
          "paper_bgcolor": "white",
          "plot_bgcolor": "#E5ECF6",
          "polar": {
           "angularaxis": {
            "gridcolor": "white",
            "linecolor": "white",
            "ticks": ""
           },
           "bgcolor": "#E5ECF6",
           "radialaxis": {
            "gridcolor": "white",
            "linecolor": "white",
            "ticks": ""
           }
          },
          "scene": {
           "xaxis": {
            "backgroundcolor": "#E5ECF6",
            "gridcolor": "white",
            "gridwidth": 2,
            "linecolor": "white",
            "showbackground": true,
            "ticks": "",
            "zerolinecolor": "white"
           },
           "yaxis": {
            "backgroundcolor": "#E5ECF6",
            "gridcolor": "white",
            "gridwidth": 2,
            "linecolor": "white",
            "showbackground": true,
            "ticks": "",
            "zerolinecolor": "white"
           },
           "zaxis": {
            "backgroundcolor": "#E5ECF6",
            "gridcolor": "white",
            "gridwidth": 2,
            "linecolor": "white",
            "showbackground": true,
            "ticks": "",
            "zerolinecolor": "white"
           }
          },
          "shapedefaults": {
           "line": {
            "color": "#2a3f5f"
           }
          },
          "ternary": {
           "aaxis": {
            "gridcolor": "white",
            "linecolor": "white",
            "ticks": ""
           },
           "baxis": {
            "gridcolor": "white",
            "linecolor": "white",
            "ticks": ""
           },
           "bgcolor": "#E5ECF6",
           "caxis": {
            "gridcolor": "white",
            "linecolor": "white",
            "ticks": ""
           }
          },
          "title": {
           "x": 0.05
          },
          "xaxis": {
           "automargin": true,
           "gridcolor": "white",
           "linecolor": "white",
           "ticks": "",
           "title": {
            "standoff": 15
           },
           "zerolinecolor": "white",
           "zerolinewidth": 2
          },
          "yaxis": {
           "automargin": true,
           "gridcolor": "white",
           "linecolor": "white",
           "ticks": "",
           "title": {
            "standoff": 15
           },
           "zerolinecolor": "white",
           "zerolinewidth": 2
          }
         }
        },
        "title": {
         "text": "Correlation Matrix for variables"
        },
        "xaxis": {
         "tickfont": {
          "size": 9
         }
        },
        "yaxis": {
         "tickfont": {
          "size": 9
         }
        }
       }
      },
      "text/html": [
       "<div>                            <div id=\"8a8ea552-f520-4b30-ad4c-644457e6c3b3\" class=\"plotly-graph-div\" style=\"height:525px; width:100%;\"></div>            <script type=\"text/javascript\">                require([\"plotly\"], function(Plotly) {                    window.PLOTLYENV=window.PLOTLYENV || {};                                    if (document.getElementById(\"8a8ea552-f520-4b30-ad4c-644457e6c3b3\")) {                    Plotly.newPlot(                        \"8a8ea552-f520-4b30-ad4c-644457e6c3b3\",                        [{\"colorscale\":[[0.0,\"#440154\"],[0.1111111111111111,\"#482878\"],[0.2222222222222222,\"#3e4989\"],[0.3333333333333333,\"#31688e\"],[0.4444444444444444,\"#26828e\"],[0.5555555555555556,\"#1f9e89\"],[0.6666666666666666,\"#35b779\"],[0.7777777777777778,\"#6ece58\"],[0.8888888888888888,\"#b5de2b\"],[1.0,\"#fde725\"]],\"x\":[\"intelligence_score\",\"strength_score\",\"speed_score\",\"durability_score\",\"power_score\",\"combat_score\"],\"y\":[\"intelligence_score\",\"strength_score\",\"speed_score\",\"durability_score\",\"power_score\",\"combat_score\"],\"z\":[[1.0,0.3080829201647489,0.4471390062002625,0.46336791257667187,0.5036345310737,0.6610673179406739],[0.3080829201647489,1.0,0.6902372318379755,0.7714725172201854,0.5921430941459956,0.37649625671924664],[0.4471390062002625,0.6902372318379755,1.0,0.7210955331275473,0.6332340080911468,0.5216256658614242],[0.46336791257667187,0.7714725172201854,0.7210955331275473,1.0,0.701052423190293,0.5209318681498635],[0.5036345310737,0.5921430941459956,0.6332340080911468,0.701052423190293,1.0,0.51805457085101],[0.6610673179406739,0.37649625671924664,0.5216256658614242,0.5209318681498635,0.51805457085101,1.0]],\"type\":\"heatmap\"}],                        {\"margin\":{\"b\":100,\"l\":100,\"r\":0,\"t\":0},\"template\":{\"data\":{\"barpolar\":[{\"marker\":{\"line\":{\"color\":\"#E5ECF6\",\"width\":0.5},\"pattern\":{\"fillmode\":\"overlay\",\"size\":10,\"solidity\":0.2}},\"type\":\"barpolar\"}],\"bar\":[{\"error_x\":{\"color\":\"#2a3f5f\"},\"error_y\":{\"color\":\"#2a3f5f\"},\"marker\":{\"line\":{\"color\":\"#E5ECF6\",\"width\":0.5},\"pattern\":{\"fillmode\":\"overlay\",\"size\":10,\"solidity\":0.2}},\"type\":\"bar\"}],\"carpet\":[{\"aaxis\":{\"endlinecolor\":\"#2a3f5f\",\"gridcolor\":\"white\",\"linecolor\":\"white\",\"minorgridcolor\":\"white\",\"startlinecolor\":\"#2a3f5f\"},\"baxis\":{\"endlinecolor\":\"#2a3f5f\",\"gridcolor\":\"white\",\"linecolor\":\"white\",\"minorgridcolor\":\"white\",\"startlinecolor\":\"#2a3f5f\"},\"type\":\"carpet\"}],\"choropleth\":[{\"colorbar\":{\"outlinewidth\":0,\"ticks\":\"\"},\"type\":\"choropleth\"}],\"contourcarpet\":[{\"colorbar\":{\"outlinewidth\":0,\"ticks\":\"\"},\"type\":\"contourcarpet\"}],\"contour\":[{\"colorbar\":{\"outlinewidth\":0,\"ticks\":\"\"},\"colorscale\":[[0.0,\"#0d0887\"],[0.1111111111111111,\"#46039f\"],[0.2222222222222222,\"#7201a8\"],[0.3333333333333333,\"#9c179e\"],[0.4444444444444444,\"#bd3786\"],[0.5555555555555556,\"#d8576b\"],[0.6666666666666666,\"#ed7953\"],[0.7777777777777778,\"#fb9f3a\"],[0.8888888888888888,\"#fdca26\"],[1.0,\"#f0f921\"]],\"type\":\"contour\"}],\"heatmapgl\":[{\"colorbar\":{\"outlinewidth\":0,\"ticks\":\"\"},\"colorscale\":[[0.0,\"#0d0887\"],[0.1111111111111111,\"#46039f\"],[0.2222222222222222,\"#7201a8\"],[0.3333333333333333,\"#9c179e\"],[0.4444444444444444,\"#bd3786\"],[0.5555555555555556,\"#d8576b\"],[0.6666666666666666,\"#ed7953\"],[0.7777777777777778,\"#fb9f3a\"],[0.8888888888888888,\"#fdca26\"],[1.0,\"#f0f921\"]],\"type\":\"heatmapgl\"}],\"heatmap\":[{\"colorbar\":{\"outlinewidth\":0,\"ticks\":\"\"},\"colorscale\":[[0.0,\"#0d0887\"],[0.1111111111111111,\"#46039f\"],[0.2222222222222222,\"#7201a8\"],[0.3333333333333333,\"#9c179e\"],[0.4444444444444444,\"#bd3786\"],[0.5555555555555556,\"#d8576b\"],[0.6666666666666666,\"#ed7953\"],[0.7777777777777778,\"#fb9f3a\"],[0.8888888888888888,\"#fdca26\"],[1.0,\"#f0f921\"]],\"type\":\"heatmap\"}],\"histogram2dcontour\":[{\"colorbar\":{\"outlinewidth\":0,\"ticks\":\"\"},\"colorscale\":[[0.0,\"#0d0887\"],[0.1111111111111111,\"#46039f\"],[0.2222222222222222,\"#7201a8\"],[0.3333333333333333,\"#9c179e\"],[0.4444444444444444,\"#bd3786\"],[0.5555555555555556,\"#d8576b\"],[0.6666666666666666,\"#ed7953\"],[0.7777777777777778,\"#fb9f3a\"],[0.8888888888888888,\"#fdca26\"],[1.0,\"#f0f921\"]],\"type\":\"histogram2dcontour\"}],\"histogram2d\":[{\"colorbar\":{\"outlinewidth\":0,\"ticks\":\"\"},\"colorscale\":[[0.0,\"#0d0887\"],[0.1111111111111111,\"#46039f\"],[0.2222222222222222,\"#7201a8\"],[0.3333333333333333,\"#9c179e\"],[0.4444444444444444,\"#bd3786\"],[0.5555555555555556,\"#d8576b\"],[0.6666666666666666,\"#ed7953\"],[0.7777777777777778,\"#fb9f3a\"],[0.8888888888888888,\"#fdca26\"],[1.0,\"#f0f921\"]],\"type\":\"histogram2d\"}],\"histogram\":[{\"marker\":{\"pattern\":{\"fillmode\":\"overlay\",\"size\":10,\"solidity\":0.2}},\"type\":\"histogram\"}],\"mesh3d\":[{\"colorbar\":{\"outlinewidth\":0,\"ticks\":\"\"},\"type\":\"mesh3d\"}],\"parcoords\":[{\"line\":{\"colorbar\":{\"outlinewidth\":0,\"ticks\":\"\"}},\"type\":\"parcoords\"}],\"pie\":[{\"automargin\":true,\"type\":\"pie\"}],\"scatter3d\":[{\"line\":{\"colorbar\":{\"outlinewidth\":0,\"ticks\":\"\"}},\"marker\":{\"colorbar\":{\"outlinewidth\":0,\"ticks\":\"\"}},\"type\":\"scatter3d\"}],\"scattercarpet\":[{\"marker\":{\"colorbar\":{\"outlinewidth\":0,\"ticks\":\"\"}},\"type\":\"scattercarpet\"}],\"scattergeo\":[{\"marker\":{\"colorbar\":{\"outlinewidth\":0,\"ticks\":\"\"}},\"type\":\"scattergeo\"}],\"scattergl\":[{\"marker\":{\"colorbar\":{\"outlinewidth\":0,\"ticks\":\"\"}},\"type\":\"scattergl\"}],\"scattermapbox\":[{\"marker\":{\"colorbar\":{\"outlinewidth\":0,\"ticks\":\"\"}},\"type\":\"scattermapbox\"}],\"scatterpolargl\":[{\"marker\":{\"colorbar\":{\"outlinewidth\":0,\"ticks\":\"\"}},\"type\":\"scatterpolargl\"}],\"scatterpolar\":[{\"marker\":{\"colorbar\":{\"outlinewidth\":0,\"ticks\":\"\"}},\"type\":\"scatterpolar\"}],\"scatter\":[{\"fillpattern\":{\"fillmode\":\"overlay\",\"size\":10,\"solidity\":0.2},\"type\":\"scatter\"}],\"scatterternary\":[{\"marker\":{\"colorbar\":{\"outlinewidth\":0,\"ticks\":\"\"}},\"type\":\"scatterternary\"}],\"surface\":[{\"colorbar\":{\"outlinewidth\":0,\"ticks\":\"\"},\"colorscale\":[[0.0,\"#0d0887\"],[0.1111111111111111,\"#46039f\"],[0.2222222222222222,\"#7201a8\"],[0.3333333333333333,\"#9c179e\"],[0.4444444444444444,\"#bd3786\"],[0.5555555555555556,\"#d8576b\"],[0.6666666666666666,\"#ed7953\"],[0.7777777777777778,\"#fb9f3a\"],[0.8888888888888888,\"#fdca26\"],[1.0,\"#f0f921\"]],\"type\":\"surface\"}],\"table\":[{\"cells\":{\"fill\":{\"color\":\"#EBF0F8\"},\"line\":{\"color\":\"white\"}},\"header\":{\"fill\":{\"color\":\"#C8D4E3\"},\"line\":{\"color\":\"white\"}},\"type\":\"table\"}]},\"layout\":{\"annotationdefaults\":{\"arrowcolor\":\"#2a3f5f\",\"arrowhead\":0,\"arrowwidth\":1},\"autotypenumbers\":\"strict\",\"coloraxis\":{\"colorbar\":{\"outlinewidth\":0,\"ticks\":\"\"}},\"colorscale\":{\"diverging\":[[0,\"#8e0152\"],[0.1,\"#c51b7d\"],[0.2,\"#de77ae\"],[0.3,\"#f1b6da\"],[0.4,\"#fde0ef\"],[0.5,\"#f7f7f7\"],[0.6,\"#e6f5d0\"],[0.7,\"#b8e186\"],[0.8,\"#7fbc41\"],[0.9,\"#4d9221\"],[1,\"#276419\"]],\"sequential\":[[0.0,\"#0d0887\"],[0.1111111111111111,\"#46039f\"],[0.2222222222222222,\"#7201a8\"],[0.3333333333333333,\"#9c179e\"],[0.4444444444444444,\"#bd3786\"],[0.5555555555555556,\"#d8576b\"],[0.6666666666666666,\"#ed7953\"],[0.7777777777777778,\"#fb9f3a\"],[0.8888888888888888,\"#fdca26\"],[1.0,\"#f0f921\"]],\"sequentialminus\":[[0.0,\"#0d0887\"],[0.1111111111111111,\"#46039f\"],[0.2222222222222222,\"#7201a8\"],[0.3333333333333333,\"#9c179e\"],[0.4444444444444444,\"#bd3786\"],[0.5555555555555556,\"#d8576b\"],[0.6666666666666666,\"#ed7953\"],[0.7777777777777778,\"#fb9f3a\"],[0.8888888888888888,\"#fdca26\"],[1.0,\"#f0f921\"]]},\"colorway\":[\"#636efa\",\"#EF553B\",\"#00cc96\",\"#ab63fa\",\"#FFA15A\",\"#19d3f3\",\"#FF6692\",\"#B6E880\",\"#FF97FF\",\"#FECB52\"],\"font\":{\"color\":\"#2a3f5f\"},\"geo\":{\"bgcolor\":\"white\",\"lakecolor\":\"white\",\"landcolor\":\"#E5ECF6\",\"showlakes\":true,\"showland\":true,\"subunitcolor\":\"white\"},\"hoverlabel\":{\"align\":\"left\"},\"hovermode\":\"closest\",\"mapbox\":{\"style\":\"light\"},\"paper_bgcolor\":\"white\",\"plot_bgcolor\":\"#E5ECF6\",\"polar\":{\"angularaxis\":{\"gridcolor\":\"white\",\"linecolor\":\"white\",\"ticks\":\"\"},\"bgcolor\":\"#E5ECF6\",\"radialaxis\":{\"gridcolor\":\"white\",\"linecolor\":\"white\",\"ticks\":\"\"}},\"scene\":{\"xaxis\":{\"backgroundcolor\":\"#E5ECF6\",\"gridcolor\":\"white\",\"gridwidth\":2,\"linecolor\":\"white\",\"showbackground\":true,\"ticks\":\"\",\"zerolinecolor\":\"white\"},\"yaxis\":{\"backgroundcolor\":\"#E5ECF6\",\"gridcolor\":\"white\",\"gridwidth\":2,\"linecolor\":\"white\",\"showbackground\":true,\"ticks\":\"\",\"zerolinecolor\":\"white\"},\"zaxis\":{\"backgroundcolor\":\"#E5ECF6\",\"gridcolor\":\"white\",\"gridwidth\":2,\"linecolor\":\"white\",\"showbackground\":true,\"ticks\":\"\",\"zerolinecolor\":\"white\"}},\"shapedefaults\":{\"line\":{\"color\":\"#2a3f5f\"}},\"ternary\":{\"aaxis\":{\"gridcolor\":\"white\",\"linecolor\":\"white\",\"ticks\":\"\"},\"baxis\":{\"gridcolor\":\"white\",\"linecolor\":\"white\",\"ticks\":\"\"},\"bgcolor\":\"#E5ECF6\",\"caxis\":{\"gridcolor\":\"white\",\"linecolor\":\"white\",\"ticks\":\"\"}},\"title\":{\"x\":0.05},\"xaxis\":{\"automargin\":true,\"gridcolor\":\"white\",\"linecolor\":\"white\",\"ticks\":\"\",\"title\":{\"standoff\":15},\"zerolinecolor\":\"white\",\"zerolinewidth\":2},\"yaxis\":{\"automargin\":true,\"gridcolor\":\"white\",\"linecolor\":\"white\",\"ticks\":\"\",\"title\":{\"standoff\":15},\"zerolinecolor\":\"white\",\"zerolinewidth\":2}}},\"title\":{\"text\":\"Correlation Matrix for variables\"},\"xaxis\":{\"tickfont\":{\"size\":9}},\"yaxis\":{\"tickfont\":{\"size\":9}}},                        {\"responsive\": true}                    ).then(function(){\n",
       "                            \n",
       "var gd = document.getElementById('8a8ea552-f520-4b30-ad4c-644457e6c3b3');\n",
       "var x = new MutationObserver(function (mutations, observer) {{\n",
       "        var display = window.getComputedStyle(gd).display;\n",
       "        if (!display || display === 'none') {{\n",
       "            console.log([gd, 'removed!']);\n",
       "            Plotly.purge(gd);\n",
       "            observer.disconnect();\n",
       "        }}\n",
       "}});\n",
       "\n",
       "// Listen for the removal of the full notebook cells\n",
       "var notebookContainer = gd.closest('#notebook-container');\n",
       "if (notebookContainer) {{\n",
       "    x.observe(notebookContainer, {childList: true});\n",
       "}}\n",
       "\n",
       "// Listen for the clearing of the current output cell\n",
       "var outputEl = gd.closest('.output');\n",
       "if (outputEl) {{\n",
       "    x.observe(outputEl, {childList: true});\n",
       "}}\n",
       "\n",
       "                        })                };                });            </script>        </div>"
      ]
     },
     "metadata": {},
     "output_type": "display_data"
    }
   ],
   "source": [
    "correlation_plot()"
   ]
  },
  {
   "cell_type": "markdown",
   "id": "ee3e7ee6",
   "metadata": {
    "papermill": {
     "duration": 0.076157,
     "end_time": "2023-10-26T17:03:37.368627",
     "exception": false,
     "start_time": "2023-10-26T17:03:37.292470",
     "status": "completed"
    },
    "tags": []
   },
   "source": [
    "### We have So many columns which reflect the superhero's Power's. let's Keep This as Defintion of being a most number of powerfull superpower"
   ]
  },
  {
   "cell_type": "code",
   "execution_count": 22,
   "id": "1c71149d",
   "metadata": {
    "execution": {
     "iopub.execute_input": "2023-10-26T17:03:37.526501Z",
     "iopub.status.busy": "2023-10-26T17:03:37.526079Z",
     "iopub.status.idle": "2023-10-26T17:03:37.537549Z",
     "shell.execute_reply": "2023-10-26T17:03:37.536421Z"
    },
    "papermill": {
     "duration": 0.094114,
     "end_time": "2023-10-26T17:03:37.540817",
     "exception": false,
     "start_time": "2023-10-26T17:03:37.446703",
     "status": "completed"
    },
    "tags": []
   },
   "outputs": [],
   "source": [
    "data.loc[:, 'total_superpowers'] = data.iloc[:, 31:].sum(axis=1)"
   ]
  },
  {
   "cell_type": "code",
   "execution_count": 23,
   "id": "11183aab",
   "metadata": {
    "execution": {
     "iopub.execute_input": "2023-10-26T17:03:37.704846Z",
     "iopub.status.busy": "2023-10-26T17:03:37.704066Z",
     "iopub.status.idle": "2023-10-26T17:03:37.725420Z",
     "shell.execute_reply": "2023-10-26T17:03:37.723730Z"
    },
    "papermill": {
     "duration": 0.108069,
     "end_time": "2023-10-26T17:03:37.729040",
     "exception": false,
     "start_time": "2023-10-26T17:03:37.620971",
     "status": "completed"
    },
    "tags": []
   },
   "outputs": [
    {
     "data": {
      "text/html": [
       "<div>\n",
       "<style scoped>\n",
       "    .dataframe tbody tr th:only-of-type {\n",
       "        vertical-align: middle;\n",
       "    }\n",
       "\n",
       "    .dataframe tbody tr th {\n",
       "        vertical-align: top;\n",
       "    }\n",
       "\n",
       "    .dataframe thead th {\n",
       "        text-align: right;\n",
       "    }\n",
       "</style>\n",
       "<table border=\"1\" class=\"dataframe\">\n",
       "  <thead>\n",
       "    <tr style=\"text-align: right;\">\n",
       "      <th></th>\n",
       "      <th>name</th>\n",
       "      <th>total_superpowers</th>\n",
       "      <th>creator</th>\n",
       "    </tr>\n",
       "  </thead>\n",
       "  <tbody>\n",
       "    <tr>\n",
       "      <th>1281</th>\n",
       "      <td>The Golden Master</td>\n",
       "      <td>47.0</td>\n",
       "      <td>NaN</td>\n",
       "    </tr>\n",
       "  </tbody>\n",
       "</table>\n",
       "</div>"
      ],
      "text/plain": [
       "                   name  total_superpowers creator\n",
       "1281  The Golden Master               47.0     NaN"
      ]
     },
     "execution_count": 23,
     "metadata": {},
     "output_type": "execute_result"
    }
   ],
   "source": [
    "most_power_full_superhere=data[['name','total_superpowers','creator']].sort_values('total_superpowers',ascending=False)\n",
    "most_power_full_superhere.head(1)"
   ]
  },
  {
   "cell_type": "markdown",
   "id": "9640f552",
   "metadata": {
    "papermill": {
     "duration": 0.076696,
     "end_time": "2023-10-26T17:03:37.889101",
     "exception": false,
     "start_time": "2023-10-26T17:03:37.812405",
     "status": "completed"
    },
    "tags": []
   },
   "source": [
    "## !!! **The Golden Master** is the superhero with most number of powers ####"
   ]
  },
  {
   "cell_type": "markdown",
   "id": "dcaa5822",
   "metadata": {
    "papermill": {
     "duration": 0.081736,
     "end_time": "2023-10-26T17:03:38.049912",
     "exception": false,
     "start_time": "2023-10-26T17:03:37.968176",
     "status": "completed"
    },
    "tags": []
   },
   "source": [
    "### Q1(a). Who is the most powerful superhero from each creator? "
   ]
  },
  {
   "cell_type": "code",
   "execution_count": 24,
   "id": "2fc6a2a5",
   "metadata": {
    "execution": {
     "iopub.execute_input": "2023-10-26T17:03:38.210080Z",
     "iopub.status.busy": "2023-10-26T17:03:38.209543Z",
     "iopub.status.idle": "2023-10-26T17:03:38.229809Z",
     "shell.execute_reply": "2023-10-26T17:03:38.228111Z"
    },
    "papermill": {
     "duration": 0.103854,
     "end_time": "2023-10-26T17:03:38.233430",
     "exception": false,
     "start_time": "2023-10-26T17:03:38.129576",
     "status": "completed"
    },
    "tags": []
   },
   "outputs": [],
   "source": [
    "\n",
    "result = most_power_full_superhere.groupby('creator')['total_superpowers'].idxmax()"
   ]
  },
  {
   "cell_type": "code",
   "execution_count": 25,
   "id": "d5e6358d",
   "metadata": {
    "execution": {
     "iopub.execute_input": "2023-10-26T17:03:38.403367Z",
     "iopub.status.busy": "2023-10-26T17:03:38.402367Z",
     "iopub.status.idle": "2023-10-26T17:03:38.426907Z",
     "shell.execute_reply": "2023-10-26T17:03:38.425040Z"
    },
    "papermill": {
     "duration": 0.111857,
     "end_time": "2023-10-26T17:03:38.430733",
     "exception": false,
     "start_time": "2023-10-26T17:03:38.318876",
     "status": "completed"
    },
    "tags": []
   },
   "outputs": [
    {
     "data": {
      "text/html": [
       "<div>\n",
       "<style scoped>\n",
       "    .dataframe tbody tr th:only-of-type {\n",
       "        vertical-align: middle;\n",
       "    }\n",
       "\n",
       "    .dataframe tbody tr th {\n",
       "        vertical-align: top;\n",
       "    }\n",
       "\n",
       "    .dataframe thead th {\n",
       "        text-align: right;\n",
       "    }\n",
       "</style>\n",
       "<table border=\"1\" class=\"dataframe\">\n",
       "  <thead>\n",
       "    <tr style=\"text-align: right;\">\n",
       "      <th></th>\n",
       "      <th>creator</th>\n",
       "      <th>name</th>\n",
       "      <th>total_superpowers</th>\n",
       "    </tr>\n",
       "  </thead>\n",
       "  <tbody>\n",
       "    <tr>\n",
       "      <th>174</th>\n",
       "      <td>DC Comics</td>\n",
       "      <td>Black Alice</td>\n",
       "      <td>42.0</td>\n",
       "    </tr>\n",
       "    <tr>\n",
       "      <th>393</th>\n",
       "      <td>Shueisha</td>\n",
       "      <td>Devilman</td>\n",
       "      <td>39.0</td>\n",
       "    </tr>\n",
       "    <tr>\n",
       "      <th>421</th>\n",
       "      <td>Konami</td>\n",
       "      <td>Dracula</td>\n",
       "      <td>36.0</td>\n",
       "    </tr>\n",
       "    <tr>\n",
       "      <th>976</th>\n",
       "      <td>Marvel Comics</td>\n",
       "      <td>Old King Thor</td>\n",
       "      <td>36.0</td>\n",
       "    </tr>\n",
       "    <tr>\n",
       "      <th>527</th>\n",
       "      <td>Lego</td>\n",
       "      <td>Golden Ninja</td>\n",
       "      <td>35.0</td>\n",
       "    </tr>\n",
       "    <tr>\n",
       "      <th>1153</th>\n",
       "      <td>Mortal Kombat</td>\n",
       "      <td>Shao Kahn</td>\n",
       "      <td>34.0</td>\n",
       "    </tr>\n",
       "    <tr>\n",
       "      <th>1375</th>\n",
       "      <td>Image Comics</td>\n",
       "      <td>Violator</td>\n",
       "      <td>31.0</td>\n",
       "    </tr>\n",
       "    <tr>\n",
       "      <th>852</th>\n",
       "      <td>Nintendo</td>\n",
       "      <td>Mario</td>\n",
       "      <td>31.0</td>\n",
       "    </tr>\n",
       "    <tr>\n",
       "      <th>532</th>\n",
       "      <td>George Lucas</td>\n",
       "      <td>Grand Master Skywalker</td>\n",
       "      <td>30.0</td>\n",
       "    </tr>\n",
       "    <tr>\n",
       "      <th>1348</th>\n",
       "      <td>Hasbro</td>\n",
       "      <td>Unicron</td>\n",
       "      <td>30.0</td>\n",
       "    </tr>\n",
       "    <tr>\n",
       "      <th>1195</th>\n",
       "      <td>Sega</td>\n",
       "      <td>Sonic The Hedgehog</td>\n",
       "      <td>29.0</td>\n",
       "    </tr>\n",
       "    <tr>\n",
       "      <th>589</th>\n",
       "      <td>Dark Horse Comics</td>\n",
       "      <td>Hellboy (Injustice 2)</td>\n",
       "      <td>29.0</td>\n",
       "    </tr>\n",
       "    <tr>\n",
       "      <th>97</th>\n",
       "      <td>Capcom</td>\n",
       "      <td>Asura</td>\n",
       "      <td>26.0</td>\n",
       "    </tr>\n",
       "    <tr>\n",
       "      <th>294</th>\n",
       "      <td>Namco</td>\n",
       "      <td>Chosen Undead</td>\n",
       "      <td>23.0</td>\n",
       "    </tr>\n",
       "    <tr>\n",
       "      <th>761</th>\n",
       "      <td>Wildstorm</td>\n",
       "      <td>Kratos</td>\n",
       "      <td>21.0</td>\n",
       "    </tr>\n",
       "    <tr>\n",
       "      <th>1184</th>\n",
       "      <td>Mattel</td>\n",
       "      <td>Skeletor</td>\n",
       "      <td>18.0</td>\n",
       "    </tr>\n",
       "    <tr>\n",
       "      <th>788</th>\n",
       "      <td>J. R. R. Tolkien</td>\n",
       "      <td>Legolas</td>\n",
       "      <td>18.0</td>\n",
       "    </tr>\n",
       "    <tr>\n",
       "      <th>951</th>\n",
       "      <td>George R. R. Martin</td>\n",
       "      <td>Night King</td>\n",
       "      <td>17.0</td>\n",
       "    </tr>\n",
       "    <tr>\n",
       "      <th>655</th>\n",
       "      <td>Stephen King</td>\n",
       "      <td>IT</td>\n",
       "      <td>17.0</td>\n",
       "    </tr>\n",
       "    <tr>\n",
       "      <th>1141</th>\n",
       "      <td>IDW Publishing</td>\n",
       "      <td>Selene</td>\n",
       "      <td>17.0</td>\n",
       "    </tr>\n",
       "    <tr>\n",
       "      <th>165</th>\n",
       "      <td>Hanna-Barbera</td>\n",
       "      <td>Birdman</td>\n",
       "      <td>16.0</td>\n",
       "    </tr>\n",
       "    <tr>\n",
       "      <th>569</th>\n",
       "      <td>J. K. Rowling</td>\n",
       "      <td>Harry Potter</td>\n",
       "      <td>15.0</td>\n",
       "    </tr>\n",
       "    <tr>\n",
       "      <th>89</th>\n",
       "      <td>Ubisoft</td>\n",
       "      <td>Arno Victor Dorian</td>\n",
       "      <td>15.0</td>\n",
       "    </tr>\n",
       "    <tr>\n",
       "      <th>1090</th>\n",
       "      <td>Cartoon Network</td>\n",
       "      <td>Rick Sanchez</td>\n",
       "      <td>15.0</td>\n",
       "    </tr>\n",
       "    <tr>\n",
       "      <th>560</th>\n",
       "      <td>Sony Pictures</td>\n",
       "      <td>Hancock</td>\n",
       "      <td>13.0</td>\n",
       "    </tr>\n",
       "    <tr>\n",
       "      <th>1006</th>\n",
       "      <td>Clive Barker</td>\n",
       "      <td>Pinhead</td>\n",
       "      <td>12.0</td>\n",
       "    </tr>\n",
       "    <tr>\n",
       "      <th>555</th>\n",
       "      <td>Universal Studios</td>\n",
       "      <td>Gru</td>\n",
       "      <td>11.0</td>\n",
       "    </tr>\n",
       "    <tr>\n",
       "      <th>366</th>\n",
       "      <td>Star Trek</td>\n",
       "      <td>Data</td>\n",
       "      <td>11.0</td>\n",
       "    </tr>\n",
       "    <tr>\n",
       "      <th>1001</th>\n",
       "      <td>NBC - Heroes</td>\n",
       "      <td>Peter Petrelli</td>\n",
       "      <td>11.0</td>\n",
       "    </tr>\n",
       "    <tr>\n",
       "      <th>296</th>\n",
       "      <td>Team Epic TV</td>\n",
       "      <td>Chromos</td>\n",
       "      <td>10.0</td>\n",
       "    </tr>\n",
       "    <tr>\n",
       "      <th>859</th>\n",
       "      <td>Microsoft</td>\n",
       "      <td>Master Chief</td>\n",
       "      <td>10.0</td>\n",
       "    </tr>\n",
       "    <tr>\n",
       "      <th>998</th>\n",
       "      <td>SyFy</td>\n",
       "      <td>Penny</td>\n",
       "      <td>10.0</td>\n",
       "    </tr>\n",
       "    <tr>\n",
       "      <th>863</th>\n",
       "      <td>Disney</td>\n",
       "      <td>Maui</td>\n",
       "      <td>10.0</td>\n",
       "    </tr>\n",
       "    <tr>\n",
       "      <th>659</th>\n",
       "      <td>Dreamworks</td>\n",
       "      <td>Jack Frost</td>\n",
       "      <td>8.0</td>\n",
       "    </tr>\n",
       "    <tr>\n",
       "      <th>666</th>\n",
       "      <td>Ian Fleming</td>\n",
       "      <td>James Bond (Craig)</td>\n",
       "      <td>7.0</td>\n",
       "    </tr>\n",
       "    <tr>\n",
       "      <th>1252</th>\n",
       "      <td>Matt Groening</td>\n",
       "      <td>Superking</td>\n",
       "      <td>7.0</td>\n",
       "    </tr>\n",
       "    <tr>\n",
       "      <th>600</th>\n",
       "      <td>Icon Comics</td>\n",
       "      <td>Hit-Girl</td>\n",
       "      <td>6.0</td>\n",
       "    </tr>\n",
       "    <tr>\n",
       "      <th>264</th>\n",
       "      <td>South Park</td>\n",
       "      <td>Captain Hindsight</td>\n",
       "      <td>3.0</td>\n",
       "    </tr>\n",
       "    <tr>\n",
       "      <th>447</th>\n",
       "      <td>HarperCollins</td>\n",
       "      <td>Energy</td>\n",
       "      <td>3.0</td>\n",
       "    </tr>\n",
       "    <tr>\n",
       "      <th>684</th>\n",
       "      <td>ABC Studios</td>\n",
       "      <td>Jim Powell</td>\n",
       "      <td>3.0</td>\n",
       "    </tr>\n",
       "    <tr>\n",
       "      <th>17</th>\n",
       "      <td>Blizzard Entertainment</td>\n",
       "      <td>A'dal</td>\n",
       "      <td>2.0</td>\n",
       "    </tr>\n",
       "  </tbody>\n",
       "</table>\n",
       "</div>"
      ],
      "text/plain": [
       "                     creator                    name  total_superpowers\n",
       "174                DC Comics             Black Alice               42.0\n",
       "393                 Shueisha                Devilman               39.0\n",
       "421                   Konami                 Dracula               36.0\n",
       "976            Marvel Comics           Old King Thor               36.0\n",
       "527                     Lego            Golden Ninja               35.0\n",
       "1153           Mortal Kombat               Shao Kahn               34.0\n",
       "1375            Image Comics                Violator               31.0\n",
       "852                 Nintendo                   Mario               31.0\n",
       "532             George Lucas  Grand Master Skywalker               30.0\n",
       "1348                  Hasbro                 Unicron               30.0\n",
       "1195                    Sega      Sonic The Hedgehog               29.0\n",
       "589        Dark Horse Comics   Hellboy (Injustice 2)               29.0\n",
       "97                    Capcom                   Asura               26.0\n",
       "294                    Namco           Chosen Undead               23.0\n",
       "761                Wildstorm                  Kratos               21.0\n",
       "1184                  Mattel                Skeletor               18.0\n",
       "788         J. R. R. Tolkien                 Legolas               18.0\n",
       "951      George R. R. Martin              Night King               17.0\n",
       "655             Stephen King                      IT               17.0\n",
       "1141          IDW Publishing                  Selene               17.0\n",
       "165            Hanna-Barbera                 Birdman               16.0\n",
       "569            J. K. Rowling            Harry Potter               15.0\n",
       "89                   Ubisoft      Arno Victor Dorian               15.0\n",
       "1090         Cartoon Network            Rick Sanchez               15.0\n",
       "560            Sony Pictures                 Hancock               13.0\n",
       "1006            Clive Barker                 Pinhead               12.0\n",
       "555        Universal Studios                     Gru               11.0\n",
       "366                Star Trek                    Data               11.0\n",
       "1001            NBC - Heroes          Peter Petrelli               11.0\n",
       "296             Team Epic TV                 Chromos               10.0\n",
       "859                Microsoft            Master Chief               10.0\n",
       "998                     SyFy                   Penny               10.0\n",
       "863                   Disney                    Maui               10.0\n",
       "659               Dreamworks              Jack Frost                8.0\n",
       "666              Ian Fleming      James Bond (Craig)                7.0\n",
       "1252           Matt Groening               Superking                7.0\n",
       "600              Icon Comics                Hit-Girl                6.0\n",
       "264               South Park       Captain Hindsight                3.0\n",
       "447            HarperCollins                  Energy                3.0\n",
       "684              ABC Studios              Jim Powell                3.0\n",
       "17    Blizzard Entertainment                   A'dal                2.0"
      ]
     },
     "execution_count": 25,
     "metadata": {},
     "output_type": "execute_result"
    }
   ],
   "source": [
    "data.loc[result, ['creator', 'name', 'total_superpowers']].sort_values(by='total_superpowers', ascending=False)"
   ]
  },
  {
   "cell_type": "markdown",
   "id": "70661a5f",
   "metadata": {
    "papermill": {
     "duration": 0.08275,
     "end_time": "2023-10-26T17:03:38.594561",
     "exception": false,
     "start_time": "2023-10-26T17:03:38.511811",
     "status": "completed"
    },
    "tags": []
   },
   "source": [
    "## - Above table represents all are most powerful superhero from each creator"
   ]
  },
  {
   "cell_type": "markdown",
   "id": "ca42f8d0",
   "metadata": {
    "papermill": {
     "duration": 0.081218,
     "end_time": "2023-10-26T17:03:38.757503",
     "exception": false,
     "start_time": "2023-10-26T17:03:38.676285",
     "status": "completed"
    },
    "tags": []
   },
   "source": []
  },
  {
   "cell_type": "markdown",
   "id": "b33742b5",
   "metadata": {
    "papermill": {
     "duration": 0.077865,
     "end_time": "2023-10-26T17:03:38.914045",
     "exception": false,
     "start_time": "2023-10-26T17:03:38.836180",
     "status": "completed"
    },
    "tags": []
   },
   "source": [
    "### Q2. Find the top 5 superpowers in descending order.\n"
   ]
  },
  {
   "cell_type": "code",
   "execution_count": 26,
   "id": "7b45bb88",
   "metadata": {
    "execution": {
     "iopub.execute_input": "2023-10-26T17:03:39.087254Z",
     "iopub.status.busy": "2023-10-26T17:03:39.086792Z",
     "iopub.status.idle": "2023-10-26T17:03:39.307971Z",
     "shell.execute_reply": "2023-10-26T17:03:39.306281Z"
    },
    "papermill": {
     "duration": 0.313489,
     "end_time": "2023-10-26T17:03:39.311941",
     "exception": false,
     "start_time": "2023-10-26T17:03:38.998452",
     "status": "completed"
    },
    "tags": []
   },
   "outputs": [
    {
     "data": {
      "text/html": [
       "<div>\n",
       "<style scoped>\n",
       "    .dataframe tbody tr th:only-of-type {\n",
       "        vertical-align: middle;\n",
       "    }\n",
       "\n",
       "    .dataframe tbody tr th {\n",
       "        vertical-align: top;\n",
       "    }\n",
       "\n",
       "    .dataframe thead th {\n",
       "        text-align: right;\n",
       "    }\n",
       "</style>\n",
       "<table border=\"1\" class=\"dataframe\">\n",
       "  <thead>\n",
       "    <tr style=\"text-align: right;\">\n",
       "      <th></th>\n",
       "      <th>index</th>\n",
       "      <th>0</th>\n",
       "      <th>1</th>\n",
       "      <th>2</th>\n",
       "      <th>3</th>\n",
       "      <th>4</th>\n",
       "      <th>5</th>\n",
       "      <th>6</th>\n",
       "      <th>7</th>\n",
       "      <th>8</th>\n",
       "      <th>...</th>\n",
       "      <th>1440</th>\n",
       "      <th>1441</th>\n",
       "      <th>1442</th>\n",
       "      <th>1444</th>\n",
       "      <th>1445</th>\n",
       "      <th>1446</th>\n",
       "      <th>1447</th>\n",
       "      <th>1448</th>\n",
       "      <th>1449</th>\n",
       "      <th>Total</th>\n",
       "    </tr>\n",
       "  </thead>\n",
       "  <tbody>\n",
       "    <tr>\n",
       "      <th>48</th>\n",
       "      <td>agility</td>\n",
       "      <td>0.0</td>\n",
       "      <td>0.0</td>\n",
       "      <td>1.0</td>\n",
       "      <td>0.0</td>\n",
       "      <td>0.0</td>\n",
       "      <td>1.0</td>\n",
       "      <td>1.0</td>\n",
       "      <td>0.0</td>\n",
       "      <td>1.0</td>\n",
       "      <td>...</td>\n",
       "      <td>0.0</td>\n",
       "      <td>1.0</td>\n",
       "      <td>1.0</td>\n",
       "      <td>1.0</td>\n",
       "      <td>0.0</td>\n",
       "      <td>1.0</td>\n",
       "      <td>1.0</td>\n",
       "      <td>0.0</td>\n",
       "      <td>1.0</td>\n",
       "      <td>778.0</td>\n",
       "    </tr>\n",
       "    <tr>\n",
       "      <th>47</th>\n",
       "      <td>stamina</td>\n",
       "      <td>0.0</td>\n",
       "      <td>0.0</td>\n",
       "      <td>1.0</td>\n",
       "      <td>0.0</td>\n",
       "      <td>0.0</td>\n",
       "      <td>0.0</td>\n",
       "      <td>1.0</td>\n",
       "      <td>0.0</td>\n",
       "      <td>1.0</td>\n",
       "      <td>...</td>\n",
       "      <td>0.0</td>\n",
       "      <td>1.0</td>\n",
       "      <td>1.0</td>\n",
       "      <td>1.0</td>\n",
       "      <td>0.0</td>\n",
       "      <td>1.0</td>\n",
       "      <td>1.0</td>\n",
       "      <td>0.0</td>\n",
       "      <td>0.0</td>\n",
       "      <td>737.0</td>\n",
       "    </tr>\n",
       "    <tr>\n",
       "      <th>49</th>\n",
       "      <td>super_strength</td>\n",
       "      <td>1.0</td>\n",
       "      <td>1.0</td>\n",
       "      <td>1.0</td>\n",
       "      <td>0.0</td>\n",
       "      <td>0.0</td>\n",
       "      <td>0.0</td>\n",
       "      <td>1.0</td>\n",
       "      <td>0.0</td>\n",
       "      <td>1.0</td>\n",
       "      <td>...</td>\n",
       "      <td>0.0</td>\n",
       "      <td>1.0</td>\n",
       "      <td>0.0</td>\n",
       "      <td>1.0</td>\n",
       "      <td>0.0</td>\n",
       "      <td>1.0</td>\n",
       "      <td>1.0</td>\n",
       "      <td>0.0</td>\n",
       "      <td>1.0</td>\n",
       "      <td>731.0</td>\n",
       "    </tr>\n",
       "    <tr>\n",
       "      <th>46</th>\n",
       "      <td>durability</td>\n",
       "      <td>0.0</td>\n",
       "      <td>1.0</td>\n",
       "      <td>1.0</td>\n",
       "      <td>0.0</td>\n",
       "      <td>0.0</td>\n",
       "      <td>0.0</td>\n",
       "      <td>1.0</td>\n",
       "      <td>0.0</td>\n",
       "      <td>1.0</td>\n",
       "      <td>...</td>\n",
       "      <td>0.0</td>\n",
       "      <td>1.0</td>\n",
       "      <td>0.0</td>\n",
       "      <td>1.0</td>\n",
       "      <td>0.0</td>\n",
       "      <td>1.0</td>\n",
       "      <td>1.0</td>\n",
       "      <td>0.0</td>\n",
       "      <td>0.0</td>\n",
       "      <td>708.0</td>\n",
       "    </tr>\n",
       "    <tr>\n",
       "      <th>43</th>\n",
       "      <td>intelligence</td>\n",
       "      <td>0.0</td>\n",
       "      <td>0.0</td>\n",
       "      <td>0.0</td>\n",
       "      <td>0.0</td>\n",
       "      <td>0.0</td>\n",
       "      <td>0.0</td>\n",
       "      <td>1.0</td>\n",
       "      <td>0.0</td>\n",
       "      <td>1.0</td>\n",
       "      <td>...</td>\n",
       "      <td>0.0</td>\n",
       "      <td>1.0</td>\n",
       "      <td>0.0</td>\n",
       "      <td>1.0</td>\n",
       "      <td>0.0</td>\n",
       "      <td>1.0</td>\n",
       "      <td>1.0</td>\n",
       "      <td>0.0</td>\n",
       "      <td>0.0</td>\n",
       "      <td>599.0</td>\n",
       "    </tr>\n",
       "  </tbody>\n",
       "</table>\n",
       "<p>5 rows × 1385 columns</p>\n",
       "</div>"
      ],
      "text/plain": [
       "             index    0    1    2    3    4    5    6    7    8  ...  1440  \\\n",
       "48         agility  0.0  0.0  1.0  0.0  0.0  1.0  1.0  0.0  1.0  ...   0.0   \n",
       "47         stamina  0.0  0.0  1.0  0.0  0.0  0.0  1.0  0.0  1.0  ...   0.0   \n",
       "49  super_strength  1.0  1.0  1.0  0.0  0.0  0.0  1.0  0.0  1.0  ...   0.0   \n",
       "46      durability  0.0  1.0  1.0  0.0  0.0  0.0  1.0  0.0  1.0  ...   0.0   \n",
       "43    intelligence  0.0  0.0  0.0  0.0  0.0  0.0  1.0  0.0  1.0  ...   0.0   \n",
       "\n",
       "    1441  1442  1444  1445  1446  1447  1448  1449  Total  \n",
       "48   1.0   1.0   1.0   0.0   1.0   1.0   0.0   1.0  778.0  \n",
       "47   1.0   1.0   1.0   0.0   1.0   1.0   0.0   0.0  737.0  \n",
       "49   1.0   0.0   1.0   0.0   1.0   1.0   0.0   1.0  731.0  \n",
       "46   1.0   0.0   1.0   0.0   1.0   1.0   0.0   0.0  708.0  \n",
       "43   1.0   0.0   1.0   0.0   1.0   1.0   0.0   0.0  599.0  \n",
       "\n",
       "[5 rows x 1385 columns]"
      ]
     },
     "execution_count": 26,
     "metadata": {},
     "output_type": "execute_result"
    }
   ],
   "source": [
    "superpowers = data.loc[:, data.columns.str.startswith('has')].dropna()\n",
    "superpowers.columns = superpowers.columns.str.replace(r'has_', '')\n",
    "superpowers = superpowers.T.reset_index()\n",
    "# superpowers['Total'] = superpowers.sum(axis=1)\n",
    "superpowers.loc[:, 'Total'] = superpowers.iloc[:, 1:].sum(axis=1)\n",
    "superpowers = superpowers.sort_values('Total',ascending=False)\n",
    "superpowers.head(5)"
   ]
  },
  {
   "cell_type": "code",
   "execution_count": 27,
   "id": "4b7a797f",
   "metadata": {
    "execution": {
     "iopub.execute_input": "2023-10-26T17:03:39.474291Z",
     "iopub.status.busy": "2023-10-26T17:03:39.473862Z",
     "iopub.status.idle": "2023-10-26T17:03:40.011456Z",
     "shell.execute_reply": "2023-10-26T17:03:40.002776Z"
    },
    "papermill": {
     "duration": 0.623385,
     "end_time": "2023-10-26T17:03:40.015529",
     "exception": false,
     "start_time": "2023-10-26T17:03:39.392144",
     "status": "completed"
    },
    "tags": []
   },
   "outputs": [
    {
     "data": {
      "image/png": "[encoded data removed]",
      "text/plain": [
       "<Figure size 2000x1000 with 1 Axes>"
      ]
     },
     "metadata": {},
     "output_type": "display_data"
    }
   ],
   "source": [
    "plt.style.use('ggplot') # Using ggplot2 style visuals\n",
    "\n",
    "fig, ax = plt.subplots()\n",
    "\n",
    "fig.set_size_inches(20, 10)\n",
    "\n",
    "sns.set_context(\"paper\", font_scale=1.5)\n",
    "f=sns.barplot(x=superpowers['index'].head(5), y=superpowers['Total'].head(5), data=superpowers)\n",
    "f.set_xlabel(\"Name of Superpower\",fontsize=18)\n",
    "f.set_ylabel(\"No. of Superheroes with Superpower\",fontsize=18)\n",
    "f.set_title('Superpowers')\n",
    "for item in f.get_xticklabels():\n",
    "    item.set_rotation(90)"
   ]
  },
  {
   "cell_type": "markdown",
   "id": "03264d7f",
   "metadata": {
    "papermill": {
     "duration": 0.079838,
     "end_time": "2023-10-26T17:03:40.177892",
     "exception": false,
     "start_time": "2023-10-26T17:03:40.098054",
     "status": "completed"
    },
    "tags": []
   },
   "source": [
    "**5 Most Common Superpowers¶**\n",
    "\n",
    "**1 - agility**\n",
    "\n",
    "**2 - stamina**\n",
    "\n",
    "**3 - super strength**\n",
    "\n",
    "**4 - durability**\n",
    "\n",
    "**5 - intelligence**"
   ]
  },
  {
   "cell_type": "markdown",
   "id": "507585d2",
   "metadata": {
    "papermill": {
     "duration": 0.083273,
     "end_time": "2023-10-26T17:03:40.344952",
     "exception": false,
     "start_time": "2023-10-26T17:03:40.261679",
     "status": "completed"
    },
    "tags": []
   },
   "source": [
    "### Q3. Which race has the most immortal superheroes?"
   ]
  },
  {
   "cell_type": "code",
   "execution_count": 28,
   "id": "f540d130",
   "metadata": {
    "execution": {
     "iopub.execute_input": "2023-10-26T17:03:40.506963Z",
     "iopub.status.busy": "2023-10-26T17:03:40.506524Z",
     "iopub.status.idle": "2023-10-26T17:03:40.518890Z",
     "shell.execute_reply": "2023-10-26T17:03:40.516920Z"
    },
    "papermill": {
     "duration": 0.09924,
     "end_time": "2023-10-26T17:03:40.523409",
     "exception": false,
     "start_time": "2023-10-26T17:03:40.424169",
     "status": "completed"
    },
    "tags": []
   },
   "outputs": [
    {
     "data": {
      "text/plain": [
       "type_race\n",
       "Human              529\n",
       "Mutant              99\n",
       "God / Eternal       43\n",
       "Metahuman           42\n",
       "Alien               31\n",
       "                  ... \n",
       "Lego                 1\n",
       "Zen-Whoberian        1\n",
       "Kakarantharaian      1\n",
       "Human / Cosmic       1\n",
       "Yoda's species       1\n",
       "Name: count, Length: 67, dtype: int64"
      ]
     },
     "execution_count": 28,
     "metadata": {},
     "output_type": "execute_result"
    }
   ],
   "source": [
    "data['type_race'].value_counts()"
   ]
  },
  {
   "cell_type": "code",
   "execution_count": 29,
   "id": "71387d0b",
   "metadata": {
    "execution": {
     "iopub.execute_input": "2023-10-26T17:03:40.713474Z",
     "iopub.status.busy": "2023-10-26T17:03:40.711773Z",
     "iopub.status.idle": "2023-10-26T17:03:40.734411Z",
     "shell.execute_reply": "2023-10-26T17:03:40.733141Z"
    },
    "papermill": {
     "duration": 0.113017,
     "end_time": "2023-10-26T17:03:40.737127",
     "exception": false,
     "start_time": "2023-10-26T17:03:40.624110",
     "status": "completed"
    },
    "tags": []
   },
   "outputs": [
    {
     "data": {
      "text/html": [
       "<div>\n",
       "<style scoped>\n",
       "    .dataframe tbody tr th:only-of-type {\n",
       "        vertical-align: middle;\n",
       "    }\n",
       "\n",
       "    .dataframe tbody tr th {\n",
       "        vertical-align: top;\n",
       "    }\n",
       "\n",
       "    .dataframe thead th {\n",
       "        text-align: right;\n",
       "    }\n",
       "</style>\n",
       "<table border=\"1\" class=\"dataframe\">\n",
       "  <thead>\n",
       "    <tr style=\"text-align: right;\">\n",
       "      <th></th>\n",
       "      <th>has_immortality</th>\n",
       "    </tr>\n",
       "    <tr>\n",
       "      <th>type_race</th>\n",
       "      <th></th>\n",
       "    </tr>\n",
       "  </thead>\n",
       "  <tbody>\n",
       "    <tr>\n",
       "      <th>God / Eternal</th>\n",
       "      <td>36.0</td>\n",
       "    </tr>\n",
       "    <tr>\n",
       "      <th>Human</th>\n",
       "      <td>29.0</td>\n",
       "    </tr>\n",
       "    <tr>\n",
       "      <th>Demon</th>\n",
       "      <td>18.0</td>\n",
       "    </tr>\n",
       "    <tr>\n",
       "      <th>New God</th>\n",
       "      <td>11.0</td>\n",
       "    </tr>\n",
       "    <tr>\n",
       "      <th>Cosmic Entity</th>\n",
       "      <td>8.0</td>\n",
       "    </tr>\n",
       "    <tr>\n",
       "      <th>...</th>\n",
       "      <td>...</td>\n",
       "    </tr>\n",
       "    <tr>\n",
       "      <th>Alpha</th>\n",
       "      <td>0.0</td>\n",
       "    </tr>\n",
       "    <tr>\n",
       "      <th>Human-Spartoi</th>\n",
       "      <td>0.0</td>\n",
       "    </tr>\n",
       "    <tr>\n",
       "      <th>Human-Inhuman</th>\n",
       "      <td>0.0</td>\n",
       "    </tr>\n",
       "    <tr>\n",
       "      <th>Frost Giant</th>\n",
       "      <td>0.0</td>\n",
       "    </tr>\n",
       "    <tr>\n",
       "      <th>Human-Vulcan</th>\n",
       "      <td>0.0</td>\n",
       "    </tr>\n",
       "  </tbody>\n",
       "</table>\n",
       "<p>67 rows × 1 columns</p>\n",
       "</div>"
      ],
      "text/plain": [
       "               has_immortality\n",
       "type_race                     \n",
       "God / Eternal             36.0\n",
       "Human                     29.0\n",
       "Demon                     18.0\n",
       "New God                   11.0\n",
       "Cosmic Entity              8.0\n",
       "...                        ...\n",
       "Alpha                      0.0\n",
       "Human-Spartoi              0.0\n",
       "Human-Inhuman              0.0\n",
       "Frost Giant                0.0\n",
       "Human-Vulcan               0.0\n",
       "\n",
       "[67 rows x 1 columns]"
      ]
     },
     "execution_count": 29,
     "metadata": {},
     "output_type": "execute_result"
    }
   ],
   "source": [
    "data.groupby(['type_race'])[['has_immortality']].sum().sort_values(by='has_immortality', ascending=False)"
   ]
  },
  {
   "cell_type": "markdown",
   "id": "bc9b3b18",
   "metadata": {
    "papermill": {
     "duration": 0.080605,
     "end_time": "2023-10-26T17:03:40.898869",
     "exception": false,
     "start_time": "2023-10-26T17:03:40.818264",
     "status": "completed"
    },
    "tags": []
   },
   "source": [
    "## **God / Eternal** race has the Higest immortality power"
   ]
  },
  {
   "cell_type": "markdown",
   "id": "619cf728",
   "metadata": {
    "papermill": {
     "duration": 0.085994,
     "end_time": "2023-10-26T17:03:41.065094",
     "exception": false,
     "start_time": "2023-10-26T17:03:40.979100",
     "status": "completed"
    },
    "tags": []
   },
   "source": [
    "## Q3. Name the creator having most superheroes of type “Parademon”."
   ]
  },
  {
   "cell_type": "code",
   "execution_count": 30,
   "id": "fa4b1a10",
   "metadata": {
    "execution": {
     "iopub.execute_input": "2023-10-26T17:03:41.234895Z",
     "iopub.status.busy": "2023-10-26T17:03:41.234058Z",
     "iopub.status.idle": "2023-10-26T17:03:41.242798Z",
     "shell.execute_reply": "2023-10-26T17:03:41.241773Z"
    },
    "papermill": {
     "duration": 0.099006,
     "end_time": "2023-10-26T17:03:41.246260",
     "exception": false,
     "start_time": "2023-10-26T17:03:41.147254",
     "status": "completed"
    },
    "tags": []
   },
   "outputs": [
    {
     "name": "stdout",
     "output_type": "stream",
     "text": [
      "Creator with the most Parademon superheroes: DC Comics\n"
     ]
    }
   ],
   "source": [
    "# Filter superheroes of type \"Parademon\"\n",
    "parademon_superheroes = data[data['type_race'] == 'Parademon']\n",
    "\n",
    "# Find the creator with the most Parademon superheroes\n",
    "creator_with_most_parademons = parademon_superheroes['creator'].value_counts().idxmax()\n",
    "\n",
    "print(\"Creator with the most Parademon superheroes:\", creator_with_most_parademons)\n"
   ]
  },
  {
   "cell_type": "markdown",
   "id": "144987de",
   "metadata": {
    "papermill": {
     "duration": 0.081476,
     "end_time": "2023-10-26T17:03:41.411805",
     "exception": false,
     "start_time": "2023-10-26T17:03:41.330329",
     "status": "completed"
    },
    "tags": []
   },
   "source": [
    "## Creator with the most Parademon superheroes: **DC Comics**"
   ]
  },
  {
   "cell_type": "markdown",
   "id": "2d2f32f3",
   "metadata": {
    "papermill": {
     "duration": 0.079525,
     "end_time": "2023-10-26T17:03:41.572612",
     "exception": false,
     "start_time": "2023-10-26T17:03:41.493087",
     "status": "completed"
    },
    "tags": []
   },
   "source": [
    "## Q4. Which comic creator has most superhero teams?"
   ]
  },
  {
   "cell_type": "code",
   "execution_count": 31,
   "id": "0154bc3f",
   "metadata": {
    "execution": {
     "iopub.execute_input": "2023-10-26T17:03:41.745428Z",
     "iopub.status.busy": "2023-10-26T17:03:41.743777Z",
     "iopub.status.idle": "2023-10-26T17:03:41.766349Z",
     "shell.execute_reply": "2023-10-26T17:03:41.764133Z"
    },
    "papermill": {
     "duration": 0.11462,
     "end_time": "2023-10-26T17:03:41.769502",
     "exception": false,
     "start_time": "2023-10-26T17:03:41.654882",
     "status": "completed"
    },
    "tags": []
   },
   "outputs": [
    {
     "data": {
      "text/html": [
       "<div>\n",
       "<style scoped>\n",
       "    .dataframe tbody tr th:only-of-type {\n",
       "        vertical-align: middle;\n",
       "    }\n",
       "\n",
       "    .dataframe tbody tr th {\n",
       "        vertical-align: top;\n",
       "    }\n",
       "\n",
       "    .dataframe thead th {\n",
       "        text-align: right;\n",
       "    }\n",
       "</style>\n",
       "<table border=\"1\" class=\"dataframe\">\n",
       "  <thead>\n",
       "    <tr style=\"text-align: right;\">\n",
       "      <th></th>\n",
       "      <th>teams</th>\n",
       "    </tr>\n",
       "    <tr>\n",
       "      <th>creator</th>\n",
       "      <th></th>\n",
       "    </tr>\n",
       "  </thead>\n",
       "  <tbody>\n",
       "    <tr>\n",
       "      <th>Marvel Comics</th>\n",
       "      <td>615</td>\n",
       "    </tr>\n",
       "    <tr>\n",
       "      <th>DC Comics</th>\n",
       "      <td>444</td>\n",
       "    </tr>\n",
       "    <tr>\n",
       "      <th>Shueisha</th>\n",
       "      <td>37</td>\n",
       "    </tr>\n",
       "    <tr>\n",
       "      <th>Dark Horse Comics</th>\n",
       "      <td>29</td>\n",
       "    </tr>\n",
       "    <tr>\n",
       "      <th>Lego</th>\n",
       "      <td>22</td>\n",
       "    </tr>\n",
       "    <tr>\n",
       "      <th>George Lucas</th>\n",
       "      <td>18</td>\n",
       "    </tr>\n",
       "    <tr>\n",
       "      <th>Image Comics</th>\n",
       "      <td>17</td>\n",
       "    </tr>\n",
       "    <tr>\n",
       "      <th>NBC - Heroes</th>\n",
       "      <td>16</td>\n",
       "    </tr>\n",
       "    <tr>\n",
       "      <th>Ubisoft</th>\n",
       "      <td>9</td>\n",
       "    </tr>\n",
       "    <tr>\n",
       "      <th>J. R. R. Tolkien</th>\n",
       "      <td>8</td>\n",
       "    </tr>\n",
       "    <tr>\n",
       "      <th>J. K. Rowling</th>\n",
       "      <td>8</td>\n",
       "    </tr>\n",
       "    <tr>\n",
       "      <th>Wildstorm</th>\n",
       "      <td>7</td>\n",
       "    </tr>\n",
       "    <tr>\n",
       "      <th>George R. R. Martin</th>\n",
       "      <td>7</td>\n",
       "    </tr>\n",
       "    <tr>\n",
       "      <th>HarperCollins</th>\n",
       "      <td>6</td>\n",
       "    </tr>\n",
       "    <tr>\n",
       "      <th>SyFy</th>\n",
       "      <td>6</td>\n",
       "    </tr>\n",
       "    <tr>\n",
       "      <th>Team Epic TV</th>\n",
       "      <td>6</td>\n",
       "    </tr>\n",
       "    <tr>\n",
       "      <th>Capcom</th>\n",
       "      <td>5</td>\n",
       "    </tr>\n",
       "    <tr>\n",
       "      <th>Nintendo</th>\n",
       "      <td>4</td>\n",
       "    </tr>\n",
       "    <tr>\n",
       "      <th>Star Trek</th>\n",
       "      <td>4</td>\n",
       "    </tr>\n",
       "    <tr>\n",
       "      <th>Mortal Kombat</th>\n",
       "      <td>4</td>\n",
       "    </tr>\n",
       "    <tr>\n",
       "      <th>ABC Studios</th>\n",
       "      <td>4</td>\n",
       "    </tr>\n",
       "    <tr>\n",
       "      <th>Icon Comics</th>\n",
       "      <td>4</td>\n",
       "    </tr>\n",
       "    <tr>\n",
       "      <th>Disney</th>\n",
       "      <td>3</td>\n",
       "    </tr>\n",
       "    <tr>\n",
       "      <th>Namco</th>\n",
       "      <td>3</td>\n",
       "    </tr>\n",
       "    <tr>\n",
       "      <th>Hasbro</th>\n",
       "      <td>3</td>\n",
       "    </tr>\n",
       "    <tr>\n",
       "      <th>Sony Pictures</th>\n",
       "      <td>3</td>\n",
       "    </tr>\n",
       "    <tr>\n",
       "      <th>Universal Studios</th>\n",
       "      <td>2</td>\n",
       "    </tr>\n",
       "    <tr>\n",
       "      <th>Cartoon Network</th>\n",
       "      <td>2</td>\n",
       "    </tr>\n",
       "    <tr>\n",
       "      <th>Clive Barker</th>\n",
       "      <td>2</td>\n",
       "    </tr>\n",
       "    <tr>\n",
       "      <th>IDW Publishing</th>\n",
       "      <td>2</td>\n",
       "    </tr>\n",
       "    <tr>\n",
       "      <th>Blizzard Entertainment</th>\n",
       "      <td>1</td>\n",
       "    </tr>\n",
       "    <tr>\n",
       "      <th>Dreamworks</th>\n",
       "      <td>1</td>\n",
       "    </tr>\n",
       "    <tr>\n",
       "      <th>Stephen King</th>\n",
       "      <td>1</td>\n",
       "    </tr>\n",
       "    <tr>\n",
       "      <th>Hanna-Barbera</th>\n",
       "      <td>1</td>\n",
       "    </tr>\n",
       "    <tr>\n",
       "      <th>South Park</th>\n",
       "      <td>1</td>\n",
       "    </tr>\n",
       "    <tr>\n",
       "      <th>Sega</th>\n",
       "      <td>1</td>\n",
       "    </tr>\n",
       "    <tr>\n",
       "      <th>Ian Fleming</th>\n",
       "      <td>1</td>\n",
       "    </tr>\n",
       "    <tr>\n",
       "      <th>Microsoft</th>\n",
       "      <td>1</td>\n",
       "    </tr>\n",
       "    <tr>\n",
       "      <th>Mattel</th>\n",
       "      <td>1</td>\n",
       "    </tr>\n",
       "    <tr>\n",
       "      <th>Matt Groening</th>\n",
       "      <td>1</td>\n",
       "    </tr>\n",
       "    <tr>\n",
       "      <th>Konami</th>\n",
       "      <td>1</td>\n",
       "    </tr>\n",
       "  </tbody>\n",
       "</table>\n",
       "</div>"
      ],
      "text/plain": [
       "                        teams\n",
       "creator                      \n",
       "Marvel Comics             615\n",
       "DC Comics                 444\n",
       "Shueisha                   37\n",
       "Dark Horse Comics          29\n",
       "Lego                       22\n",
       "George Lucas               18\n",
       "Image Comics               17\n",
       "NBC - Heroes               16\n",
       "Ubisoft                     9\n",
       "J. R. R. Tolkien            8\n",
       "J. K. Rowling               8\n",
       "Wildstorm                   7\n",
       "George R. R. Martin         7\n",
       "HarperCollins               6\n",
       "SyFy                        6\n",
       "Team Epic TV                6\n",
       "Capcom                      5\n",
       "Nintendo                    4\n",
       "Star Trek                   4\n",
       "Mortal Kombat               4\n",
       "ABC Studios                 4\n",
       "Icon Comics                 4\n",
       "Disney                      3\n",
       "Namco                       3\n",
       "Hasbro                      3\n",
       "Sony Pictures               3\n",
       "Universal Studios           2\n",
       "Cartoon Network             2\n",
       "Clive Barker                2\n",
       "IDW Publishing              2\n",
       "Blizzard Entertainment      1\n",
       "Dreamworks                  1\n",
       "Stephen King                1\n",
       "Hanna-Barbera               1\n",
       "South Park                  1\n",
       "Sega                        1\n",
       "Ian Fleming                 1\n",
       "Microsoft                   1\n",
       "Mattel                      1\n",
       "Matt Groening               1\n",
       "Konami                      1"
      ]
     },
     "execution_count": 31,
     "metadata": {},
     "output_type": "execute_result"
    }
   ],
   "source": [
    "data.groupby('creator')[['teams']].count().sort_values(by='teams', ascending=False)"
   ]
  },
  {
   "cell_type": "markdown",
   "id": "2392f1c6",
   "metadata": {
    "papermill": {
     "duration": 0.082109,
     "end_time": "2023-10-26T17:03:41.933832",
     "exception": false,
     "start_time": "2023-10-26T17:03:41.851723",
     "status": "completed"
    },
    "tags": []
   },
   "source": [
    "## **Marvel Comics** Have most superhero teams"
   ]
  },
  {
   "cell_type": "markdown",
   "id": "8c75bce5",
   "metadata": {
    "papermill": {
     "duration": 0.082941,
     "end_time": "2023-10-26T17:03:42.098895",
     "exception": false,
     "start_time": "2023-10-26T17:03:42.015954",
     "status": "completed"
    },
    "tags": []
   },
   "source": [
    "## Q5(a). Find names, real names and alias of superhero who is part of most teams."
   ]
  },
  {
   "cell_type": "code",
   "execution_count": 32,
   "id": "ad03e69a",
   "metadata": {
    "execution": {
     "iopub.execute_input": "2023-10-26T17:03:42.262770Z",
     "iopub.status.busy": "2023-10-26T17:03:42.261359Z",
     "iopub.status.idle": "2023-10-26T17:03:42.273406Z",
     "shell.execute_reply": "2023-10-26T17:03:42.272147Z"
    },
    "papermill": {
     "duration": 0.098283,
     "end_time": "2023-10-26T17:03:42.276821",
     "exception": false,
     "start_time": "2023-10-26T17:03:42.178538",
     "status": "completed"
    },
    "tags": []
   },
   "outputs": [
    {
     "name": "stdout",
     "output_type": "stream",
     "text": [
      "Superhero Name: Wolverine\n",
      "Real Name: Logan\n",
      "Aliases: ['Weapon X, Weapon Ten, Death, Mutate 9601, Jim Logan, Emilio Garra, Weapon Chi, Experiment X, Agent Ten, Peter Richards, Mai kethLogan, Mr. Patch']\n"
     ]
    }
   ],
   "source": [
    "# Find the superhero with the most teams\n",
    "superhero_with_most_teams = data.loc[data['teams'].apply(lambda x: len(x.split(','))).idxmax()]\n",
    "\n",
    "# Extract required information\n",
    "superhero_name = superhero_with_most_teams['name']\n",
    "real_name = superhero_with_most_teams['real_name']\n",
    "aliases = superhero_with_most_teams['aliases']\n",
    "\n",
    "print(\"Superhero Name:\", superhero_name)\n",
    "print(\"Real Name:\", real_name)\n",
    "print(\"Aliases:\", aliases)\n"
   ]
  },
  {
   "cell_type": "markdown",
   "id": "00610c22",
   "metadata": {
    "papermill": {
     "duration": 0.084756,
     "end_time": "2023-10-26T17:03:42.552606",
     "exception": false,
     "start_time": "2023-10-26T17:03:42.467850",
     "status": "completed"
    },
    "tags": []
   },
   "source": [
    "**Superhero Name:** [Wolverine]\n",
    "\n",
    "**Real Name:** [Logan]\n",
    "\n",
    "**Aliases:** [['Weapon X, Weapon Ten, Death, Mutate 9601, Jim Logan, Emilio Garra, Weapon Chi, Experiment X, Agent Ten, Peter Richards, Mai kethLogan, Mr. Patch']]\n"
   ]
  },
  {
   "cell_type": "markdown",
   "id": "36d3d398",
   "metadata": {
    "papermill": {
     "duration": 0.097793,
     "end_time": "2023-10-26T17:03:42.737567",
     "exception": false,
     "start_time": "2023-10-26T17:03:42.639774",
     "status": "completed"
    },
    "tags": []
   },
   "source": [
    "## Q5(B). Are there any crossovers between creators and teams?"
   ]
  },
  {
   "cell_type": "code",
   "execution_count": 33,
   "id": "302404db",
   "metadata": {
    "execution": {
     "iopub.execute_input": "2023-10-26T17:03:42.920300Z",
     "iopub.status.busy": "2023-10-26T17:03:42.919388Z",
     "iopub.status.idle": "2023-10-26T17:03:42.936847Z",
     "shell.execute_reply": "2023-10-26T17:03:42.935507Z"
    },
    "papermill": {
     "duration": 0.112725,
     "end_time": "2023-10-26T17:03:42.940851",
     "exception": false,
     "start_time": "2023-10-26T17:03:42.828126",
     "status": "completed"
    },
    "tags": []
   },
   "outputs": [
    {
     "data": {
      "text/plain": [
       "creator\n",
       "Marvel Comics             241\n",
       "DC Comics                 153\n",
       "George Lucas                8\n",
       "Dark Horse Comics           5\n",
       "Shueisha                    5\n",
       "J. K. Rowling               3\n",
       "Wildstorm                   2\n",
       "SyFy                        2\n",
       "J. R. R. Tolkien            2\n",
       "Hasbro                      2\n",
       "Star Trek                   2\n",
       "Disney                      2\n",
       "Cartoon Network             2\n",
       "Stephen King                1\n",
       "Microsoft                   1\n",
       "Team Epic TV                1\n",
       "South Park                  1\n",
       "Sony Pictures               1\n",
       "Sega                        1\n",
       "Ubisoft                     1\n",
       "Nintendo                    1\n",
       "Namco                       1\n",
       "Universal Studios           1\n",
       "NBC - Heroes                1\n",
       "Mortal Kombat               1\n",
       "ABC Studios                 1\n",
       "Mattel                      1\n",
       "Matt Groening               1\n",
       "Lego                        1\n",
       "Blizzard Entertainment      1\n",
       "Image Comics                1\n",
       "Icon Comics                 1\n",
       "Ian Fleming                 1\n",
       "IDW Publishing              1\n",
       "HarperCollins               1\n",
       "Hanna-Barbera               1\n",
       "George R. R. Martin         1\n",
       "Dreamworks                  1\n",
       "Clive Barker                1\n",
       "Capcom                      1\n",
       "Konami                      1\n",
       "Name: teams, dtype: int64"
      ]
     },
     "execution_count": 33,
     "metadata": {},
     "output_type": "execute_result"
    }
   ],
   "source": [
    "# Group the data by creator and count the number of unique teams for each creator\n",
    "creator_teams_count = data.groupby('creator')['teams'].nunique()\n",
    "creator_teams_count.sort_values(ascending=False)"
   ]
  },
  {
   "cell_type": "code",
   "execution_count": 34,
   "id": "258fd489",
   "metadata": {
    "execution": {
     "iopub.execute_input": "2023-10-26T17:03:43.128809Z",
     "iopub.status.busy": "2023-10-26T17:03:43.127715Z",
     "iopub.status.idle": "2023-10-26T17:03:43.137272Z",
     "shell.execute_reply": "2023-10-26T17:03:43.135410Z"
    },
    "papermill": {
     "duration": 0.104498,
     "end_time": "2023-10-26T17:03:43.140572",
     "exception": false,
     "start_time": "2023-10-26T17:03:43.036074",
     "status": "completed"
    },
    "tags": []
   },
   "outputs": [
    {
     "name": "stdout",
     "output_type": "stream",
     "text": [
      "Yes, there are crossovers between creators and teams.\n",
      "Creators with multiple teams:\n",
      "creator\n",
      "Cartoon Network        2\n",
      "DC Comics            153\n",
      "Dark Horse Comics      5\n",
      "Disney                 2\n",
      "George Lucas           8\n",
      "Hasbro                 2\n",
      "J. K. Rowling          3\n",
      "J. R. R. Tolkien       2\n",
      "Marvel Comics        241\n",
      "Shueisha               5\n",
      "Star Trek              2\n",
      "SyFy                   2\n",
      "Wildstorm              2\n",
      "Name: teams, dtype: int64\n"
     ]
    }
   ],
   "source": [
    "\n",
    "# Check if there are any creators associated with multiple teams\n",
    "creators_with_multiple_teams = creator_teams_count[creator_teams_count > 1]\n",
    "\n",
    "if not creators_with_multiple_teams.empty:\n",
    "    print(\"Yes, there are crossovers between creators and teams.\")\n",
    "    print(\"Creators with multiple teams:\")\n",
    "    print(creators_with_multiple_teams)\n",
    "else:\n",
    "    print(\"No, there are no crossovers between creators and teams.\")\n",
    "\n",
    "\n",
    "\n"
   ]
  },
  {
   "cell_type": "markdown",
   "id": "2d3125fb",
   "metadata": {
    "papermill": {
     "duration": 0.086632,
     "end_time": "2023-10-26T17:03:43.314478",
     "exception": false,
     "start_time": "2023-10-26T17:03:43.227846",
     "status": "completed"
    },
    "tags": []
   },
   "source": [
    "## Q6. What are the characteristics that can predict a superhero alignment."
   ]
  },
  {
   "cell_type": "markdown",
   "id": "00eb3f92",
   "metadata": {
    "papermill": {
     "duration": 0.083025,
     "end_time": "2023-10-26T17:03:43.487055",
     "exception": false,
     "start_time": "2023-10-26T17:03:43.404030",
     "status": "completed"
    },
    "tags": []
   },
   "source": [
    "### **Ans - Predicting a superhero's alignment based on characteristics involves performing a classification analysis. In our dataset, the 'alignment' column represents the superhero's alignment (e.g., good, bad). To predict alignment, We can use machine learning techniques.**"
   ]
  },
  {
   "cell_type": "code",
   "execution_count": 35,
   "id": "8e9fe87e",
   "metadata": {
    "execution": {
     "iopub.execute_input": "2023-10-26T17:03:43.657980Z",
     "iopub.status.busy": "2023-10-26T17:03:43.657456Z",
     "iopub.status.idle": "2023-10-26T17:03:43.672951Z",
     "shell.execute_reply": "2023-10-26T17:03:43.671430Z"
    },
    "papermill": {
     "duration": 0.104829,
     "end_time": "2023-10-26T17:03:43.676022",
     "exception": false,
     "start_time": "2023-10-26T17:03:43.571193",
     "status": "completed"
    },
    "tags": []
   },
   "outputs": [
    {
     "data": {
      "text/plain": [
       "0    0\n",
       "1    0\n",
       "2    2\n",
       "3    0\n",
       "4    0\n",
       "Name: occupation, dtype: int64"
      ]
     },
     "execution_count": 35,
     "metadata": {},
     "output_type": "execute_result"
    }
   ],
   "source": [
    "pd.set_option('display.max_rows', 5000)\n",
    "data['occupation'].apply(lambda x: len(str(x).split(';')) if pd.notnull(x) else 0).head()"
   ]
  },
  {
   "cell_type": "code",
   "execution_count": 36,
   "id": "543aa066",
   "metadata": {
    "execution": {
     "iopub.execute_input": "2023-10-26T17:03:43.848414Z",
     "iopub.status.busy": "2023-10-26T17:03:43.847182Z",
     "iopub.status.idle": "2023-10-26T17:03:43.860734Z",
     "shell.execute_reply": "2023-10-26T17:03:43.859071Z"
    },
    "papermill": {
     "duration": 0.102252,
     "end_time": "2023-10-26T17:03:43.864138",
     "exception": false,
     "start_time": "2023-10-26T17:03:43.761886",
     "status": "completed"
    },
    "tags": []
   },
   "outputs": [],
   "source": [
    "# Let's filter out features on which we'll training our model. we'll be considering those columns who will be related to power \n",
    "X = data[['overall_score', 'intelligence_score', 'strength_score', 'speed_score',\n",
    "       'durability_score', 'power_score', 'combat_score','occupation', 'gender', 'type_race', 'creator', 'has_electrokinesis', 'has_energy_constructs',\n",
    "       'has_mind_control_resistance', 'has_matter_manipulation',\n",
    "       'has_telepathy_resistance', 'has_mind_control', 'has_enhanced_hearing',\n",
    "       'has_dimensional_travel', 'has_element_control', 'has_size_changing',\n",
    "       'has_fire_resistance', 'has_fire_control', 'has_dexterity',\n",
    "       'has_reality_warping', 'has_illusions', 'has_energy_beams',\n",
    "       'has_peak_human_condition', 'has_shapeshifting', 'has_heat_resistance',\n",
    "       'has_jump', 'has_self-sustenance', 'has_energy_absorption',\n",
    "       'has_cold_resistance', 'has_magic', 'has_telekinesis',\n",
    "       'has_toxin_and_disease_resistance', 'has_telepathy', 'has_regeneration',\n",
    "       'has_immortality', 'has_teleportation', 'has_force_fields',\n",
    "       'has_energy_manipulation', 'has_endurance', 'has_longevity',\n",
    "       'has_weapon-based_powers', 'has_energy_blasts', 'has_enhanced_senses',\n",
    "       'has_invulnerability', 'has_stealth', 'has_marksmanship', 'has_flight',\n",
    "       'has_accelerated_healing', 'has_weapons_master', 'has_intelligence',\n",
    "       'has_reflexes', 'has_super_speed', 'has_durability', 'has_stamina',\n",
    "       'has_agility', 'has_super_strength', 'total_superpowers']]"
   ]
  },
  {
   "cell_type": "code",
   "execution_count": 37,
   "id": "500c9944",
   "metadata": {
    "execution": {
     "iopub.execute_input": "2023-10-26T17:03:44.042147Z",
     "iopub.status.busy": "2023-10-26T17:03:44.041215Z",
     "iopub.status.idle": "2023-10-26T17:03:44.047411Z",
     "shell.execute_reply": "2023-10-26T17:03:44.046162Z"
    },
    "papermill": {
     "duration": 0.102706,
     "end_time": "2023-10-26T17:03:44.050153",
     "exception": false,
     "start_time": "2023-10-26T17:03:43.947447",
     "status": "completed"
    },
    "tags": []
   },
   "outputs": [],
   "source": [
    "y = data['alignment']"
   ]
  },
  {
   "cell_type": "markdown",
   "id": "50a3f12f",
   "metadata": {
    "papermill": {
     "duration": 0.087666,
     "end_time": "2023-10-26T17:03:44.218774",
     "exception": false,
     "start_time": "2023-10-26T17:03:44.131108",
     "status": "completed"
    },
    "tags": []
   },
   "source": [
    "## We need to do Some feature engineering before creating the model"
   ]
  },
  {
   "cell_type": "code",
   "execution_count": 38,
   "id": "f5daad89",
   "metadata": {
    "execution": {
     "iopub.execute_input": "2023-10-26T17:03:44.385224Z",
     "iopub.status.busy": "2023-10-26T17:03:44.384488Z",
     "iopub.status.idle": "2023-10-26T17:03:44.633111Z",
     "shell.execute_reply": "2023-10-26T17:03:44.631096Z"
    },
    "papermill": {
     "duration": 0.335957,
     "end_time": "2023-10-26T17:03:44.636529",
     "exception": false,
     "start_time": "2023-10-26T17:03:44.300572",
     "status": "completed"
    },
    "tags": []
   },
   "outputs": [],
   "source": [
    "from sklearn.preprocessing import LabelEncoder\n",
    "\n",
    "label_encoder = LabelEncoder()\n",
    "y_encoded = label_encoder.fit_transform(y)"
   ]
  },
  {
   "cell_type": "code",
   "execution_count": 39,
   "id": "6862348c",
   "metadata": {
    "execution": {
     "iopub.execute_input": "2023-10-26T17:03:44.806010Z",
     "iopub.status.busy": "2023-10-26T17:03:44.805468Z",
     "iopub.status.idle": "2023-10-26T17:03:44.826925Z",
     "shell.execute_reply": "2023-10-26T17:03:44.825690Z"
    },
    "papermill": {
     "duration": 0.107675,
     "end_time": "2023-10-26T17:03:44.830260",
     "exception": false,
     "start_time": "2023-10-26T17:03:44.722585",
     "status": "completed"
    },
    "tags": []
   },
   "outputs": [
    {
     "name": "stdout",
     "output_type": "stream",
     "text": [
      "<class 'pandas.core.frame.DataFrame'>\n",
      "RangeIndex: 1450 entries, 0 to 1449\n",
      "Data columns (total 62 columns):\n",
      " #   Column                            Non-Null Count  Dtype  \n",
      "---  ------                            --------------  -----  \n",
      " 0   overall_score                     1450 non-null   object \n",
      " 1   intelligence_score                1450 non-null   int64  \n",
      " 2   strength_score                    1450 non-null   int64  \n",
      " 3   speed_score                       1450 non-null   int64  \n",
      " 4   durability_score                  1450 non-null   int64  \n",
      " 5   power_score                       1450 non-null   int64  \n",
      " 6   combat_score                      1450 non-null   int64  \n",
      " 7   occupation                        1014 non-null   object \n",
      " 8   gender                            1305 non-null   object \n",
      " 9   type_race                         1043 non-null   object \n",
      " 10  creator                           1311 non-null   object \n",
      " 11  has_electrokinesis                1383 non-null   float64\n",
      " 12  has_energy_constructs             1383 non-null   float64\n",
      " 13  has_mind_control_resistance       1383 non-null   float64\n",
      " 14  has_matter_manipulation           1383 non-null   float64\n",
      " 15  has_telepathy_resistance          1383 non-null   float64\n",
      " 16  has_mind_control                  1383 non-null   float64\n",
      " 17  has_enhanced_hearing              1383 non-null   float64\n",
      " 18  has_dimensional_travel            1383 non-null   float64\n",
      " 19  has_element_control               1383 non-null   float64\n",
      " 20  has_size_changing                 1383 non-null   float64\n",
      " 21  has_fire_resistance               1383 non-null   float64\n",
      " 22  has_fire_control                  1383 non-null   float64\n",
      " 23  has_dexterity                     1383 non-null   float64\n",
      " 24  has_reality_warping               1383 non-null   float64\n",
      " 25  has_illusions                     1383 non-null   float64\n",
      " 26  has_energy_beams                  1383 non-null   float64\n",
      " 27  has_peak_human_condition          1383 non-null   float64\n",
      " 28  has_shapeshifting                 1383 non-null   float64\n",
      " 29  has_heat_resistance               1383 non-null   float64\n",
      " 30  has_jump                          1383 non-null   float64\n",
      " 31  has_self-sustenance               1383 non-null   float64\n",
      " 32  has_energy_absorption             1383 non-null   float64\n",
      " 33  has_cold_resistance               1383 non-null   float64\n",
      " 34  has_magic                         1383 non-null   float64\n",
      " 35  has_telekinesis                   1383 non-null   float64\n",
      " 36  has_toxin_and_disease_resistance  1383 non-null   float64\n",
      " 37  has_telepathy                     1383 non-null   float64\n",
      " 38  has_regeneration                  1383 non-null   float64\n",
      " 39  has_immortality                   1383 non-null   float64\n",
      " 40  has_teleportation                 1383 non-null   float64\n",
      " 41  has_force_fields                  1383 non-null   float64\n",
      " 42  has_energy_manipulation           1383 non-null   float64\n",
      " 43  has_endurance                     1383 non-null   float64\n",
      " 44  has_longevity                     1383 non-null   float64\n",
      " 45  has_weapon-based_powers           1383 non-null   float64\n",
      " 46  has_energy_blasts                 1383 non-null   float64\n",
      " 47  has_enhanced_senses               1383 non-null   float64\n",
      " 48  has_invulnerability               1383 non-null   float64\n",
      " 49  has_stealth                       1383 non-null   float64\n",
      " 50  has_marksmanship                  1383 non-null   float64\n",
      " 51  has_flight                        1383 non-null   float64\n",
      " 52  has_accelerated_healing           1383 non-null   float64\n",
      " 53  has_weapons_master                1383 non-null   float64\n",
      " 54  has_intelligence                  1383 non-null   float64\n",
      " 55  has_reflexes                      1383 non-null   float64\n",
      " 56  has_super_speed                   1383 non-null   float64\n",
      " 57  has_durability                    1383 non-null   float64\n",
      " 58  has_stamina                       1383 non-null   float64\n",
      " 59  has_agility                       1383 non-null   float64\n",
      " 60  has_super_strength                1383 non-null   float64\n",
      " 61  total_superpowers                 1450 non-null   float64\n",
      "dtypes: float64(51), int64(6), object(5)\n",
      "memory usage: 702.5+ KB\n"
     ]
    }
   ],
   "source": [
    "X.info()"
   ]
  },
  {
   "cell_type": "markdown",
   "id": "50f58313",
   "metadata": {
    "papermill": {
     "duration": 0.082744,
     "end_time": "2023-10-26T17:03:44.996601",
     "exception": false,
     "start_time": "2023-10-26T17:03:44.913857",
     "status": "completed"
    },
    "tags": []
   },
   "source": [
    "## Handling null values in Occupation column and changing it to Numerical way. we are defining a custum way"
   ]
  },
  {
   "cell_type": "code",
   "execution_count": 40,
   "id": "384d54e4",
   "metadata": {
    "execution": {
     "iopub.execute_input": "2023-10-26T17:03:45.171943Z",
     "iopub.status.busy": "2023-10-26T17:03:45.171381Z",
     "iopub.status.idle": "2023-10-26T17:03:45.190192Z",
     "shell.execute_reply": "2023-10-26T17:03:45.189169Z"
    },
    "papermill": {
     "duration": 0.10777,
     "end_time": "2023-10-26T17:03:45.192946",
     "exception": false,
     "start_time": "2023-10-26T17:03:45.085176",
     "status": "completed"
    },
    "tags": []
   },
   "outputs": [],
   "source": [
    "# Split occupations using both ';' and ','\n",
    "X['occupations_list'] = X['occupation'].apply(lambda x: str(x).replace(',', ';').split(';') if pd.notnull(x) else [])\n",
    "\n",
    "# Count the number of occupations for each superhero\n",
    "X['occupation_count'] = X['occupations_list'].apply(lambda x: len(x))"
   ]
  },
  {
   "cell_type": "code",
   "execution_count": 41,
   "id": "80d44a6d",
   "metadata": {
    "execution": {
     "iopub.execute_input": "2023-10-26T17:03:45.364541Z",
     "iopub.status.busy": "2023-10-26T17:03:45.363643Z",
     "iopub.status.idle": "2023-10-26T17:03:45.371682Z",
     "shell.execute_reply": "2023-10-26T17:03:45.370720Z"
    },
    "papermill": {
     "duration": 0.09544,
     "end_time": "2023-10-26T17:03:45.374368",
     "exception": false,
     "start_time": "2023-10-26T17:03:45.278928",
     "status": "completed"
    },
    "tags": []
   },
   "outputs": [],
   "source": [
    "X.drop(columns=['occupation', 'occupations_list'], inplace=True)"
   ]
  },
  {
   "cell_type": "code",
   "execution_count": 42,
   "id": "a182b910",
   "metadata": {
    "execution": {
     "iopub.execute_input": "2023-10-26T17:03:45.547068Z",
     "iopub.status.busy": "2023-10-26T17:03:45.546170Z",
     "iopub.status.idle": "2023-10-26T17:03:45.553505Z",
     "shell.execute_reply": "2023-10-26T17:03:45.551970Z"
    },
    "papermill": {
     "duration": 0.099787,
     "end_time": "2023-10-26T17:03:45.556590",
     "exception": false,
     "start_time": "2023-10-26T17:03:45.456803",
     "status": "completed"
    },
    "tags": []
   },
   "outputs": [],
   "source": [
    "X['gender'].fillna('Unknown', inplace=True)"
   ]
  },
  {
   "cell_type": "code",
   "execution_count": 43,
   "id": "be008e31",
   "metadata": {
    "execution": {
     "iopub.execute_input": "2023-10-26T17:03:45.731052Z",
     "iopub.status.busy": "2023-10-26T17:03:45.730564Z",
     "iopub.status.idle": "2023-10-26T17:03:45.738067Z",
     "shell.execute_reply": "2023-10-26T17:03:45.736387Z"
    },
    "papermill": {
     "duration": 0.098524,
     "end_time": "2023-10-26T17:03:45.740683",
     "exception": false,
     "start_time": "2023-10-26T17:03:45.642159",
     "status": "completed"
    },
    "tags": []
   },
   "outputs": [],
   "source": [
    "X['type_race'].fillna('Unknown', inplace=True)"
   ]
  },
  {
   "cell_type": "code",
   "execution_count": 44,
   "id": "c32cafed",
   "metadata": {
    "execution": {
     "iopub.execute_input": "2023-10-26T17:03:45.983807Z",
     "iopub.status.busy": "2023-10-26T17:03:45.982724Z",
     "iopub.status.idle": "2023-10-26T17:03:45.999830Z",
     "shell.execute_reply": "2023-10-26T17:03:45.998379Z"
    },
    "papermill": {
     "duration": 0.10397,
     "end_time": "2023-10-26T17:03:46.003512",
     "exception": false,
     "start_time": "2023-10-26T17:03:45.899542",
     "status": "completed"
    },
    "tags": []
   },
   "outputs": [],
   "source": [
    "# Perform one-hot encoding for the 'gender' column\n",
    "X = pd.get_dummies(X, columns=['gender'], prefix='gender', dummy_na=True)\n",
    "X = pd.get_dummies(X, columns=['type_race'], prefix='type_race', dummy_na=True)\n"
   ]
  },
  {
   "cell_type": "code",
   "execution_count": 45,
   "id": "35c993d8",
   "metadata": {
    "execution": {
     "iopub.execute_input": "2023-10-26T17:03:46.173389Z",
     "iopub.status.busy": "2023-10-26T17:03:46.172863Z",
     "iopub.status.idle": "2023-10-26T17:03:46.181533Z",
     "shell.execute_reply": "2023-10-26T17:03:46.180057Z"
    },
    "papermill": {
     "duration": 0.098808,
     "end_time": "2023-10-26T17:03:46.185088",
     "exception": false,
     "start_time": "2023-10-26T17:03:46.086280",
     "status": "completed"
    },
    "tags": []
   },
   "outputs": [],
   "source": [
    "X['creator'].fillna('Unknown', inplace=True)"
   ]
  },
  {
   "cell_type": "code",
   "execution_count": 46,
   "id": "24ea69af",
   "metadata": {
    "execution": {
     "iopub.execute_input": "2023-10-26T17:03:46.351636Z",
     "iopub.status.busy": "2023-10-26T17:03:46.350607Z",
     "iopub.status.idle": "2023-10-26T17:03:46.365227Z",
     "shell.execute_reply": "2023-10-26T17:03:46.363154Z"
    },
    "papermill": {
     "duration": 0.101616,
     "end_time": "2023-10-26T17:03:46.368490",
     "exception": false,
     "start_time": "2023-10-26T17:03:46.266874",
     "status": "completed"
    },
    "tags": []
   },
   "outputs": [],
   "source": [
    "# Define a list of dominant creators\n",
    "dominant_creators = ['Marvel Comics', 'DC Comics']\n",
    "\n",
    "# Group less frequent creators as 'Other'\n",
    "X['creator_processed'] = X['creator'].apply(lambda x: x if x in dominant_creators else 'Other')\n",
    "# Perform one-hot encoding for the 'creator_processed' column\n",
    "X = pd.get_dummies(X, columns=['creator_processed'], prefix='creator', dummy_na=True)\n"
   ]
  },
  {
   "cell_type": "code",
   "execution_count": 47,
   "id": "f3a90dae",
   "metadata": {
    "execution": {
     "iopub.execute_input": "2023-10-26T17:03:46.537330Z",
     "iopub.status.busy": "2023-10-26T17:03:46.536572Z",
     "iopub.status.idle": "2023-10-26T17:03:46.560314Z",
     "shell.execute_reply": "2023-10-26T17:03:46.559271Z"
    },
    "papermill": {
     "duration": 0.112352,
     "end_time": "2023-10-26T17:03:46.563250",
     "exception": false,
     "start_time": "2023-10-26T17:03:46.450898",
     "status": "completed"
    },
    "tags": []
   },
   "outputs": [],
   "source": [
    "columns_to_fill_na = ['has_electrokinesis', 'has_energy_constructs',\n",
    "       'has_mind_control_resistance', 'has_matter_manipulation',\n",
    "       'has_telepathy_resistance', 'has_mind_control', 'has_enhanced_hearing',\n",
    "       'has_dimensional_travel', 'has_element_control', 'has_size_changing',\n",
    "       'has_fire_resistance', 'has_fire_control', 'has_dexterity',\n",
    "       'has_reality_warping', 'has_illusions', 'has_energy_beams',\n",
    "       'has_peak_human_condition', 'has_shapeshifting', 'has_heat_resistance',\n",
    "       'has_jump', 'has_self-sustenance', 'has_energy_absorption',\n",
    "       'has_cold_resistance', 'has_magic', 'has_telekinesis',\n",
    "       'has_toxin_and_disease_resistance', 'has_telepathy', 'has_regeneration',\n",
    "       'has_immortality', 'has_teleportation', 'has_force_fields',\n",
    "       'has_energy_manipulation', 'has_endurance', 'has_longevity',\n",
    "       'has_weapon-based_powers', 'has_energy_blasts', 'has_enhanced_senses',\n",
    "       'has_invulnerability', 'has_stealth', 'has_marksmanship', 'has_flight',\n",
    "       'has_accelerated_healing', 'has_weapons_master', 'has_intelligence',\n",
    "       'has_reflexes', 'has_super_speed', 'has_durability', 'has_stamina',\n",
    "       'has_agility', 'has_super_strength']\n",
    "X[columns_to_fill_na] = X[columns_to_fill_na].fillna(0)"
   ]
  },
  {
   "cell_type": "code",
   "execution_count": 48,
   "id": "b15ca1cf",
   "metadata": {
    "execution": {
     "iopub.execute_input": "2023-10-26T17:03:46.733753Z",
     "iopub.status.busy": "2023-10-26T17:03:46.733232Z",
     "iopub.status.idle": "2023-10-26T17:03:46.746181Z",
     "shell.execute_reply": "2023-10-26T17:03:46.744922Z"
    },
    "papermill": {
     "duration": 0.102611,
     "end_time": "2023-10-26T17:03:46.749239",
     "exception": false,
     "start_time": "2023-10-26T17:03:46.646628",
     "status": "completed"
    },
    "tags": []
   },
   "outputs": [],
   "source": [
    "import numpy as np\n",
    "\n",
    "# Replace non-numeric values (such as '-') with NaN in the 'overall_score' column\n",
    "X['overall_score'] = pd.to_numeric(X['overall_score'], errors='coerce')\n",
    "\n",
    "# Find the maximum value in the 'overall_score' column\n",
    "max_score = X['overall_score'].replace(np.inf, np.nan).max()\n",
    "\n",
    "# Replace '∞' values with max_score + 1\n",
    "X['overall_score'] = X['overall_score'].replace(np.inf, max_score + 1)\n",
    "mean_score = X['overall_score'].mean()\n",
    "\n",
    "# Fill NaN values with the mean score\n",
    "X['overall_score'].fillna(mean_score, inplace=True)\n"
   ]
  },
  {
   "cell_type": "code",
   "execution_count": 49,
   "id": "588beec0",
   "metadata": {
    "execution": {
     "iopub.execute_input": "2023-10-26T17:03:46.919401Z",
     "iopub.status.busy": "2023-10-26T17:03:46.918712Z",
     "iopub.status.idle": "2023-10-26T17:03:46.930686Z",
     "shell.execute_reply": "2023-10-26T17:03:46.929708Z"
    },
    "papermill": {
     "duration": 0.09816,
     "end_time": "2023-10-26T17:03:46.933032",
     "exception": false,
     "start_time": "2023-10-26T17:03:46.834872",
     "status": "completed"
    },
    "tags": []
   },
   "outputs": [],
   "source": [
    "from sklearn.preprocessing import LabelEncoder\n",
    "\n",
    "# Initialize LabelEncoder\n",
    "label_encoder = LabelEncoder()\n",
    "\n",
    "# Encode 'creator' column using label encoding\n",
    "X['creator_encoded'] = label_encoder.fit_transform(X['creator'])\n",
    "X.drop(columns=['creator'], inplace=True)"
   ]
  },
  {
   "cell_type": "code",
   "execution_count": 50,
   "id": "0789ef77",
   "metadata": {
    "execution": {
     "iopub.execute_input": "2023-10-26T17:03:47.103939Z",
     "iopub.status.busy": "2023-10-26T17:03:47.103205Z",
     "iopub.status.idle": "2023-10-26T17:03:47.119175Z",
     "shell.execute_reply": "2023-10-26T17:03:47.118218Z"
    },
    "papermill": {
     "duration": 0.102783,
     "end_time": "2023-10-26T17:03:47.122100",
     "exception": false,
     "start_time": "2023-10-26T17:03:47.019317",
     "status": "completed"
    },
    "tags": []
   },
   "outputs": [
    {
     "data": {
      "text/plain": [
       "overall_score                       0\n",
       "intelligence_score                  0\n",
       "strength_score                      0\n",
       "speed_score                         0\n",
       "durability_score                    0\n",
       "power_score                         0\n",
       "combat_score                        0\n",
       "has_electrokinesis                  0\n",
       "has_energy_constructs               0\n",
       "has_mind_control_resistance         0\n",
       "has_matter_manipulation             0\n",
       "has_telepathy_resistance            0\n",
       "has_mind_control                    0\n",
       "has_enhanced_hearing                0\n",
       "has_dimensional_travel              0\n",
       "has_element_control                 0\n",
       "has_size_changing                   0\n",
       "has_fire_resistance                 0\n",
       "has_fire_control                    0\n",
       "has_dexterity                       0\n",
       "has_reality_warping                 0\n",
       "has_illusions                       0\n",
       "has_energy_beams                    0\n",
       "has_peak_human_condition            0\n",
       "has_shapeshifting                   0\n",
       "has_heat_resistance                 0\n",
       "has_jump                            0\n",
       "has_self-sustenance                 0\n",
       "has_energy_absorption               0\n",
       "has_cold_resistance                 0\n",
       "has_magic                           0\n",
       "has_telekinesis                     0\n",
       "has_toxin_and_disease_resistance    0\n",
       "has_telepathy                       0\n",
       "has_regeneration                    0\n",
       "has_immortality                     0\n",
       "has_teleportation                   0\n",
       "has_force_fields                    0\n",
       "has_energy_manipulation             0\n",
       "has_endurance                       0\n",
       "has_longevity                       0\n",
       "has_weapon-based_powers             0\n",
       "has_energy_blasts                   0\n",
       "has_enhanced_senses                 0\n",
       "has_invulnerability                 0\n",
       "has_stealth                         0\n",
       "has_marksmanship                    0\n",
       "has_flight                          0\n",
       "has_accelerated_healing             0\n",
       "has_weapons_master                  0\n",
       "has_intelligence                    0\n",
       "has_reflexes                        0\n",
       "has_super_speed                     0\n",
       "has_durability                      0\n",
       "has_stamina                         0\n",
       "has_agility                         0\n",
       "has_super_strength                  0\n",
       "total_superpowers                   0\n",
       "occupation_count                    0\n",
       "gender_Female                       0\n",
       "gender_Male                         0\n",
       "gender_Unknown                      0\n",
       "gender_nan                          0\n",
       "type_race_Alien                     0\n",
       "type_race_Alpha                     0\n",
       "type_race_Amazon                    0\n",
       "type_race_Android                   0\n",
       "type_race_Animal                    0\n",
       "type_race_Asgardian                 0\n",
       "type_race_Atlantean                 0\n",
       "type_race_Bizarro                   0\n",
       "type_race_Bolovaxian                0\n",
       "type_race_Cenobite                  0\n",
       "type_race_Clone                     0\n",
       "type_race_Cosmic Entity             0\n",
       "type_race_Cyborg                    0\n",
       "type_race_Czarnian                  0\n",
       "type_race_Dathomirian Zabrak        0\n",
       "type_race_Daxamite                  0\n",
       "type_race_Demi-God                  0\n",
       "type_race_Demon                     0\n",
       "type_race_Elder                     0\n",
       "type_race_Elf                       0\n",
       "type_race_Energy                    0\n",
       "type_race_Eternal                   0\n",
       "type_race_Flora Colossus            0\n",
       "type_race_Frost Giant               0\n",
       "type_race_God / Eternal             0\n",
       "type_race_Gorilla                   0\n",
       "type_race_Gungan                    0\n",
       "type_race_Human                     0\n",
       "type_race_Human / Altered           0\n",
       "type_race_Human / Cosmic            0\n",
       "type_race_Human / Radiation         0\n",
       "type_race_Human-Inhuman             0\n",
       "type_race_Human-Spartoi             0\n",
       "type_race_Human-Vulcan              0\n",
       "type_race_Icthyo Sapien             0\n",
       "type_race_Inhuman                   0\n",
       "type_race_Kaiju                     0\n",
       "type_race_Kakarantharaian           0\n",
       "type_race_Korugaran                 0\n",
       "type_race_Kree                      0\n",
       "type_race_Kryptonian                0\n",
       "type_race_Lego                      0\n",
       "type_race_Leprechaun                0\n",
       "type_race_Maiar                     0\n",
       "type_race_Martian                   0\n",
       "type_race_Metahuman                 0\n",
       "type_race_Mutant                    0\n",
       "type_race_Mutant / Clone            0\n",
       "type_race_New God                   0\n",
       "type_race_Parademon                 0\n",
       "type_race_Planet                    0\n",
       "type_race_Robot                     0\n",
       "type_race_Rodian                    0\n",
       "type_race_Saiyan                    0\n",
       "type_race_Strontian                 0\n",
       "type_race_Symbiote                  0\n",
       "type_race_Talokite                  0\n",
       "type_race_Tamaranean                0\n",
       "type_race_Titanian                  0\n",
       "type_race_Twi'lek                   0\n",
       "type_race_Ungaran                   0\n",
       "type_race_Unknown                   0\n",
       "type_race_Vampire                   0\n",
       "type_race_Xenomorph XX121           0\n",
       "type_race_Yautja                    0\n",
       "type_race_Yoda's species            0\n",
       "type_race_Zen-Whoberian             0\n",
       "type_race_Zombie                    0\n",
       "type_race_nan                       0\n",
       "creator_DC Comics                   0\n",
       "creator_Marvel Comics               0\n",
       "creator_Other                       0\n",
       "creator_nan                         0\n",
       "creator_encoded                     0\n",
       "dtype: int64"
      ]
     },
     "execution_count": 50,
     "metadata": {},
     "output_type": "execute_result"
    }
   ],
   "source": [
    "X.isnull().sum()"
   ]
  },
  {
   "cell_type": "code",
   "execution_count": 51,
   "id": "4c1756d0",
   "metadata": {
    "execution": {
     "iopub.execute_input": "2023-10-26T17:03:47.290202Z",
     "iopub.status.busy": "2023-10-26T17:03:47.289236Z",
     "iopub.status.idle": "2023-10-26T17:03:47.441289Z",
     "shell.execute_reply": "2023-10-26T17:03:47.439477Z"
    },
    "papermill": {
     "duration": 0.241409,
     "end_time": "2023-10-26T17:03:47.444930",
     "exception": false,
     "start_time": "2023-10-26T17:03:47.203521",
     "status": "completed"
    },
    "tags": []
   },
   "outputs": [],
   "source": [
    "from sklearn.model_selection import train_test_split\n",
    "\n",
    "# Assuming X contains your features and y_encoded contains your target variable\n",
    "X_train, X_test, y_train, y_test = train_test_split(X, y_encoded, test_size=0.2, random_state=42)\n"
   ]
  },
  {
   "cell_type": "code",
   "execution_count": 52,
   "id": "0d097a5a",
   "metadata": {
    "execution": {
     "iopub.execute_input": "2023-10-26T17:03:47.610496Z",
     "iopub.status.busy": "2023-10-26T17:03:47.610061Z",
     "iopub.status.idle": "2023-10-26T17:03:48.576658Z",
     "shell.execute_reply": "2023-10-26T17:03:48.575390Z"
    },
    "papermill": {
     "duration": 1.053303,
     "end_time": "2023-10-26T17:03:48.579660",
     "exception": false,
     "start_time": "2023-10-26T17:03:47.526357",
     "status": "completed"
    },
    "tags": []
   },
   "outputs": [
    {
     "data": {
      "text/html": [
       "<style>#sk-container-id-1 {color: black;background-color: white;}#sk-container-id-1 pre{padding: 0;}#sk-container-id-1 div.sk-toggleable {background-color: white;}#sk-container-id-1 label.sk-toggleable__label {cursor: pointer;display: block;width: 100%;margin-bottom: 0;padding: 0.3em;box-sizing: border-box;text-align: center;}#sk-container-id-1 label.sk-toggleable__label-arrow:before {content: \"▸\";float: left;margin-right: 0.25em;color: #696969;}#sk-container-id-1 label.sk-toggleable__label-arrow:hover:before {color: black;}#sk-container-id-1 div.sk-estimator:hover label.sk-toggleable__label-arrow:before {color: black;}#sk-container-id-1 div.sk-toggleable__content {max-height: 0;max-width: 0;overflow: hidden;text-align: left;background-color: #f0f8ff;}#sk-container-id-1 div.sk-toggleable__content pre {margin: 0.2em;color: black;border-radius: 0.25em;background-color: #f0f8ff;}#sk-container-id-1 input.sk-toggleable__control:checked~div.sk-toggleable__content {max-height: 200px;max-width: 100%;overflow: auto;}#sk-container-id-1 input.sk-toggleable__control:checked~label.sk-toggleable__label-arrow:before {content: \"▾\";}#sk-container-id-1 div.sk-estimator input.sk-toggleable__control:checked~label.sk-toggleable__label {background-color: #d4ebff;}#sk-container-id-1 div.sk-label input.sk-toggleable__control:checked~label.sk-toggleable__label {background-color: #d4ebff;}#sk-container-id-1 input.sk-hidden--visually {border: 0;clip: rect(1px 1px 1px 1px);clip: rect(1px, 1px, 1px, 1px);height: 1px;margin: -1px;overflow: hidden;padding: 0;position: absolute;width: 1px;}#sk-container-id-1 div.sk-estimator {font-family: monospace;background-color: #f0f8ff;border: 1px dotted black;border-radius: 0.25em;box-sizing: border-box;margin-bottom: 0.5em;}#sk-container-id-1 div.sk-estimator:hover {background-color: #d4ebff;}#sk-container-id-1 div.sk-parallel-item::after {content: \"\";width: 100%;border-bottom: 1px solid gray;flex-grow: 1;}#sk-container-id-1 div.sk-label:hover label.sk-toggleable__label {background-color: #d4ebff;}#sk-container-id-1 div.sk-serial::before {content: \"\";position: absolute;border-left: 1px solid gray;box-sizing: border-box;top: 0;bottom: 0;left: 50%;z-index: 0;}#sk-container-id-1 div.sk-serial {display: flex;flex-direction: column;align-items: center;background-color: white;padding-right: 0.2em;padding-left: 0.2em;position: relative;}#sk-container-id-1 div.sk-item {position: relative;z-index: 1;}#sk-container-id-1 div.sk-parallel {display: flex;align-items: stretch;justify-content: center;background-color: white;position: relative;}#sk-container-id-1 div.sk-item::before, #sk-container-id-1 div.sk-parallel-item::before {content: \"\";position: absolute;border-left: 1px solid gray;box-sizing: border-box;top: 0;bottom: 0;left: 50%;z-index: -1;}#sk-container-id-1 div.sk-parallel-item {display: flex;flex-direction: column;z-index: 1;position: relative;background-color: white;}#sk-container-id-1 div.sk-parallel-item:first-child::after {align-self: flex-end;width: 50%;}#sk-container-id-1 div.sk-parallel-item:last-child::after {align-self: flex-start;width: 50%;}#sk-container-id-1 div.sk-parallel-item:only-child::after {width: 0;}#sk-container-id-1 div.sk-dashed-wrapped {border: 1px dashed gray;margin: 0 0.4em 0.5em 0.4em;box-sizing: border-box;padding-bottom: 0.4em;background-color: white;}#sk-container-id-1 div.sk-label label {font-family: monospace;font-weight: bold;display: inline-block;line-height: 1.2em;}#sk-container-id-1 div.sk-label-container {text-align: center;}#sk-container-id-1 div.sk-container {/* jupyter's `normalize.less` sets `[hidden] { display: none; }` but bootstrap.min.css set `[hidden] { display: none !important; }` so we also need the `!important` here to be able to override the default hidden behavior on the sphinx rendered scikit-learn.org. See: https://github.com/scikit-learn/scikit-learn/issues/21755 */display: inline-block !important;position: relative;}#sk-container-id-1 div.sk-text-repr-fallback {display: none;}</style><div id=\"sk-container-id-1\" class=\"sk-top-container\"><div class=\"sk-text-repr-fallback\"><pre>RandomForestClassifier(random_state=42)</pre><b>In a Jupyter environment, please rerun this cell to show the HTML representation or trust the notebook. <br />On GitHub, the HTML representation is unable to render, please try loading this page with nbviewer.org.</b></div><div class=\"sk-container\" hidden><div class=\"sk-item\"><div class=\"sk-estimator sk-toggleable\"><input class=\"sk-toggleable__control sk-hidden--visually\" id=\"sk-estimator-id-1\" type=\"checkbox\" checked><label for=\"sk-estimator-id-1\" class=\"sk-toggleable__label sk-toggleable__label-arrow\">RandomForestClassifier</label><div class=\"sk-toggleable__content\"><pre>RandomForestClassifier(random_state=42)</pre></div></div></div></div></div>"
      ],
      "text/plain": [
       "RandomForestClassifier(random_state=42)"
      ]
     },
     "execution_count": 52,
     "metadata": {},
     "output_type": "execute_result"
    }
   ],
   "source": [
    "from sklearn.ensemble import RandomForestClassifier\n",
    "\n",
    "# Initialize the classifier\n",
    "clf = RandomForestClassifier(random_state=42)\n",
    "\n",
    "# Train the classifier on the training data\n",
    "clf.fit(X_train, y_train)"
   ]
  },
  {
   "cell_type": "code",
   "execution_count": 53,
   "id": "ed3626d1",
   "metadata": {
    "execution": {
     "iopub.execute_input": "2023-10-26T17:03:48.755271Z",
     "iopub.status.busy": "2023-10-26T17:03:48.753640Z",
     "iopub.status.idle": "2023-10-26T17:03:48.795474Z",
     "shell.execute_reply": "2023-10-26T17:03:48.793937Z"
    },
    "papermill": {
     "duration": 0.13537,
     "end_time": "2023-10-26T17:03:48.798743",
     "exception": false,
     "start_time": "2023-10-26T17:03:48.663373",
     "status": "completed"
    },
    "tags": []
   },
   "outputs": [
    {
     "name": "stdout",
     "output_type": "stream",
     "text": [
      "Accuracy: 0.5620689655172414\n",
      "Classification Report:\n",
      "              precision    recall  f1-score   support\n",
      "\n",
      "           0       0.45      0.29      0.35        91\n",
      "           1       0.58      0.84      0.69       158\n",
      "           2       1.00      0.11      0.20        27\n",
      "           3       0.67      0.14      0.24        14\n",
      "\n",
      "    accuracy                           0.56       290\n",
      "   macro avg       0.67      0.34      0.37       290\n",
      "weighted avg       0.58      0.56      0.51       290\n",
      "\n"
     ]
    }
   ],
   "source": [
    "# Predict alignment on the test data\n",
    "predictions = clf.predict(X_test)\n",
    "\n",
    "# Evaluate the model's accuracy\n",
    "from sklearn.metrics import accuracy_score, classification_report\n",
    "accuracy = accuracy_score(y_test, predictions)\n",
    "print(\"Accuracy:\", accuracy)\n",
    "\n",
    "# Get a detailed classification report\n",
    "print(\"Classification Report:\")\n",
    "print(classification_report(y_test, predictions))"
   ]
  },
  {
   "cell_type": "markdown",
   "id": "bcf02dd9",
   "metadata": {
    "papermill": {
     "duration": 0.084278,
     "end_time": "2023-10-26T17:03:48.969015",
     "exception": false,
     "start_time": "2023-10-26T17:03:48.884737",
     "status": "completed"
    },
    "tags": []
   },
   "source": [
    "## This is Just a demostration of classification is there.. lot of feature enginnering, experiments, Hyperparameter tuning have to be done to get the best possible Model."
   ]
  },
  {
   "cell_type": "markdown",
   "id": "21baa065",
   "metadata": {
    "papermill": {
     "duration": 0.081571,
     "end_time": "2023-10-26T17:03:49.141845",
     "exception": false,
     "start_time": "2023-10-26T17:03:49.060274",
     "status": "completed"
    },
    "tags": []
   },
   "source": [
    "## Q7. From history of superheroes, \n",
    "\n",
    "**a. Find list of superheroes having negative past but now aligned positively.\n",
    "(Negativity of past can be decided by multiple methods, please use which is familiar to you)**\n"
   ]
  },
  {
   "cell_type": "markdown",
   "id": "2990e390",
   "metadata": {
    "papermill": {
     "duration": 0.080645,
     "end_time": "2023-10-26T17:03:49.305065",
     "exception": false,
     "start_time": "2023-10-26T17:03:49.224420",
     "status": "completed"
    },
    "tags": []
   },
   "source": [
    "#### Ans- To find negativity of a superhero's past can be subjective and context-dependent. One apprach could be One way to approach this task looking it as Sentiment analysis on 'history_text' column that might indicate a negative past. Let's try to build Sentiment analysis using  pretrained **GLove model**"
   ]
  },
  {
   "cell_type": "code",
   "execution_count": 54,
   "id": "2601a87c",
   "metadata": {
    "execution": {
     "iopub.execute_input": "2023-10-26T17:03:49.476477Z",
     "iopub.status.busy": "2023-10-26T17:03:49.475929Z",
     "iopub.status.idle": "2023-10-26T17:03:50.220763Z",
     "shell.execute_reply": "2023-10-26T17:03:50.219291Z"
    },
    "papermill": {
     "duration": 0.834851,
     "end_time": "2023-10-26T17:03:50.224557",
     "exception": false,
     "start_time": "2023-10-26T17:03:49.389706",
     "status": "completed"
    },
    "tags": []
   },
   "outputs": [
    {
     "name": "stderr",
     "output_type": "stream",
     "text": [
      "/opt/conda/lib/python3.10/site-packages/nltk/twitter/__init__.py:20: UserWarning:\n",
      "\n",
      "The twython library has not been installed. Some functionality from the twitter package will not be available.\n",
      "\n"
     ]
    }
   ],
   "source": [
    "import pandas as pd\n",
    "from nltk.sentiment.vader import SentimentIntensityAnalyzer\n",
    "\n",
    "\n",
    "\n",
    "# Initialize the VADER sentiment analyzer\n",
    "sid = SentimentIntensityAnalyzer()\n",
    "\n",
    "def filter_negative_superheroes(text):\n",
    "    # Check for NaN values\n",
    "    if isinstance(text, str):  # Only apply sentiment analysis to non-null strings\n",
    "        sentiment_score = sid.polarity_scores(text)\n",
    "        # Use a threshold to classify sentiment (adjust as needed)\n",
    "        if sentiment_score['compound'] < -0.1:\n",
    "            return True  # Superhero with negative past\n",
    "    return False  # Superhero with positive or neutral past\n",
    "\n"
   ]
  },
  {
   "cell_type": "code",
   "execution_count": 55,
   "id": "36e7fae0",
   "metadata": {
    "execution": {
     "iopub.execute_input": "2023-10-26T17:03:50.400369Z",
     "iopub.status.busy": "2023-10-26T17:03:50.399834Z",
     "iopub.status.idle": "2023-10-26T17:03:50.409680Z",
     "shell.execute_reply": "2023-10-26T17:03:50.407997Z"
    },
    "papermill": {
     "duration": 0.09982,
     "end_time": "2023-10-26T17:03:50.412782",
     "exception": false,
     "start_time": "2023-10-26T17:03:50.312962",
     "status": "completed"
    },
    "tags": []
   },
   "outputs": [
    {
     "data": {
      "text/plain": [
       "90"
      ]
     },
     "execution_count": 55,
     "metadata": {},
     "output_type": "execute_result"
    }
   ],
   "source": [
    "data['history_text'].isnull().sum()"
   ]
  },
  {
   "cell_type": "code",
   "execution_count": 56,
   "id": "9ce51146",
   "metadata": {
    "execution": {
     "iopub.execute_input": "2023-10-26T17:03:50.612951Z",
     "iopub.status.busy": "2023-10-26T17:03:50.611339Z",
     "iopub.status.idle": "2023-10-26T17:03:50.620355Z",
     "shell.execute_reply": "2023-10-26T17:03:50.618771Z"
    },
    "papermill": {
     "duration": 0.127619,
     "end_time": "2023-10-26T17:03:50.623795",
     "exception": false,
     "start_time": "2023-10-26T17:03:50.496176",
     "status": "completed"
    },
    "tags": []
   },
   "outputs": [],
   "source": [
    "# Treating na\n",
    "data['history_text'].fillna('No available history.', inplace=True)\n"
   ]
  },
  {
   "cell_type": "markdown",
   "id": "40935713",
   "metadata": {
    "papermill": {
     "duration": 0.084795,
     "end_time": "2023-10-26T17:03:50.792896",
     "exception": false,
     "start_time": "2023-10-26T17:03:50.708101",
     "status": "completed"
    },
    "tags": []
   },
   "source": []
  },
  {
   "cell_type": "code",
   "execution_count": 57,
   "id": "1ebeb258",
   "metadata": {
    "execution": {
     "iopub.execute_input": "2023-10-26T17:03:50.959078Z",
     "iopub.status.busy": "2023-10-26T17:03:50.958354Z",
     "iopub.status.idle": "2023-10-26T17:04:20.434948Z",
     "shell.execute_reply": "2023-10-26T17:04:20.432493Z"
    },
    "papermill": {
     "duration": 29.564638,
     "end_time": "2023-10-26T17:04:20.438910",
     "exception": false,
     "start_time": "2023-10-26T17:03:50.874272",
     "status": "completed"
    },
    "tags": []
   },
   "outputs": [
    {
     "name": "stdout",
     "output_type": "stream",
     "text": [
      "['514A (Gotham)', 'A-Bomb', 'Abe Sapien', 'Abin Sur', 'Abomination', 'Abra Kadabra (CW)', 'Absorbing Man (MCU)', 'Absorbing Man', 'Ace Morgan', 'Acidicus', 'Adam Monroe', 'Adam Strange', 'Agent 13', 'Agent Bob', 'Agent Carter', 'Agent Coulson (Destroyer Gun)', 'Agent Zero', 'A.I.M. Agent', 'Air-Walker', 'Ajax (FOX)', 'Ajax', 'Akita', 'Alex Danvers (CW)', 'Alex Mercer', 'Alfred Pennyworth', 'Alita', 'All-father Hercules', 'Allan Quatermain', \"Altaïr Ibn-La'Ahad\", 'Amanda Waller', 'Amazo', 'Ammo', 'Amygdala', 'Anacondrai Serpent', 'Ancalagon', 'Ancient One (MCU)', 'Angel Dust', 'Angel Of Death', 'Angel Salvadore (FOX)', 'Angel Salvadore', 'Angel', 'Animal Man', 'Annihilus', 'Ant-Man', 'Anti-Monitor', 'Anti-Spawn', 'Anti-Venom', 'Apocalypse (FOX)', 'Aquababy', 'Aqualad II', 'Aqualad', 'Aquaman', 'Aracnido Jr.', 'Aragorn', 'Archangel', 'Arclight', 'Arcturus', 'Arkade', 'Arkillo', 'Armor', 'Arnim Zola (MCU)', 'Arsenal (CW)', 'Arsenal', 'Artemis (CW)', 'Arthur Dayne', 'Aspheera', 'Asura', 'Atom (CW)', 'Atom Girl', 'Atom II', 'Atom III', 'Atom IV', 'Atomic Skull', 'Atomica', 'Attuma', 'Aurora', 'Azrael (Gotham)', 'Balder', 'Bane (Dark Knight)', 'Bane (Injustice)', 'Bane', 'Banshee (FOX)', 'Bantam', 'Barb Wire', 'Baron Mordo (MCU)', 'Baron Zemo (MCU)', 'Baron Zemo', 'Batgirl (Injustice)', 'Batgirl IV', 'Batgirl (New 52)', 'Batgirl VI', 'Batgirl', 'Bathound', 'Batman (1966)', 'Batman (Arkham)', 'Batman (Burtonverse)', 'Batman (DC One Million)', 'Batman (DCAU)', 'Batman (GAM)', 'Batman II', 'Batman (Injustice)', 'Batman (LEGO)', 'Batroc The Leaper (MCU)', 'Batwoman V', 'Batwoman', 'Beast Boy (Titans)', 'Beast Boy', 'Beast (FOX)', 'Beetle', 'Bekka', 'Ben 10', 'Beta Ray Bill', 'Beyonder', 'Big Boss', 'Big Daddy', 'Big Man', 'Billy Kincaid', 'Bird-Brain', 'Bird-Man II', 'Bird-Man', 'Bird', 'Bishop', 'Bizarro-Girl', 'Bizarro', 'Black Abbott', 'Black Adam', 'Black Alice', 'Black Bolt (MCU)', 'Black Bolt', 'Black Canary II (CW)', 'Black Canary (Injustice)', 'Black Canary', 'Black Cat (Earth 65)', 'Black Cat (PS4)', 'Black Cat', 'Black Eagle', 'Black Flash', 'Black Hand', 'Black Knight III', 'Black Lightning (CW)', 'Black Mamba', 'Black Manta (DCEU)', 'Black Manta', 'Black Panther (1,000,000 B.C.)', 'Black Siren (CW)', 'Black Spider', 'Blackwing', 'Blackwulf', 'Blade', 'Blight', 'Bling!', 'Blink', 'Blizzard II', 'Blizzard', 'Blob (FOX)', 'Blob', 'Blockbuster', 'Bloodaxe', 'Bloodhawk', 'Bloodwraith', 'Blue Beetle II', 'Blue Beetle III', 'Bomb Queen', 'Boom-Boom', 'Booster Gold', 'Bor Burison', 'Box IV', 'Brickster', 'Brother Voodoo', 'Brundlefly', 'Bryan Mills', 'Buffy', 'Bullseye (MCU)', 'Bullseye (Wild West)', 'Bullseye', 'Bumbleboy', 'Bushido', 'Bushmaster (MCU)', 'Cable (FOX)', 'Caesar', 'Calculator', 'Callisto', 'Cannonball', 'Captain America (EMH)', 'Captain America (Venomized)', 'Captain Atom', 'Captain Boomerang (CW)', 'Captain Boomerang (DCEU)', 'Captain Boomerang', 'Captain Britain', 'Captain Cold (CW)', 'Captain Corbett', 'Captain Metropolis', 'Captain Price', 'Captain Soto', 'Captain Stingaree', 'Captain Universe', 'Castiel', 'Cat', 'Catwoman (Dark Knight)', 'Catwoman (Injustice)', 'Catwoman', 'Cecilia Reyes', 'Century', 'Cerebra', 'Chamber', nan, 'Champion Of The Universe', 'Changeling', 'Cheetah II', 'Cheetah III', 'Cheetah', 'Cheshire', 'Chosen Undead', 'Chroma', 'Citizen Steel', 'Clea', 'Cloak', 'Clock King', 'Cogliostro', 'Cole', 'Colossus (FOX)', 'Colossus', 'Commander Blunck', 'Constantine (CW)', 'Copycat', 'Corsair', 'Corvus Glaive (MCU)', 'Cosmic King Thor', 'Cosmo The Spacedog', 'Cottonmouth', 'Crimson Crusader', 'Crimson Dynamo', 'Crossbones', 'Crystal (MCU)', 'Crystal', 'Cull Obsidian (MCU)', 'Curse', 'Cy-Gor', 'Cyborg Superman (CW)', 'Cyborg Superman', 'Cyborg', 'Cyclops', 'Cyrus Borg', 'Daken', 'Damage Control', 'Damien Darhk (CW)', 'Dante', 'Daredevil (FOX)', 'Dark Archer (CW)', 'Dark Elf Soldier', 'Dark Phoenix (Venomized)', 'Darkhawk', 'Darkman', 'Darkstar', 'Darth Maul', 'Darth Nihilus', 'Darth Nox', 'Darwin (FOX)', 'Dash', 'Dazzler', 'Deadpool', 'Deadshot (CW)', 'Deadshot (Injustice)', 'Deadshot (New 52)', 'Deadshot', 'Death Of The Endless', 'Death Seed Archangel', 'Death Seed Draken', 'Deathstroke (Injustice)', 'Deathstroke', 'Dementor', 'Demogoblin', 'Desaad', 'Destroyer (MCU)', 'Destroyer', 'Destruction Of The Endless', 'Detective Chimp', 'Detroit Steel', 'Devastator', 'Devilman', 'Dilara', 'Doc Samson', nan, 'Doctor Double X', 'Doctor Mid-Nite', 'Doctor Occult', 'Doctor Octopus (Shattered Dimensions)', 'Doctor Octopus (SONY)', 'Doctor Octopus', 'Doctor Poison', 'Doctor Sivana', 'Doctor Strange (Classic)', 'Domino', 'Donna Troy', 'Doom Slayer', 'Doomguy', 'Doomsday (Hunter Prey)', 'Doomsday', 'Doppelganger', 'Dormammu', 'Doubloon', 'Dove II', 'Dove (Titans)', 'Dracula', 'Drax the Destroyer', 'Duela Dent', 'Dum Dum Dugan', 'Ebony Maw (MCU)', 'Echo Zane', 'Ed', 'Egg Fu', 'Ego (MCU)', 'El Diablo (DCEU)', 'El Diablo', 'Electro (SONY)', 'Electro', 'Elektra (Fox)', 'Elektra', 'Elongated Man', 'Emma Frost (FOX)', 'Enchantress (DCEU)', 'Erik Killmonger', 'Ethan Hunt', 'Etrigan', 'Evil Deadpool', 'Evil Nya', 'Evilhawk', 'Exodus', 'Fabian Cortez', 'Faceless Man', 'Falcon', 'Fallen One II', 'Fangtom', 'Fëanor', 'Fenris (MCU)', 'Feral', 'Fin Fang Foom', 'Fire', 'Firefist (FOX)', 'Firestorm II (CW)', 'Firestorm', 'First Spinjitzu Master', 'Flash (CW)', 'Flash III', 'Flash IV', 'Flash Thompson', 'Flash', 'Forge', 'Frank Zhang', 'Franklin Storm', 'Frenzy', 'Frigga', 'Gaara', 'Gambit', 'Gamora', 'Gandalf The White', 'Garmadon (The Lego Ninjago Movie)', 'Gemini V', 'General Cryptor', 'General Kozu', 'General Vex', 'General Zod', 'Ghost (MCU)', 'Ghost Rider 2099', 'Ghost Rider II (MCU)', 'Ghost Rider (King Of Hell)', 'Ghost Rider (SONY)', 'Giant Stone Warrior', 'Giganta', 'Gilotina', 'Gizmo', 'Gladiator', 'Goblin Force', 'Goblin Queen', 'Goku', 'Golden Glider (CW)', \"Golden Master's Mech\", 'Golden Ninja', 'Goliath IV', 'Gorilla Girl', 'Gorilla Grodd (CW)', 'Grand Master Skywalker', 'Granny Goodness', 'Grant Ward (MCU)', 'Gravity', 'Great Evil Beast', 'Greedo', 'Green Arrow (Injustice)', 'Green Arrow', 'Green Goblin II', 'Green Goblin III', 'Green Goblin (SONY)', 'Green Lantern (New 52)', 'Grid', 'Grifter', 'Grim Reaper', 'Groot', 'Gypsy (CW)', 'Gypsy', 'Hammer', 'Hammerhead', 'Harley Keener', 'Harley Quinn (New 52)', 'Harley Quinn', 'Harry Osborn (Raimi Trilogy)', 'Harry Potter', 'Harumi', 'Harvey Bullock', 'Havok (FOX)', 'Havok', 'Hawk (Titans)', 'Hawkeye II', 'Hawkgirl (CW)', 'Hawkgirl', 'Hawkwoman III', 'Heart Of The Monster Hulk', 'Hearthstone', 'Heat Wave (CW)', 'Heat Wave', 'Heavy Metal', 'Heimdall (MCU)', 'Hela', 'Hellboy', 'Hellfire (MCU)', 'Hellstorm', 'Hepzibah', 'Hit-Girl', 'Hit-Monkey', 'Hive (MCU)', 'Homelander', 'Honey Badger', 'Hourman', 'Hugo Strange', 'Hulk (2003)', 'Hulk 2099', 'Hulk', 'Hulkling', 'Huntress (CW)', 'Huntress (Injustice)', 'Husk', 'Hybrid', 'Hydro-Man', 'Iceman', 'Icon', 'Immortal Hulk', 'Imperiex', 'Impossible Man', 'Incubus (DCEU)', 'Indiana Jones', 'Indigo', 'Infinity Man', 'Ink', 'Iron Baron', 'Iron Destroyer', 'Iron Fist (MCU)', 'Iron Fist', 'Iron Man (Thorbuster)', 'Iron Man (Wild West)', 'Iron Man', 'Iron Monger (MCU)', 'Iron Monger', 'IT', 'Itachi Uchiha', 'J. Jonah Jameson', 'Jack Sparrow', 'Jaime Lannister', 'James T. Kirk', 'Jane Foster (MCU)', 'Jay (The LEGO Ninjago Movie)', 'Jean Grey', 'Jemma Simmons (MCU)', 'Jennifer Kale', 'Jerome Valeska', 'Jessica Jones', 'Jestro', 'Jigsaw (MCU)', 'Johann Krauss', 'John Constantine (Power Of Shazam)', 'John Constantine', 'John Pilgrim (MCU)', 'John Wraith', 'Johnny Quick', 'Joker (Gotham)', 'Joker', 'Jolt', 'Jor-El', 'Jubilee', 'Juggernaut (FOX)', 'Juggernaut', 'Junkpile', 'Justice', 'Justin Hammer', 'Jyn Erso', 'K-2SO', 'Kaecilius (MCU)', 'Kaguya Ōtsutsuki', 'Kale', 'Kang', 'Karnak (MCU)', 'Karnak', 'Katana (DCEU)', 'Katana', 'Kenshiro', 'Kevin 11', 'KGBeast', 'Kid Flash II', 'Kilgrave (MCU)', 'Killer Bee', 'Killer Croc (DCEU)', 'Killer Croc', 'Killer Frost (CW)', 'Killer Frost', 'Killian (MCU)', 'Killmonger (MCU)', 'King Shark', 'King Thanos', 'Kingpin (MCU)', 'Kingpin', 'Klaw (MCU)', 'Klaw', 'Knockout', 'Koko (The LEGO Ninjago Movie)', 'Korg (MCU)', 'Kraglin (MCU)', 'Kratos', 'Kraven II', 'Kraven the Hunter', 'Kronos', 'Kruncha', 'Krypto', 'Kurse (MCU)', 'Kylo Ren', 'Lady Blackhawk', 'Lady Bullseye', 'Lady Deadpool', 'Lady Deathstrike', 'Lance Hunter (MCU)', 'Lar Gand', 'Lashina', 'Laufey (MCU)', 'Laufey', 'Lauren Strucker (Fox)', 'Leech', 'Legion', 'Leo Fitz (MCU)', 'Leo Valdez', 'Lex Luthor (DCEU)', 'Lex Luthor', 'Life Entity', 'Lightning Lad', 'Lightning Lord', 'Link', 'Little Krishna', 'Livewire (CW)', 'Livewire', 'Living Brain', 'Living Totem', 'Living Tribunal', 'Liz Sherman', 'Lizard', 'Lloyd (The LEGO Ninjago Movie)', 'Lloyd', 'Lobo', 'Lodestone', 'Longshot', 'Lord Garmadon', 'Lord Of Cinder', 'Lord Voldemort', 'Lucifer (FOX)', 'Luke Cage', 'Luke Campbell', 'Luke Skywalker', 'Lyja', 'M', 'Mach-IV', 'Machine Man', 'Madara Uchiha', 'Maestro Hulk', 'Magneto', 'Magus', 'Malekith (MCU)', 'Malekith', 'Man-Bat', 'Man-Thing', 'Man-Wolf', 'Mandarin', 'Mantis (MCU)', 'Marrow', 'Martian Manhunter', 'Marvel Girl', 'Master Brood', 'Master Chen', 'Master Chief', 'Match', 'Matt Parkman', 'Maui', 'Maverick', 'Maxima', 'Maximus (MCU)', \"M'baku (MCU)\", 'Medusa (MCU)', 'Meltdown', 'Mephisto', 'Mera', 'Metallo', 'Metamorpho', 'Metron', 'Michael Demiurgos', 'Micro Lad', 'Mimic', 'Minato Namikaze', 'Minna Murray', 'Mirror Master (CW)', 'Misfit', 'Miss Martian', 'Mistake', 'Mister Freeze', 'Mister Mxyzptlk', 'Mister Sinister', 'Misty Knight (MCU)', 'Misty Knight', 'Mockingbird', 'MODOK', 'Mogo', 'Mohinder Suresh', 'Moloch', 'Molten Man', 'Monarch', 'Mongul The Elder', 'Monstrox', 'Moon Knight', 'Morlun', 'Morph', 'Morro', 'Moses Magnum', 'Mr.Krabs', 'Ms. America', 'Ms Marvel II', 'Multiple Man', 'Mysterio', 'Mystique (FOX)', 'Nadakhan', 'Nagato Uzumaki', 'Namor', 'Namorita', 'Nathan Petrelli', 'Nebula (MCU)', 'Negasonic Teenage Warhead', 'Nekron', 'Nergal', 'Neron', 'Nick Fury (MCU)', 'Nick Fury', 'Nightcrawler (FOX)', 'Nightcrawler', 'Nighthawk', 'Nightwing (Arkham)', 'Nightwing (New 52)', 'Niki Sanders', 'Nobu (MCU)', 'Nomad (MCU)', 'Nora Darhk (CW)', 'Northstar', 'Nuckal', 'Nya (The LEGO Ninjago Movie)', 'Nya (Water Ninja)', 'Obito Uchiha', 'Ocean Master (DCEU)', 'Offspring', 'Old King Thor', 'Old Man Logan (FOX)', 'Omega Red', 'Omega', 'Omni-Man', 'One Punch Man', 'Onslaught', 'Oracle', 'Orochimaru', 'Overtkill', 'Owlman', 'Parademon', 'Parasite (CW)', 'Parasite', 'Paul Blart', 'Penance II', 'Penguin', 'Penny', 'Percy Jackson (FOX)', 'Percy Jackson', 'Peter Petrelli', 'Phantom Rider', 'Pied Piper (CW)', 'Pinhead', 'Piper McLean', 'P.I.X.A.L.', 'Plantman', 'Plastic Man', 'Plastique', 'Poison Ivy (Arkham)', 'Poison Ivy (New 52)', 'Poison Ivy', 'Polaris (Fox)', 'Polaris', 'Power Girl', 'Power Ring', 'Predator', 'Preeminent', 'Professor Dumbledore', 'Professor Severus Snape', 'Professor X', 'Professor Zoom', 'Prometheus (CW)', 'Proto-Goblin', 'Proxima Midnight (MCU)', 'Psimon', 'Psylocke', 'Punisher', 'Purple Man', 'Pyro', 'Pythor', 'Quake (MCU)', 'Quake', 'Queen Hippolyta', 'Question', 'Qui-Gon Jinn', 'Quicksilver', 'Quill', 'Rachel Pirzad', 'Ragnarok', 'Raiden', 'Rainbow Rider', 'Rambo', \"Ra's Al Ghul (CW)\", \"Ra's Al Ghul (Dark Knight)\", \"Ra's Al Ghul\", 'Raven (Titans)', 'Rawhide Kid', 'Ray', 'Razor-Fist II', 'Reactron', 'Red Arrow', 'Red Death', 'Red Hood (New 52)', 'Red Hulk (Ghost Rider) (Venom)', 'Red Hulk', 'Red Robin', 'Red Skull (MCU)', 'Red Skull', 'Red Sonja', 'Red Tornado (CW)', 'Red Wolf', 'Redeemer II', 'Redeemer III', 'Resurrection Spawn', 'Reverse Flash (CW)', 'Reverse Flash (New 52)', 'Rey', 'Rhino', 'Rick Flag', 'Riddler', 'Riot (SONY)', 'Rip Hunter', 'Ripcord', 'Robin II', 'Robin III (Arkham)', 'Robin III', 'Robin (Titans)', 'Robin V', 'Robin', 'Robocop', 'Robotman', 'Rocket Raccoon (MCU)', 'Rocket Raccoon', 'Rogue', 'Ronan The Accuser (MCU)', 'Ronin (MCU)', 'Ronin (Ninjago)', 'Ronin', 'Rorschach', 'Ruby Thursday', 'Sabretooth', 'Sage', 'Saint Of Killers', 'Samukai', 'Samurai Mech(Stone Army)', 'Sandman (SONY)', 'Sasquatch', 'Savage Dragon', 'Scarlet Spider II', 'Scorpia', 'Screaming Mimi', 'Sea King', 'Sebastian Shaw (FOX)', 'Sensei Garmadon', 'Sensei Yang', 'Sentry', 'Shades (MCU)', 'Shadow King', 'Shadow Lass', 'Shadow The Hedgehog (Pre-Wave)', 'Shadowcat', 'Shang-Chi', 'Shao Kahn', 'Shatterstar', 'Shazam', 'Shin Godzilla', 'Shisui Uchiha', 'Shocker', 'Shriek', 'Shuri (MCU)', 'Silk Spectre II', 'Silk Spectre', 'Silk', 'Silver Banshee (CW)', 'Silver Banshee', 'Silver Samurai (FOX)', 'Silver Surfer', 'Silverclaw', 'Sinestro', 'Siren II', 'Sirius Black', 'Siryn', 'Skales Jr', 'Skales', 'Skalidor', 'Skeletor', 'Skids', 'Slenderman', 'Snowbird', 'Solid Snake', 'Solomon Grundy', 'Solomon Kane', 'Solovar', 'Songbird', 'Sonic The Hedgehog', 'Soundwave', 'Space Ghost', 'Spartan', 'Spawn', 'Spectre Oversoul', 'Speedball', 'Speedy', 'Spider-Gwen', 'Spider-Man (Black) (Raimi)', 'Spider-Man Noir', 'Spider-Man (Raimi Trilogy)', 'Spider-Woman IV', 'Spider-Woman', 'Spike', 'Splice', 'Spock', 'Sportsmaster', 'Spyke', 'Star-Lord (Celestial Power MCU)', 'Star-Lord', 'Stardust', 'Starfire', 'Starling', 'Static', 'Steel (1997)', 'Steel Serpent (MCU)', 'Steel Serpent', 'Steel', 'Steppenwolf', 'Steve Trevor', 'Stevie Hunter', 'Stick (MCU)', 'Storm', 'Strange Visitor Superman', 'Sunspot', 'Super Adaptoid', 'Super Greg', 'Superboy-Prime', 'Supergirl', 'Superman (Post-Crisis)', 'Swamp Thing (New 52)', 'Swamp Thing', 'Swarm', 'Symbiote Wolverine', 'Synch', 'T-800', 'T-850', 'Talia Al Ghul (CW)', 'Taserface', 'Taskmaster', 'Tempest', 'Thanos', 'The Beyonder (Earth-1298)', 'The Comedian', 'The Crow', 'The Executioner (MCU)', 'The False Mandarin', 'The Flash (CW)', 'The Flash', 'The Golden Master', 'The Goon', 'The Great Devourer', 'The Green Hornet', 'The Keeper', 'The Lizard (SONY)', 'The Lobster', 'The Lord Of Light', 'The One Below All', 'The Overlord (Garmadon)', 'The Overlord', 'The Punisher (War Zone)', 'The Question', 'The Rhino (SONY)', 'The Rival (CW)', 'The Rumor', 'The Scarecrow (Gotham)', 'The Shocker (MCU)', 'The Thing (FOX)', 'The Thinker (CW)', 'The Upgrade', 'The Wasp', 'Thinker', 'Thor Girl', 'Thor (Odin Force)', 'Thunderstrike', 'Tigra', 'Tinkerer', 'Titan', 'Toad (FOX)', 'Toad', 'Tobias Church (CW)', 'Tobias Whale (CW)', 'Tobirama Senju', 'Tom Corsi', 'Toxin', 'Tracy Strauss', 'Trickster (CW)', 'Trickster II', 'Trickster', 'Trigon', 'Triplicate Girl', 'Triton', 'True Form Oblivion', 'Two-Face', 'Typhoid Mary (MCU)', 'Typhoid Mary', 'Uatu the Guardian', 'Ultimo', 'Ultragirl', 'Ultron (Final Form)', 'Unicron', 'Union Jack', 'V', 'Valerie Cooper', 'Valerie Hart', 'Valkyrie (MCU)', 'Valkyrie', 'Vampire Batman', 'Vanisher', 'Vegeta', 'Venom 2099', 'Venom II', 'Venom III', 'Venom', 'Venompool', 'Ventriloquist', 'Vergil', 'Vibe', 'Vicki Vale', 'Vigilante (CW)', 'Vili', 'Violator', 'Violet Parr', 'Vision', 'Vixen (CW)', 'Vixen', 'Vulture', 'Walrus', 'War Machine II', 'War Machine', 'Warlock', 'Warp', 'Warpath', 'Watcher', 'Weapon Hex', 'Weather Wizard (CW)', 'Wendigo', 'Wesker', 'White Canary', 'White Rabbit', 'White Wolf (MCU)', 'Wild Dog', 'William Stryker (FOX)', 'Winter Soldier', 'Witch King', 'Wolfsbane', 'Wolverine (EMH)', 'Wolverine', 'Wonder Girl (Titans)', 'Wonder Man', 'Wonder Woman (GAM)', 'Wonder Woman', 'Wong (MCU)', 'Wong', 'World Breaker Hulk', 'Wotan', 'Wu', 'X-23', 'X-Man', 'Yang', 'Yellow Claw', 'Yellowjacket II', 'Yellowjacket III', 'YellowJacket (MCU)', 'Yellowjacket', 'Yo-yo (MCU)', 'Yondu (MCU)', 'Yukio (FOX)', 'Yukio', 'Zatanna', 'Zero', 'Zoom', 'Zzzax']\n"
     ]
    }
   ],
   "source": [
    "# Apply sentiment analysis and filtering to the 'history_text' column\n",
    "data['has_negative_past'] = data['history_text'].apply(filter_negative_superheroes)\n",
    "\n",
    "# Filter superheroes with negative pasts\n",
    "superheroes_with_negative_past = data[data['has_negative_past']]\n",
    "\n",
    "# List of superheroes with negative pasts\n",
    "superheroes_with_negative_past_names = superheroes_with_negative_past['name'].tolist()\n",
    "\n",
    "# Print the list of superheroes with negative pasts\n",
    "print(superheroes_with_negative_past_names)"
   ]
  },
  {
   "cell_type": "markdown",
   "id": "dc557eab",
   "metadata": {
    "papermill": {
     "duration": 0.107456,
     "end_time": "2023-10-26T17:04:20.631845",
     "exception": false,
     "start_time": "2023-10-26T17:04:20.524389",
     "status": "completed"
    },
    "tags": []
   },
   "source": [
    "## Q8. Report on the 10 superheroes with most relatives, status of those relatives where possible, and the alignment of those superheroes."
   ]
  },
  {
   "cell_type": "code",
   "execution_count": 58,
   "id": "db73701b",
   "metadata": {
    "execution": {
     "iopub.execute_input": "2023-10-26T17:04:20.806643Z",
     "iopub.status.busy": "2023-10-26T17:04:20.806090Z",
     "iopub.status.idle": "2023-10-26T17:04:20.815545Z",
     "shell.execute_reply": "2023-10-26T17:04:20.813726Z"
    },
    "papermill": {
     "duration": 0.100386,
     "end_time": "2023-10-26T17:04:20.818833",
     "exception": false,
     "start_time": "2023-10-26T17:04:20.718447",
     "status": "completed"
    },
    "tags": []
   },
   "outputs": [],
   "source": [
    "data['relatives'] = data['relatives'].fillna('')"
   ]
  },
  {
   "cell_type": "code",
   "execution_count": 59,
   "id": "d278f0fc",
   "metadata": {
    "execution": {
     "iopub.execute_input": "2023-10-26T17:04:20.988197Z",
     "iopub.status.busy": "2023-10-26T17:04:20.987626Z",
     "iopub.status.idle": "2023-10-26T17:04:21.022423Z",
     "shell.execute_reply": "2023-10-26T17:04:21.021028Z"
    },
    "papermill": {
     "duration": 0.122656,
     "end_time": "2023-10-26T17:04:21.025603",
     "exception": false,
     "start_time": "2023-10-26T17:04:20.902947",
     "status": "completed"
    },
    "tags": []
   },
   "outputs": [],
   "source": [
    "import re\n",
    "def count_relatives(relatives_string):\n",
    "    # Split the string by ',' and ';', then count the elements\n",
    "    relatives_list = re.split(r',|;', relatives_string)\n",
    "    # Filter out empty strings and return the count\n",
    "    return len([relative.strip() for relative in relatives_list if relative.strip()])\n",
    "\n",
    "# Apply the function to the 'relatives' column and create a new column 'num_relatives'\n",
    "data['num_relatives'] = data['relatives'].apply(count_relatives)\n",
    "\n",
    "# Get the top 10 superheroes with the most relatives\n",
    "top_10_superheroes = data.nlargest(10, 'num_relatives')"
   ]
  },
  {
   "cell_type": "code",
   "execution_count": 60,
   "id": "ef6fdc1c",
   "metadata": {
    "execution": {
     "iopub.execute_input": "2023-10-26T17:04:21.199942Z",
     "iopub.status.busy": "2023-10-26T17:04:21.199360Z",
     "iopub.status.idle": "2023-10-26T17:04:21.215760Z",
     "shell.execute_reply": "2023-10-26T17:04:21.214608Z"
    },
    "papermill": {
     "duration": 0.109169,
     "end_time": "2023-10-26T17:04:21.219462",
     "exception": false,
     "start_time": "2023-10-26T17:04:21.110293",
     "status": "completed"
    },
    "tags": []
   },
   "outputs": [
    {
     "data": {
      "text/html": [
       "<div>\n",
       "<style scoped>\n",
       "    .dataframe tbody tr th:only-of-type {\n",
       "        vertical-align: middle;\n",
       "    }\n",
       "\n",
       "    .dataframe tbody tr th {\n",
       "        vertical-align: top;\n",
       "    }\n",
       "\n",
       "    .dataframe thead th {\n",
       "        text-align: right;\n",
       "    }\n",
       "</style>\n",
       "<table border=\"1\" class=\"dataframe\">\n",
       "  <thead>\n",
       "    <tr style=\"text-align: right;\">\n",
       "      <th></th>\n",
       "      <th>index</th>\n",
       "      <th>name</th>\n",
       "      <th>relatives</th>\n",
       "    </tr>\n",
       "  </thead>\n",
       "  <tbody>\n",
       "    <tr>\n",
       "      <th>0</th>\n",
       "      <td>936</td>\n",
       "      <td>Namor</td>\n",
       "      <td>Elanna (maternal ancestor), Tanas (maternal an...</td>\n",
       "    </tr>\n",
       "    <tr>\n",
       "      <th>1</th>\n",
       "      <td>574</td>\n",
       "      <td>Havok</td>\n",
       "      <td>Oscar Summers (adoptive paternal distant ances...</td>\n",
       "    </tr>\n",
       "    <tr>\n",
       "      <th>2</th>\n",
       "      <td>75</td>\n",
       "      <td>Aquaman</td>\n",
       "      <td>Koryak (son), Arthur Curry, Jr. (son), A.J. (s...</td>\n",
       "    </tr>\n",
       "    <tr>\n",
       "      <th>3</th>\n",
       "      <td>1100</td>\n",
       "      <td>Robin V</td>\n",
       "      <td>Talia al Ghul (mother),\\nBruce Wayne (Batman, ...</td>\n",
       "    </tr>\n",
       "    <tr>\n",
       "      <th>4</th>\n",
       "      <td>121</td>\n",
       "      <td>Baron Zemo</td>\n",
       "      <td>Harbin Zemo (distant ancestor, deceased);\\nHad...</td>\n",
       "    </tr>\n",
       "    <tr>\n",
       "      <th>5</th>\n",
       "      <td>340</td>\n",
       "      <td>Cyclops</td>\n",
       "      <td>Oscar Summers (adoptive paternal distant ances...</td>\n",
       "    </tr>\n",
       "    <tr>\n",
       "      <th>6</th>\n",
       "      <td>515</td>\n",
       "      <td>Ghost Rider (King Of Hell)</td>\n",
       "      <td>Illyana Kale (maternal ancestor, deceased); De...</td>\n",
       "    </tr>\n",
       "    <tr>\n",
       "      <th>7</th>\n",
       "      <td>1251</td>\n",
       "      <td>Supergirl</td>\n",
       "      <td>Zor-El (father), Allura In-Ze (mother), Jor-El...</td>\n",
       "    </tr>\n",
       "    <tr>\n",
       "      <th>8</th>\n",
       "      <td>312</td>\n",
       "      <td>Colossus</td>\n",
       "      <td>Grigory Efimovich Rasputin (great-grandfather,...</td>\n",
       "    </tr>\n",
       "    <tr>\n",
       "      <th>9</th>\n",
       "      <td>1328</td>\n",
       "      <td>Toxin</td>\n",
       "      <td>Carl Brock (father, estranged), Janine Brock (...</td>\n",
       "    </tr>\n",
       "  </tbody>\n",
       "</table>\n",
       "</div>"
      ],
      "text/plain": [
       "   index                        name  \\\n",
       "0    936                       Namor   \n",
       "1    574                       Havok   \n",
       "2     75                     Aquaman   \n",
       "3   1100                     Robin V   \n",
       "4    121                  Baron Zemo   \n",
       "5    340                     Cyclops   \n",
       "6    515  Ghost Rider (King Of Hell)   \n",
       "7   1251                   Supergirl   \n",
       "8    312                    Colossus   \n",
       "9   1328                       Toxin   \n",
       "\n",
       "                                           relatives  \n",
       "0  Elanna (maternal ancestor), Tanas (maternal an...  \n",
       "1  Oscar Summers (adoptive paternal distant ances...  \n",
       "2  Koryak (son), Arthur Curry, Jr. (son), A.J. (s...  \n",
       "3  Talia al Ghul (mother),\\nBruce Wayne (Batman, ...  \n",
       "4  Harbin Zemo (distant ancestor, deceased);\\nHad...  \n",
       "5  Oscar Summers (adoptive paternal distant ances...  \n",
       "6  Illyana Kale (maternal ancestor, deceased); De...  \n",
       "7  Zor-El (father), Allura In-Ze (mother), Jor-El...  \n",
       "8  Grigory Efimovich Rasputin (great-grandfather,...  \n",
       "9  Carl Brock (father, estranged), Janine Brock (...  "
      ]
     },
     "execution_count": 60,
     "metadata": {},
     "output_type": "execute_result"
    }
   ],
   "source": [
    "top_10_superheroes[['name', 'relatives']].reset_index()"
   ]
  },
  {
   "cell_type": "markdown",
   "id": "0dea691d",
   "metadata": {
    "papermill": {
     "duration": 0.08576,
     "end_time": "2023-10-26T17:04:21.390003",
     "exception": false,
     "start_time": "2023-10-26T17:04:21.304243",
     "status": "completed"
    },
    "tags": []
   },
   "source": [
    "## Q9. Find out any other interesting insights from given data"
   ]
  },
  {
   "cell_type": "markdown",
   "id": "d5e1eab0",
   "metadata": {
    "papermill": {
     "duration": 0.190789,
     "end_time": "2023-10-26T17:04:21.665300",
     "exception": false,
     "start_time": "2023-10-26T17:04:21.474511",
     "status": "completed"
    },
    "tags": []
   },
   "source": [
    "**Ans- There could be many insigts we can find out from the dataset. We have one column i.e Alignment columns we can try to find out most powerfull Superhero with Good Allignment**"
   ]
  },
  {
   "cell_type": "code",
   "execution_count": 61,
   "id": "62261fd1",
   "metadata": {
    "execution": {
     "iopub.execute_input": "2023-10-26T17:04:21.835272Z",
     "iopub.status.busy": "2023-10-26T17:04:21.834793Z",
     "iopub.status.idle": "2023-10-26T17:04:21.843845Z",
     "shell.execute_reply": "2023-10-26T17:04:21.842401Z"
    },
    "papermill": {
     "duration": 0.097251,
     "end_time": "2023-10-26T17:04:21.846811",
     "exception": false,
     "start_time": "2023-10-26T17:04:21.749560",
     "status": "completed"
    },
    "tags": []
   },
   "outputs": [],
   "source": [
    "data['total_score'] = data['intelligence_score'] + data['strength_score'] + data['speed_score'] + data['durability_score'] + data['power_score']+data['combat_score']"
   ]
  },
  {
   "cell_type": "code",
   "execution_count": 62,
   "id": "153fa66f",
   "metadata": {
    "execution": {
     "iopub.execute_input": "2023-10-26T17:04:22.027736Z",
     "iopub.status.busy": "2023-10-26T17:04:22.027268Z",
     "iopub.status.idle": "2023-10-26T17:04:27.562940Z",
     "shell.execute_reply": "2023-10-26T17:04:27.557436Z"
    },
    "papermill": {
     "duration": 5.633377,
     "end_time": "2023-10-26T17:04:27.566208",
     "exception": false,
     "start_time": "2023-10-26T17:04:21.932831",
     "status": "completed"
    },
    "tags": []
   },
   "outputs": [
    {
     "name": "stderr",
     "output_type": "stream",
     "text": [
      "/opt/conda/lib/python3.10/site-packages/seaborn/categorical.py:3544: UserWarning:\n",
      "\n",
      "60.2% of the points cannot be placed; you may want to decrease the size of the markers or use stripplot.\n",
      "\n",
      "/opt/conda/lib/python3.10/site-packages/seaborn/categorical.py:3544: UserWarning:\n",
      "\n",
      "48.0% of the points cannot be placed; you may want to decrease the size of the markers or use stripplot.\n",
      "\n",
      "/opt/conda/lib/python3.10/site-packages/seaborn/categorical.py:3544: UserWarning:\n",
      "\n",
      "6.2% of the points cannot be placed; you may want to decrease the size of the markers or use stripplot.\n",
      "\n",
      "/opt/conda/lib/python3.10/site-packages/seaborn/categorical.py:3544: UserWarning:\n",
      "\n",
      "33.3% of the points cannot be placed; you may want to decrease the size of the markers or use stripplot.\n",
      "\n",
      "/opt/conda/lib/python3.10/site-packages/seaborn/categorical.py:3544: UserWarning:\n",
      "\n",
      "59.5% of the points cannot be placed; you may want to decrease the size of the markers or use stripplot.\n",
      "\n",
      "/opt/conda/lib/python3.10/site-packages/seaborn/categorical.py:3544: UserWarning:\n",
      "\n",
      "46.9% of the points cannot be placed; you may want to decrease the size of the markers or use stripplot.\n",
      "\n",
      "/opt/conda/lib/python3.10/site-packages/seaborn/categorical.py:3544: UserWarning:\n",
      "\n",
      "16.7% of the points cannot be placed; you may want to decrease the size of the markers or use stripplot.\n",
      "\n"
     ]
    },
    {
     "data": {
      "image/png": "[encoded data removed]",
      "text/plain": [
       "<Figure size 2000x1000 with 1 Axes>"
      ]
     },
     "metadata": {},
     "output_type": "display_data"
    }
   ],
   "source": [
    "plt.style.use('ggplot') # Using ggplot2 style visuals\n",
    "\n",
    "fig, ax = plt.subplots()\n",
    "\n",
    "fig.set_size_inches(20, 10)\n",
    "\n",
    "sns.set_context(\"paper\", font_scale=1.5)\n",
    "f=sns.swarmplot(x=data[\"creator\"], y=data['total_score'],hue=data[\"alignment\"],data=data)\n",
    "f.set_xlabel(\"Comics\",fontsize=18)\n",
    "f.set_ylabel(\"Total Power Score\",fontsize=18)\n",
    "f.set_title('Distirbution of Good/Bad Superheroes, their creators and their Superpower Score')\n",
    "for item in f.get_xticklabels():\n",
    "    item.set_rotation(90)"
   ]
  },
  {
   "cell_type": "code",
   "execution_count": 63,
   "id": "ce537768",
   "metadata": {
    "execution": {
     "iopub.execute_input": "2023-10-26T17:04:27.749619Z",
     "iopub.status.busy": "2023-10-26T17:04:27.749153Z",
     "iopub.status.idle": "2023-10-26T17:04:27.788292Z",
     "shell.execute_reply": "2023-10-26T17:04:27.786884Z"
    },
    "papermill": {
     "duration": 0.134695,
     "end_time": "2023-10-26T17:04:27.791497",
     "exception": false,
     "start_time": "2023-10-26T17:04:27.656802",
     "status": "completed"
    },
    "tags": []
   },
   "outputs": [
    {
     "data": {
      "text/html": [
       "<div>\n",
       "<style scoped>\n",
       "    .dataframe tbody tr th:only-of-type {\n",
       "        vertical-align: middle;\n",
       "    }\n",
       "\n",
       "    .dataframe tbody tr th {\n",
       "        vertical-align: top;\n",
       "    }\n",
       "\n",
       "    .dataframe thead th {\n",
       "        text-align: right;\n",
       "    }\n",
       "</style>\n",
       "<table border=\"1\" class=\"dataframe\">\n",
       "  <thead>\n",
       "    <tr style=\"text-align: right;\">\n",
       "      <th></th>\n",
       "      <th>name</th>\n",
       "      <th>real_name</th>\n",
       "      <th>full_name</th>\n",
       "      <th>overall_score</th>\n",
       "      <th>history_text</th>\n",
       "      <th>powers_text</th>\n",
       "      <th>intelligence_score</th>\n",
       "      <th>strength_score</th>\n",
       "      <th>speed_score</th>\n",
       "      <th>durability_score</th>\n",
       "      <th>...</th>\n",
       "      <th>has_reflexes</th>\n",
       "      <th>has_super_speed</th>\n",
       "      <th>has_durability</th>\n",
       "      <th>has_stamina</th>\n",
       "      <th>has_agility</th>\n",
       "      <th>has_super_strength</th>\n",
       "      <th>total_superpowers</th>\n",
       "      <th>has_negative_past</th>\n",
       "      <th>num_relatives</th>\n",
       "      <th>total_score</th>\n",
       "    </tr>\n",
       "  </thead>\n",
       "  <tbody>\n",
       "    <tr>\n",
       "      <th>174</th>\n",
       "      <td>Black Alice</td>\n",
       "      <td>Lori Zechlin</td>\n",
       "      <td>Lori Zechlin</td>\n",
       "      <td>∞</td>\n",
       "      <td>A teenage girl with an interest in magick, Lor...</td>\n",
       "      <td>Black Alice has the ability to temporarily usu...</td>\n",
       "      <td>95</td>\n",
       "      <td>100</td>\n",
       "      <td>100</td>\n",
       "      <td>85</td>\n",
       "      <td>...</td>\n",
       "      <td>1.0</td>\n",
       "      <td>1.0</td>\n",
       "      <td>0.0</td>\n",
       "      <td>0.0</td>\n",
       "      <td>1.0</td>\n",
       "      <td>1.0</td>\n",
       "      <td>42.0</td>\n",
       "      <td>True</td>\n",
       "      <td>2</td>\n",
       "      <td>565</td>\n",
       "    </tr>\n",
       "  </tbody>\n",
       "</table>\n",
       "<p>1 rows × 85 columns</p>\n",
       "</div>"
      ],
      "text/plain": [
       "            name     real_name     full_name overall_score  \\\n",
       "174  Black Alice  Lori Zechlin  Lori Zechlin             ∞   \n",
       "\n",
       "                                          history_text  \\\n",
       "174  A teenage girl with an interest in magick, Lor...   \n",
       "\n",
       "                                           powers_text  intelligence_score  \\\n",
       "174  Black Alice has the ability to temporarily usu...                  95   \n",
       "\n",
       "     strength_score  speed_score  durability_score  ...  has_reflexes  \\\n",
       "174             100          100                85  ...           1.0   \n",
       "\n",
       "     has_super_speed has_durability has_stamina has_agility  \\\n",
       "174              1.0            0.0         0.0         1.0   \n",
       "\n",
       "    has_super_strength total_superpowers has_negative_past num_relatives  \\\n",
       "174                1.0              42.0              True             2   \n",
       "\n",
       "    total_score  \n",
       "174         565  \n",
       "\n",
       "[1 rows x 85 columns]"
      ]
     },
     "execution_count": 63,
     "metadata": {},
     "output_type": "execute_result"
    }
   ],
   "source": [
    "data_good = data.sort_values(['overall_score', 'total_superpowers'], ascending=[False, False])\n",
    "data_good.loc[data_good['alignment'] == 'Good'].head(1)"
   ]
  },
  {
   "cell_type": "markdown",
   "id": "3f473e6c",
   "metadata": {
    "papermill": {
     "duration": 0.090614,
     "end_time": "2023-10-26T17:04:27.970746",
     "exception": false,
     "start_time": "2023-10-26T17:04:27.880132",
     "status": "completed"
    },
    "tags": []
   },
   "source": [
    "### **Black Alice** is the strongest Good Superhero."
   ]
  },
  {
   "cell_type": "markdown",
   "id": "042996d7",
   "metadata": {
    "papermill": {
     "duration": 0.088939,
     "end_time": "2023-10-26T17:04:28.155278",
     "exception": false,
     "start_time": "2023-10-26T17:04:28.066339",
     "status": "completed"
    },
    "tags": []
   },
   "source": [
    "## Q9. Which 3 comic characters can you recommend to your friends to read or watch?"
   ]
  },
  {
   "cell_type": "code",
   "execution_count": 64,
   "id": "c90eff98",
   "metadata": {
    "execution": {
     "iopub.execute_input": "2023-10-26T17:04:28.336783Z",
     "iopub.status.busy": "2023-10-26T17:04:28.336286Z",
     "iopub.status.idle": "2023-10-26T17:04:28.353494Z",
     "shell.execute_reply": "2023-10-26T17:04:28.351801Z"
    },
    "papermill": {
     "duration": 0.111734,
     "end_time": "2023-10-26T17:04:28.356899",
     "exception": false,
     "start_time": "2023-10-26T17:04:28.245165",
     "status": "completed"
    },
    "tags": []
   },
   "outputs": [
    {
     "name": "stdout",
     "output_type": "stream",
     "text": [
      "Top 3 Comic Characters to Recommend:\n",
      "Devilman (Creator: Shueisha, Overall Score: 229.0)\n",
      "Golden Ninja (Creator: Lego, Overall Score: 226.0)\n",
      "Aztar (Creator: DC Comics, Overall Score: 222.0)\n"
     ]
    }
   ],
   "source": [
    "# Filter characters with positive alignment and high overall scores\n",
    "recommended_characters = data[(data['alignment'] == 'Good') \n",
    "                              & (data['overall_score'] != '∞')\n",
    "                              & (data['overall_score'] != '-')]\n",
    "recommended_characters['overall_score'] = recommended_characters['overall_score'].astype(float)\n",
    "\n",
    "# Sort characters by overall score in descending order and select the top 3\n",
    "top_characters = recommended_characters.sort_values(by='overall_score', ascending=False).head(3)\n",
    "\n",
    "# Print the recommended characters\n",
    "print(\"Top 3 Comic Characters to Recommend:\")\n",
    "for index, character in top_characters.iterrows():\n",
    "    print(f\"{character['name']} (Creator: {character['creator']}, Overall Score: {character['overall_score']})\")\n"
   ]
  },
  {
   "cell_type": "markdown",
   "id": "465ee8be",
   "metadata": {
    "papermill": {
     "duration": 0.088851,
     "end_time": "2023-10-26T17:04:28.535579",
     "exception": false,
     "start_time": "2023-10-26T17:04:28.446728",
     "status": "completed"
    },
    "tags": []
   },
   "source": [
    "## Below will be the 3 Reccommended Comics\n",
    "**Devilman (Creator: Shueisha, Overall Score: 229.0)**\n",
    "\n",
    "**Golden Ninja (Creator: Lego, Overall Score: 226.0)**\n",
    "\n",
    "**Aztar (Creator: DC Comics, Overall Score: 222.0)**\n"
   ]
  },
  {
   "cell_type": "code",
   "execution_count": null,
   "id": "3fa75305",
   "metadata": {
    "papermill": {
     "duration": 0.0881,
     "end_time": "2023-10-26T17:04:28.714542",
     "exception": false,
     "start_time": "2023-10-26T17:04:28.626442",
     "status": "completed"
    },
    "tags": []
   },
   "outputs": [],
   "source": []
  }
 ],
 "metadata": {
  "kernelspec": {
   "display_name": "Python 3",
   "language": "python",
   "name": "python3"
  },
  "language_info": {
   "codemirror_mode": {
    "name": "ipython",
    "version": 3
   },
   "file_extension": ".py",
   "mimetype": "text/x-python",
   "name": "python",
   "nbconvert_exporter": "python",
   "pygments_lexer": "ipython3",
   "version": "3.10.12"
  },
  "papermill": {
   "default_parameters": {},
   "duration": 118.094094,
   "end_time": "2023-10-26T17:04:30.034442",
   "environment_variables": {},
   "exception": null,
   "input_path": "__notebook__.ipynb",
   "output_path": "__notebook__.ipynb",
   "parameters": {},
   "start_time": "2023-10-26T17:02:31.940348",
   "version": "2.4.0"
  }
 },
 "nbformat": 4,
 "nbformat_minor": 5
}
